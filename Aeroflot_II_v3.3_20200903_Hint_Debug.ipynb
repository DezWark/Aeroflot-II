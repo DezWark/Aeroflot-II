{
 "cells": [
  {
   "cell_type": "markdown",
   "metadata": {},
   "source": [
    "## Use bonus plates (length of 4)\n",
    "## Important notes:\n",
    "### - new color model: number of channels = 4, one channel for each color  \n",
    "### - plate value encoded with a number: 0.1, 0.4, 1.0  \n",
    "### - v3.2: all helpers moved to external module\n",
    "### - v3.2: hint restored: s_before is now field after 'make_move'\n",
    "### - v3.3: debugging CNN since learning doesn't work"
   ]
  },
  {
   "cell_type": "code",
   "execution_count": 94,
   "metadata": {},
   "outputs": [
    {
     "name": "stdout",
     "output_type": "stream",
     "text": [
      "Populating the interactive namespace from numpy and matplotlib\n"
     ]
    }
   ],
   "source": [
    "# Needed for tests and a real game against the phone\n",
    "#import pandas as pd\n",
    "#import qgrid\n",
    "\n",
    "import random as rd\n",
    "import numpy as np\n",
    "import tensorflow as tf\n",
    "\n",
    "from collections import deque\n",
    "\n",
    "import environment as ae\n",
    "\n",
    "%pylab inline"
   ]
  },
  {
   "cell_type": "markdown",
   "metadata": {},
   "source": [
    "## Constants"
   ]
  },
  {
   "cell_type": "code",
   "execution_count": 95,
   "metadata": {},
   "outputs": [],
   "source": [
    "# CNN\n",
    "LEARNING_RATE = 0.01\n",
    "UPDATE_TARGET_NET = 1000\n",
    "MINIBATCH_SIZE = 64\n",
    "GAMMA = 0.99\n",
    "\n",
    "# Definitions\n",
    "GAMES_TO_PLAY = 131072\n",
    "REPLAY_MEMORY_SIZE = 131072\n",
    "DYNAMIC_LEARNING_EPOCHS = 5\n",
    "NUMBER_OF_MOVES_IN_GAME = 50\n",
    "\n",
    "# Variables\n",
    "MAXIMUM_SCORE = 0\n",
    "CNN_MOVE_PROB = 0.1\n",
    "CNN_MOVES_COUNT = 0\n",
    "CNN_SUCCESSFUL_PREDICTION = 0\n",
    "TOTAL_SCORE_500 = 0.0\n",
    "TOTAL_SUCCESSFUL_MOVES_500 = 0.0"
   ]
  },
  {
   "cell_type": "markdown",
   "metadata": {},
   "source": [
    "### Replay Memory Buffer"
   ]
  },
  {
   "cell_type": "code",
   "execution_count": 96,
   "metadata": {},
   "outputs": [],
   "source": [
    "#\n",
    "# Replay memory buffer\n",
    "#\n",
    "class ExperienceBuffer():\n",
    "    '''\n",
    "    Experience Replay Buffer\n",
    "    Inspired by Andrea Lonza\n",
    "    '''\n",
    "\n",
    "    def __init__(self, buffer_size, gamma):\n",
    "        # Constants\n",
    "        self.gamma = gamma\n",
    "        \n",
    "        # Main Replay Memory buffer parts\n",
    "        self.states_before = deque(maxlen=buffer_size)\n",
    "        self.actions = deque(maxlen=buffer_size)\n",
    "        self.total_rewards = deque(maxlen=buffer_size)\n",
    "        self.states_after = deque(maxlen=buffer_size)\n",
    "        self.last_moves = deque(maxlen=buffer_size)\n",
    "   \n",
    "    \n",
    "    def add(self, state_before, action, reward, state_after, last_move):\n",
    "        # Add certain items to corresponding buffers\n",
    "        self.states_before.append(state_before)\n",
    "        self.actions.append(action)\n",
    "        self.total_rewards.append(reward)\n",
    "        self.states_after.append(state_after)\n",
    "        self.last_moves.append(last_move)\n",
    "    \n",
    "    \n",
    "    def sample_minibatch(self, minibatch_size):\n",
    "        '''\n",
    "        Sample a minibatch of size batch_size\n",
    "        Note1: always add the most recent completed move\n",
    "        '''\n",
    "        indices = rd.sample(range(len(self.states_before) - 1), minibatch_size - 1)\n",
    "        # Add the most recent completed move index\n",
    "        indices.append(len(self.states_before) - 1)\n",
    "        \n",
    "        minibatch_states_before = np.array([self.states_before[i] for i in indices]) \n",
    "        minibatch_actions = np.array([self.actions[i] for i in indices]) \n",
    "        minibatch_total_rewards = np.array([self.total_rewards[i] for i in indices]) \n",
    "        minibatch_states_after = np.array([self.states_after[i] for i in indices])  \n",
    "        minibatch_last_moves = np.array([self.last_moves[i] for i in indices])   \n",
    "        \n",
    "        return minibatch_states_before, minibatch_actions, minibatch_total_rewards, minibatch_states_after, minibatch_last_moves\n",
    "    \n",
    "    \n",
    "    def __len__(self):\n",
    "        '''\n",
    "        Return length of the current replay memory buffer\n",
    "        Relevant for the first *minibatch_size* moves.\n",
    "        '''\n",
    "        return len(self.states_before)\n",
    "    \n",
    "    "
   ]
  },
  {
   "cell_type": "markdown",
   "metadata": {},
   "source": [
    "## Deep Q-Nework"
   ]
  },
  {
   "cell_type": "markdown",
   "metadata": {},
   "source": [
    "### Initialize Replay Buffer"
   ]
  },
  {
   "cell_type": "code",
   "execution_count": 97,
   "metadata": {},
   "outputs": [],
   "source": [
    "replay_memory = ExperienceBuffer(REPLAY_MEMORY_SIZE, GAMMA)"
   ]
  },
  {
   "cell_type": "markdown",
   "metadata": {},
   "source": [
    "### Initialize Online CNN and Target CNN"
   ]
  },
  {
   "cell_type": "code",
   "execution_count": 98,
   "metadata": {},
   "outputs": [],
   "source": [
    "# Online CNN\n",
    "Online_CNN = tf.keras.models.Sequential()\n",
    "Online_CNN.add(tf.keras.layers.Conv2D(128, kernel_size=3, strides = (1, 1), padding='same', activation=tf.keras.activations.tanh, data_format = 'channels_last', input_shape=(7, 6, 4)))\n",
    "Online_CNN.add(tf.keras.layers.Conv2D(192, kernel_size=3, strides = (1, 1), padding='same', activation=tf.keras.activations.tanh))    \n",
    "Online_CNN.add(tf.keras.layers.Flatten())                      \n",
    "Online_CNN.add(tf.keras.layers.Dense(ae.ACTIONS_DIMENSION, activation=tf.keras.activations.relu, kernel_initializer='RandomNormal'))\n",
    "\n",
    "# Target CNN\n",
    "Target_CNN = tf.keras.models.Sequential()\n",
    "Target_CNN.add(tf.keras.layers.Conv2D(128, kernel_size=3, strides = (1, 1), padding='same', activation=tf.keras.activations.tanh, data_format = 'channels_last', input_shape=(7, 6, 4)))\n",
    "Target_CNN.add(tf.keras.layers.Conv2D(192, kernel_size=3, strides = (1, 1), padding='same', activation=tf.keras.activations.tanh))    \n",
    "Target_CNN.add(tf.keras.layers.Flatten())                      \n",
    "Target_CNN.add(tf.keras.layers.Dense(ae.ACTIONS_DIMENSION, activation=tf.keras.activations.relu, kernel_initializer='RandomNormal'))\n",
    "\n",
    "# Initialize optimizer\n",
    "optimizer = tf.keras.optimizers.Adam(LEARNING_RATE)\n",
    "\n",
    "# Set weights equal\n",
    "Target_CNN.set_weights(Online_CNN.get_weights())"
   ]
  },
  {
   "cell_type": "code",
   "execution_count": 99,
   "metadata": {},
   "outputs": [],
   "source": [
    "# Number of moves made to follow the target CNN update strategy\n",
    "total_moves = 1"
   ]
  },
  {
   "cell_type": "code",
   "execution_count": null,
   "metadata": {},
   "outputs": [],
   "source": []
  },
  {
   "cell_type": "code",
   "execution_count": 100,
   "metadata": {},
   "outputs": [],
   "source": [
    "def loss(model, X, y_true, A):\n",
    "    prediction = model(X)\n",
    "    selected_action_values = tf.math.reduce_sum(prediction*A, axis=1)  \n",
    "    return tf.keras.losses.MSE(y_true, selected_action_values)\n",
    "\n",
    "\n",
    "def grad(model, inputs, targets, actions):\n",
    "    with tf.GradientTape() as tape:\n",
    "        loss_value = loss(model, inputs, targets, actions)\n",
    "    return loss_value, tape.gradient(loss_value, model.trainable_variables)"
   ]
  },
  {
   "cell_type": "markdown",
   "metadata": {},
   "source": [
    "## Dynamic Learning"
   ]
  },
  {
   "cell_type": "code",
   "execution_count": null,
   "metadata": {
    "scrolled": true
   },
   "outputs": [
    {
     "name": "stdout",
     "output_type": "stream",
     "text": [
      "New maximum: 39, after 0 games.\n",
      "New maximum: 50, after 1 games.\n",
      "New maximum: 70, after 2 games.\n",
      "New maximum: 78, after 7 games.\n",
      "New maximum: 105, after 10 games.\n",
      "New maximum: 123, after 20 games.\n",
      "New maximum: 145, after 44 games.\n",
      "New maximum: 149, after 100 games.\n",
      "New maximum: 153, after 164 games.\n",
      "New maximum: 179, after 279 games.\n",
      "New maximum: 199, after 436 games.\n",
      "Games: 500, last 500 games avg score: 61.66, avg of successful moves: 9.412, loss 19.453125\n",
      "CNN made 2547 moves. Successful were 172\n",
      "Games: 1000, last 500 games avg score: 60.322, avg of successful moves: 8.9, loss 5.83530330657959\n",
      "CNN made 2507 moves. Successful were 144\n",
      "Games: 1500, last 500 games avg score: 56.604, avg of successful moves: 8.738, loss 20.96875\n",
      "CNN made 2556 moves. Successful were 143\n",
      "Games: 2000, last 500 games avg score: 58.966, avg of successful moves: 9.174, loss 8.40625\n",
      "CNN made 2511 moves. Successful were 156\n",
      "Games: 2500, last 500 games avg score: 59.814, avg of successful moves: 9.218, loss 11.484375\n",
      "CNN made 2514 moves. Successful were 158\n",
      "Games: 3000, last 500 games avg score: 59.66, avg of successful moves: 9.094, loss 14.90625\n",
      "CNN made 2529 moves. Successful were 139\n",
      "Games: 3500, last 500 games avg score: 59.84, avg of successful moves: 9.092, loss 23.140625\n",
      "CNN made 2481 moves. Successful were 128\n",
      "Games: 4000, last 500 games avg score: 60.234, avg of successful moves: 9.142, loss 3.53125\n",
      "CNN made 2528 moves. Successful were 160\n",
      "Games: 4500, last 500 games avg score: 58.228, avg of successful moves: 8.974, loss 9.142878532409668\n",
      "CNN made 2525 moves. Successful were 151\n",
      "Games: 5000, last 500 games avg score: 59.212, avg of successful moves: 9.106, loss 4.609375\n",
      "CNN made 2445 moves. Successful were 148\n",
      "Games: 5500, last 500 games avg score: 61.25, avg of successful moves: 9.274, loss 9.03125\n",
      "CNN made 2519 moves. Successful were 151\n",
      "Games: 6000, last 500 games avg score: 60.512, avg of successful moves: 9.26, loss 7.34375\n",
      "CNN made 2458 moves. Successful were 132\n",
      "Games: 6500, last 500 games avg score: 58.646, avg of successful moves: 9.3, loss 11.84375\n",
      "CNN made 2513 moves. Successful were 124\n",
      "Games: 7000, last 500 games avg score: 60.632, avg of successful moves: 9.172, loss 31.421875\n",
      "CNN made 2473 moves. Successful were 135\n",
      "Games: 7500, last 500 games avg score: 58.708, avg of successful moves: 9.112, loss 4.734375\n",
      "CNN made 2515 moves. Successful were 146\n",
      "Games: 8000, last 500 games avg score: 58.678, avg of successful moves: 9.184, loss 20.359375\n",
      "CNN made 2489 moves. Successful were 153\n",
      "Games: 8500, last 500 games avg score: 59.382, avg of successful moves: 9.086, loss 36.671875\n",
      "CNN made 2445 moves. Successful were 142\n",
      "Games: 9000, last 500 games avg score: 57.854, avg of successful moves: 9.022, loss 19.171875\n",
      "CNN made 2523 moves. Successful were 170\n",
      "Games: 9500, last 500 games avg score: 61.858, avg of successful moves: 9.234, loss 7.0625\n",
      "CNN made 2505 moves. Successful were 144\n",
      "Games: 10000, last 500 games avg score: 60.058, avg of successful moves: 9.076, loss 30.984375\n",
      "CNN made 2458 moves. Successful were 136\n",
      "Games: 10500, last 500 games avg score: 57.464, avg of successful moves: 8.962, loss 10.234375\n",
      "CNN made 2539 moves. Successful were 160\n",
      "Games: 11000, last 500 games avg score: 59.44, avg of successful moves: 9.17, loss 6.546875\n",
      "CNN made 2513 moves. Successful were 146\n",
      "Games: 11500, last 500 games avg score: 60.256, avg of successful moves: 9.166, loss 16.078125\n",
      "CNN made 2545 moves. Successful were 124\n",
      "Games: 12000, last 500 games avg score: 56.39, avg of successful moves: 9.056, loss 4.046875\n",
      "CNN made 2462 moves. Successful were 149\n",
      "Games: 12500, last 500 games avg score: 61.886, avg of successful moves: 9.306, loss 27.28125\n",
      "CNN made 2470 moves. Successful were 133\n"
     ]
    }
   ],
   "source": [
    "%%time\n",
    "                                                      \n",
    "for game in range(GAMES_TO_PLAY):\n",
    "    # Start one game\n",
    "    game_score = 0\n",
    "    successful_moves = 0\n",
    "\n",
    "    # Initialize the game field\n",
    "    field = np.zeros((7, 6, 4))\n",
    "    field = ae.initialize_field_3D(field)\n",
    "\n",
    "    for m in range(NUMBER_OF_MOVES_IN_GAME):\n",
    "        # Total score of one move\n",
    "        reward = 0\n",
    "\n",
    "        # Whether CNN made the move\n",
    "        cnn_made_move_flag = False\n",
    "        \n",
    "        # If replay_memory has less than 64 moves, then make a random move\n",
    "        if ((len(replay_memory) < MINIBATCH_SIZE) or (rd.random() > CNN_MOVE_PROB)):\n",
    "            move = rd.randint(1, ae.ACTIONS_DIMENSION)\n",
    "        else:\n",
    "            # CNN selects a move\n",
    "            cnn_made_move_flag = True\n",
    "            CNN_MOVES_COUNT = CNN_MOVES_COUNT + 1\n",
    "            _, move = ae.predict_max_score_3D(field.copy(), Target_CNN, ae.ACTIONS_DIMENSION, ae.MOVES)\n",
    "\n",
    "        # Make the move\n",
    "        new_field, plate_a, plate_b = ae.make_move_v2_3D(field.copy(), move, ae.MOVES)\n",
    "        field_after_move = new_field.copy()\n",
    "\n",
    "        # Calculate the score and update the field\n",
    "        score, new_field = ae.calculate_score_v2_3D(new_field, plate_a, plate_b)\n",
    "        \n",
    "        # If the move is successful, then update the field and check if we have new sets        \n",
    "        successful_move_flag = False\n",
    "\n",
    "        # While we have new sets (thus the score is greater than 0), process them, calculate score and move plates\n",
    "        while (score > 0.):\n",
    "            if (not successful_move_flag):\n",
    "                successful_moves = successful_moves + 1\n",
    "                successful_move_flag = True\n",
    "\n",
    "            # Add new points to the total score of the move\n",
    "            reward = reward + score\n",
    "\n",
    "            # Move plates downward, fill the upper row so, that it doesn't have \"easy\" sets of three\n",
    "            # Start from the left lower corner (in order to reuse color_fits())\n",
    "            new_field = ae.fill_field_3D(new_field)\n",
    "\n",
    "            # Calculate score and check whether we have new sets\n",
    "            score, new_field = ae.calculate_score_v2_3D(new_field, (-1, -1), (-1, -1))\n",
    "\n",
    "        # Increase the score of the whole game\n",
    "        game_score = game_score + reward\n",
    "        \n",
    "        # Check whether it's the last move of the current game\n",
    "        last_move = m == NUMBER_OF_MOVES_IN_GAME - 1         \n",
    "\n",
    "        # Add new move to the replay memory\n",
    "        if (successful_move_flag):\n",
    "            replay_memory.add(field_after_move, move, reward, new_field, last_move)\n",
    "            \n",
    "            # Update CNN move statistics\n",
    "            if (cnn_made_move_flag):    \n",
    "                CNN_SUCCESSFUL_PREDICTION = CNN_SUCCESSFUL_PREDICTION + 1               \n",
    "                \n",
    "        else:\n",
    "            replay_memory.add(field, move, 0, field, last_move)   \n",
    "        \n",
    "        #\n",
    "        # Train CNN based on the score\n",
    "        #\n",
    "        if (len(replay_memory) >= MINIBATCH_SIZE):\n",
    "            # Select random MINIBATCH_SIZE moves from replay memory buffer\n",
    "            samples = replay_memory.sample_minibatch(MINIBATCH_SIZE)\n",
    "\n",
    "            # Prepare some things for training\n",
    "            s_before = samples[0]\n",
    "            actions = samples[1]\n",
    "            rewards = samples[2]\n",
    "            s_after = samples[3] \n",
    "            dones = samples[4]\n",
    "            \n",
    "            # Carefully predict next rewards: we must use predict_max_score\n",
    "            rewards_next = np.zeros((64))\n",
    "            \n",
    "            for item in range(MINIBATCH_SIZE):\n",
    "                # Calculate future rewards ONLY if current reward is NOT zero, otherwise no sense\n",
    "                if (rewards[item] > 0):\n",
    "                    rewards_next[item], _ = ae.predict_max_score_3D(s_after[item], Target_CNN, ae.ACTIONS_DIMENSION, ae.MOVES)\n",
    "\n",
    "            actual_values = np.where(dones, rewards, rewards + GAMMA*rewards_next)\n",
    "            selected_actions = tf.one_hot(actions - 1, ae.ACTIONS_DIMENSION)\n",
    "            \n",
    "            # Update online CNN weights: training step\n",
    "            for _ in range(DYNAMIC_LEARNING_EPOCHS):             \n",
    "                loss_value, grads = grad(Online_CNN, s_before, actual_values, selected_actions)\n",
    "                optimizer.apply_gradients(zip(grads, Online_CNN.trainable_variables))\n",
    "\n",
    "        # If move is successful, update the play field\n",
    "        if (successful_move_flag):\n",
    "            field = np.copy(new_field)\n",
    "            \n",
    "        # After each 1000 moves update target CNN\n",
    "        if (total_moves % UPDATE_TARGET_NET == 0):\n",
    "            Target_CNN.set_weights(Online_CNN.get_weights())\n",
    "            \n",
    "        total_moves = total_moves + 1\n",
    "\n",
    "    #\n",
    "    # Calculate and display overall stats\n",
    "    #\n",
    "    # Check whether we have new maximum score\n",
    "    if (game_score > MAXIMUM_SCORE):\n",
    "        print(f\"New maximum: {game_score}, after {game} games.\")\n",
    "        MAXIMUM_SCORE = game_score\n",
    "        \n",
    "    # After each 500 games output average game score, average number of successful moves per game\n",
    "    TOTAL_SCORE_500 = TOTAL_SCORE_500 + game_score\n",
    "    TOTAL_SUCCESSFUL_MOVES_500 = TOTAL_SUCCESSFUL_MOVES_500 + successful_moves\n",
    "    \n",
    "    if ((game % 500 == 0) and (game > 0)):\n",
    "        avg_score = TOTAL_SCORE_500 / 500\n",
    "        TOTAL_SCORE_500 = 0.0\n",
    "        \n",
    "        avg_succ_moves = TOTAL_SUCCESSFUL_MOVES_500 / 500\n",
    "        TOTAL_SUCCESSFUL_MOVES_500 = 0.0\n",
    "\n",
    "        print(f\"Games: {game}, last 500 games avg score: {avg_score}, avg of successful moves: {avg_succ_moves}, loss {loss_value.numpy()}\")        \n",
    "        print(f\"CNN made {CNN_MOVES_COUNT} moves. Successful were {CNN_SUCCESSFUL_PREDICTION}\")\n",
    "        \n",
    "        if (CNN_SUCCESSFUL_PREDICTION / CNN_MOVES_COUNT >= CNN_MOVE_PROB):\n",
    "            CNN_MOVE_PROB = CNN_MOVE_PROB + 0.1\n",
    "            \n",
    "        CNN_MOVES_COUNT = 0\n",
    "        CNN_SUCCESSFUL_PREDICTION = 0\n"
   ]
  },
  {
   "cell_type": "code",
   "execution_count": 79,
   "metadata": {},
   "outputs": [
    {
     "data": {
      "text/plain": [
       "(64,)"
      ]
     },
     "execution_count": 79,
     "metadata": {},
     "output_type": "execute_result"
    }
   ],
   "source": [
    "rewards_next.shape"
   ]
  },
  {
   "cell_type": "code",
   "execution_count": 80,
   "metadata": {},
   "outputs": [
    {
     "data": {
      "text/plain": [
       "(64,)"
      ]
     },
     "execution_count": 80,
     "metadata": {},
     "output_type": "execute_result"
    }
   ],
   "source": [
    "rewards_next = np.zeros((64))\n",
    "actual_values = np.where(dones, rewards, rewards + GAMMA*rewards_next)\n",
    "actual_values.shape"
   ]
  },
  {
   "cell_type": "code",
   "execution_count": 81,
   "metadata": {},
   "outputs": [
    {
     "data": {
      "text/plain": [
       "(64,)"
      ]
     },
     "execution_count": 81,
     "metadata": {},
     "output_type": "execute_result"
    }
   ],
   "source": [
    "rewards_next.shape"
   ]
  },
  {
   "cell_type": "code",
   "execution_count": 82,
   "metadata": {},
   "outputs": [
    {
     "data": {
      "text/plain": [
       "(7, 6, 4)"
      ]
     },
     "execution_count": 82,
     "metadata": {},
     "output_type": "execute_result"
    }
   ],
   "source": [
    "s_after[0].shape"
   ]
  },
  {
   "cell_type": "code",
   "execution_count": 83,
   "metadata": {},
   "outputs": [
    {
     "data": {
      "text/plain": [
       "(7, 6, 4)"
      ]
     },
     "execution_count": 83,
     "metadata": {},
     "output_type": "execute_result"
    }
   ],
   "source": [
    "field.shape"
   ]
  },
  {
   "cell_type": "code",
   "execution_count": 84,
   "metadata": {},
   "outputs": [
    {
     "data": {
      "text/plain": [
       "TensorShape([64, 142])"
      ]
     },
     "execution_count": 84,
     "metadata": {},
     "output_type": "execute_result"
    }
   ],
   "source": [
    "selected_actions.shape"
   ]
  },
  {
   "cell_type": "code",
   "execution_count": 85,
   "metadata": {},
   "outputs": [
    {
     "name": "stdout",
     "output_type": "stream",
     "text": [
      "211\n"
     ]
    }
   ],
   "source": [
    "# tensorboard --logdir=./logs --bind_all &\n",
    "\n",
    "print(MAXIMUM_SCORE)"
   ]
  },
  {
   "cell_type": "markdown",
   "metadata": {},
   "source": [
    "## Debuggin the Hint"
   ]
  },
  {
   "cell_type": "code",
   "execution_count": 86,
   "metadata": {},
   "outputs": [],
   "source": [
    "# Total score of one move\n",
    "reward = 0\n",
    "\n",
    "# Whether CNN made the move\n",
    "cnn_made_move_flag = False\n",
    "\n",
    "# If replay_memory has less than 64 moves, then make a random move\n",
    "if ((len(replay_memory) < MINIBATCH_SIZE) or (rd.random() > CNN_MOVE_PROB)):\n",
    "    move = rd.randint(1, ae.ACTIONS_DIMENSION)\n",
    "else:\n",
    "    # CNN selects a move\n",
    "    cnn_made_move_flag = True\n",
    "    CNN_MOVES_COUNT = CNN_MOVES_COUNT + 1\n",
    "    scr, move = ae.predict_max_score_3D(field.copy(), Target_CNN, ae.ACTIONS_DIMENSION, ae.MOVES)\n",
    "    print(f\"Predicted move {move} with score of {scr}\")"
   ]
  },
  {
   "cell_type": "code",
   "execution_count": 87,
   "metadata": {},
   "outputs": [
    {
     "name": "stdout",
     "output_type": "stream",
     "text": [
      "0\n"
     ]
    }
   ],
   "source": [
    "# Make the move\n",
    "new_field, plate_a, plate_b = ae.make_move_v2_3D(field.copy(), move, ae.MOVES)\n",
    "field_after_move = new_field.copy()\n",
    "\n",
    "# Calculate the score and update the field\n",
    "score, new_field = ae.calculate_score_v2_3D(new_field, plate_a, plate_b)\n",
    "\n",
    "# If the move is successful, then update the field and check if we have new sets        \n",
    "successful_move_flag = False\n",
    "\n",
    "# While we have new sets (thus the score is greater than 0), process them, calculate score and move plates\n",
    "while (score > 0.):\n",
    "    if (not successful_move_flag):\n",
    "        successful_moves = successful_moves + 1\n",
    "        successful_move_flag = True\n",
    "\n",
    "    # Add new points to the total score of the move\n",
    "    reward = reward + score\n",
    "\n",
    "    # Move plates downward, fill the upper row so, that it doesn't have \"easy\" sets of three\n",
    "    # Start from the left lower corner (in order to reuse color_fits())\n",
    "    new_field = ae.fill_field_3D(new_field)\n",
    "\n",
    "    # Calculate score and check whether we have new sets\n",
    "    score, new_field = ae.calculate_score_v2_3D(new_field, (-1, -1), (-1, -1))\n",
    "\n",
    "print(reward)\n"
   ]
  },
  {
   "cell_type": "code",
   "execution_count": 88,
   "metadata": {},
   "outputs": [],
   "source": [
    "\n",
    "#\n",
    "# Train CNN based on the score\n",
    "#\n",
    "\n",
    "samples = replay_memory.sample_minibatch(MINIBATCH_SIZE)\n",
    "\n",
    "# Prepare some things for training\n",
    "s_before = samples[0]\n",
    "actions = samples[1]\n",
    "rewards = samples[2]\n",
    "s_after = samples[3] \n",
    "dones = samples[4]\n"
   ]
  },
  {
   "cell_type": "code",
   "execution_count": 89,
   "metadata": {},
   "outputs": [],
   "source": [
    "def loss(model, X, y_true, A):\n",
    "    prediction = model(X)\n",
    "    selected_action_values = tf.math.reduce_sum(prediction*A, axis=1)  \n",
    "    return tf.keras.losses.MSE(y_true, selected_action_values)\n",
    "\n",
    "\n",
    "def grad(model, inputs, targets, actions):\n",
    "    with tf.GradientTape() as tape:\n",
    "        loss_value = loss(model, inputs, targets, actions)\n",
    "    return loss_value, tape.gradient(loss_value, model.trainable_variables)"
   ]
  },
  {
   "cell_type": "code",
   "execution_count": 90,
   "metadata": {},
   "outputs": [],
   "source": [
    "rewards_next = np.max(Target_CNN(s_after), axis=1)\n",
    "actual_values = np.where(dones, rewards, rewards + GAMMA*rewards_next)\n",
    "selected_actions = tf.one_hot(actions, ae.ACTIONS_DIMENSION)"
   ]
  },
  {
   "cell_type": "code",
   "execution_count": 91,
   "metadata": {},
   "outputs": [
    {
     "name": "stdout",
     "output_type": "stream",
     "text": [
      "Step: 1497185, Initial Loss: 16.59375\n",
      "Step: 1497186, Loss: 16.59375\n"
     ]
    }
   ],
   "source": [
    "loss_value, grads = grad(Online_CNN, s_before, actual_values, selected_actions)\n",
    "\n",
    "print(\"Step: {}, Initial Loss: {}\".format(optimizer.iterations.numpy(), loss_value.numpy()))\n",
    "\n",
    "optimizer.apply_gradients(zip(grads, Online_CNN.trainable_variables))\n",
    "\n",
    "print(\"Step: {}, Loss: {}\".format(optimizer.iterations.numpy(), loss(Online_CNN, s_before, actual_values, selected_actions).numpy()))"
   ]
  },
  {
   "cell_type": "code",
   "execution_count": null,
   "metadata": {},
   "outputs": [],
   "source": []
  },
  {
   "cell_type": "code",
   "execution_count": null,
   "metadata": {
    "scrolled": false
   },
   "outputs": [],
   "source": []
  },
  {
   "cell_type": "code",
   "execution_count": null,
   "metadata": {},
   "outputs": [],
   "source": []
  },
  {
   "cell_type": "code",
   "execution_count": null,
   "metadata": {},
   "outputs": [],
   "source": []
  },
  {
   "cell_type": "code",
   "execution_count": null,
   "metadata": {},
   "outputs": [],
   "source": []
  },
  {
   "cell_type": "code",
   "execution_count": null,
   "metadata": {},
   "outputs": [],
   "source": []
  },
  {
   "cell_type": "code",
   "execution_count": null,
   "metadata": {},
   "outputs": [],
   "source": []
  },
  {
   "cell_type": "code",
   "execution_count": null,
   "metadata": {},
   "outputs": [],
   "source": []
  },
  {
   "cell_type": "code",
   "execution_count": null,
   "metadata": {},
   "outputs": [],
   "source": []
  },
  {
   "cell_type": "code",
   "execution_count": null,
   "metadata": {},
   "outputs": [],
   "source": []
  },
  {
   "cell_type": "code",
   "execution_count": null,
   "metadata": {},
   "outputs": [],
   "source": []
  },
  {
   "cell_type": "code",
   "execution_count": null,
   "metadata": {},
   "outputs": [],
   "source": []
  },
  {
   "cell_type": "code",
   "execution_count": null,
   "metadata": {},
   "outputs": [],
   "source": []
  },
  {
   "cell_type": "code",
   "execution_count": null,
   "metadata": {
    "scrolled": true
   },
   "outputs": [],
   "source": []
  },
  {
   "cell_type": "code",
   "execution_count": null,
   "metadata": {},
   "outputs": [],
   "source": []
  },
  {
   "cell_type": "code",
   "execution_count": null,
   "metadata": {},
   "outputs": [],
   "source": []
  },
  {
   "cell_type": "markdown",
   "metadata": {},
   "source": [
    "### Now the CNN has been trained.\n",
    "### Start the long reinforcement-learning cycle"
   ]
  },
  {
   "cell_type": "code",
   "execution_count": null,
   "metadata": {},
   "outputs": [],
   "source": []
  },
  {
   "cell_type": "code",
   "execution_count": null,
   "metadata": {},
   "outputs": [],
   "source": []
  },
  {
   "cell_type": "code",
   "execution_count": null,
   "metadata": {},
   "outputs": [],
   "source": []
  },
  {
   "cell_type": "code",
   "execution_count": 92,
   "metadata": {
    "scrolled": true
   },
   "outputs": [
    {
     "data": {
      "text/plain": [
       "2"
      ]
     },
     "execution_count": 92,
     "metadata": {},
     "output_type": "execute_result"
    }
   ],
   "source": [
    "successful_moves"
   ]
  },
  {
   "cell_type": "code",
   "execution_count": 93,
   "metadata": {},
   "outputs": [
    {
     "ename": "NameError",
     "evalue": "name 'make_move' is not defined",
     "output_type": "error",
     "traceback": [
      "\u001b[0;31m---------------------------------------------------------------------------\u001b[0m",
      "\u001b[0;31mNameError\u001b[0m                                 Traceback (most recent call last)",
      "\u001b[0;32m<ipython-input-93-ec33e9bb6c99>\u001b[0m in \u001b[0;36m<module>\u001b[0;34m\u001b[0m\n\u001b[0;32m----> 1\u001b[0;31m \u001b[0mnew_field\u001b[0m \u001b[0;34m=\u001b[0m \u001b[0mmake_move\u001b[0m\u001b[0;34m(\u001b[0m\u001b[0mfield\u001b[0m\u001b[0;34m,\u001b[0m \u001b[0mmove\u001b[0m\u001b[0;34m)\u001b[0m\u001b[0;34m\u001b[0m\u001b[0;34m\u001b[0m\u001b[0m\n\u001b[0m\u001b[1;32m      2\u001b[0m \u001b[0mprint\u001b[0m\u001b[0;34m(\u001b[0m\u001b[0mnew_field\u001b[0m\u001b[0;34m)\u001b[0m\u001b[0;34m\u001b[0m\u001b[0;34m\u001b[0m\u001b[0m\n",
      "\u001b[0;31mNameError\u001b[0m: name 'make_move' is not defined"
     ]
    }
   ],
   "source": [
    "new_field = make_move(field, move)\n",
    "print(new_field)"
   ]
  },
  {
   "cell_type": "code",
   "execution_count": null,
   "metadata": {},
   "outputs": [],
   "source": [
    "temp_field = calculate_score(new_field)"
   ]
  },
  {
   "cell_type": "code",
   "execution_count": null,
   "metadata": {},
   "outputs": [],
   "source": [
    "new_field = np.multiply(new_field, 1.0 - temp_field)"
   ]
  },
  {
   "cell_type": "code",
   "execution_count": null,
   "metadata": {},
   "outputs": [],
   "source": [
    "fill_field(new_field, colors)"
   ]
  },
  {
   "cell_type": "code",
   "execution_count": null,
   "metadata": {},
   "outputs": [],
   "source": []
  },
  {
   "cell_type": "code",
   "execution_count": null,
   "metadata": {},
   "outputs": [],
   "source": [
    "#\n",
    "# Save model\n",
    "#\n",
    "# v1: 20190329, trained on len(replay_memory) = 294912\n",
    "#aero_cnn.save(\"Aero_CNN_v1\")"
   ]
  },
  {
   "cell_type": "code",
   "execution_count": null,
   "metadata": {},
   "outputs": [],
   "source": []
  },
  {
   "cell_type": "markdown",
   "metadata": {},
   "source": [
    "## Backup"
   ]
  },
  {
   "cell_type": "code",
   "execution_count": null,
   "metadata": {},
   "outputs": [],
   "source": [
    "#\n",
    "# Create the moves dictionary\n",
    "#\n",
    "moves = {}\n",
    "\n",
    "for i in range(1, 143):\n",
    "    old_row, old_column, old_direction = process_move_142(i)\n",
    "    \n",
    "    start_row = old_row - 1\n",
    "    start_col = old_column - 1\n",
    "    \n",
    "    if (old_direction == \"down\"):\n",
    "        end_row = start_row + 1\n",
    "        end_col = start_col\n",
    "    elif (old_direction == \"up\"):\n",
    "        end_row = start_row - 1\n",
    "        end_col = start_col\n",
    "    elif (old_direction == \"right\"):\n",
    "        end_row = start_row\n",
    "        end_col = start_col + 1\n",
    "    else:\n",
    "        end_row = start_row\n",
    "        end_col = start_col - 1\n",
    "        \n",
    "    moves[i] = ((start_row, start_col), (end_row, end_col))\n",
    "    \n",
    "print(moves)"
   ]
  }
 ],
 "metadata": {
  "kernelspec": {
   "display_name": "Python 3",
   "language": "python",
   "name": "python3"
  },
  "language_info": {
   "codemirror_mode": {
    "name": "ipython",
    "version": 3
   },
   "file_extension": ".py",
   "mimetype": "text/x-python",
   "name": "python",
   "nbconvert_exporter": "python",
   "pygments_lexer": "ipython3",
   "version": "3.8.5"
  }
 },
 "nbformat": 4,
 "nbformat_minor": 2
}
