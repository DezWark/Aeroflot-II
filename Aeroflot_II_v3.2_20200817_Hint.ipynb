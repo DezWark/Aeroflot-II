{
 "cells": [
  {
   "cell_type": "markdown",
   "metadata": {},
   "source": [
    "## Use bonus plates (length of 4)\n",
    "## Important notes:\n",
    "### - new color model: number of channels = 4, one channel for each color  \n",
    "### - plate value encoded with a number: 0.1, 0.4, 1.0  \n",
    "### - v3.2: all helpers moved to external module\n",
    "### - v3.2: hint restored: s_before is now field after 'make_move'"
   ]
  },
  {
   "cell_type": "code",
   "execution_count": 1,
   "metadata": {},
   "outputs": [
    {
     "name": "stdout",
     "output_type": "stream",
     "text": [
      "Populating the interactive namespace from numpy and matplotlib\n"
     ]
    }
   ],
   "source": [
    "# Needed for tests and a real game against the phone\n",
    "#import pandas as pd\n",
    "#import qgrid\n",
    "\n",
    "import random as rd\n",
    "import numpy as np\n",
    "import tensorflow as tf\n",
    "\n",
    "from collections import deque\n",
    "\n",
    "import environment as ae\n",
    "\n",
    "%pylab inline"
   ]
  },
  {
   "cell_type": "markdown",
   "metadata": {},
   "source": [
    "## Constants"
   ]
  },
  {
   "cell_type": "code",
   "execution_count": 9,
   "metadata": {},
   "outputs": [],
   "source": [
    "# CNN\n",
    "LEARNING_RATE = 0.01\n",
    "UPDATE_TARGET_NET = 1000\n",
    "MINIBATCH_SIZE = 64\n",
    "GAMMA = 0.99\n",
    "\n",
    "# Definitions\n",
    "GAMES_TO_PLAY = 120001\n",
    "REPLAY_MEMORY_SIZE = 131072\n",
    "DYNAMIC_LEARNING_EPOCHS = 10\n",
    "NUMBER_OF_MOVES_IN_GAME = 50\n",
    "\n",
    "# Variables\n",
    "MAXIMUM_SCORE = 0\n",
    "CNN_MOVE_PROB = 0.1\n",
    "CNN_MOVES_COUNT = 0\n",
    "CNN_SUCCESSFUL_PREDICTION = 0\n",
    "TOTAL_SCORE_500 = 0.0\n",
    "TOTAL_SUCCESSFUL_MOVES_500 = 0.0"
   ]
  },
  {
   "cell_type": "markdown",
   "metadata": {},
   "source": [
    "### Replay Memory Buffer"
   ]
  },
  {
   "cell_type": "code",
   "execution_count": 10,
   "metadata": {},
   "outputs": [],
   "source": [
    "#\n",
    "# Replay memory buffer\n",
    "#\n",
    "class ExperienceBuffer():\n",
    "    '''\n",
    "    Experience Replay Buffer\n",
    "    Inspired by Andrea Lonza\n",
    "    '''\n",
    "\n",
    "    def __init__(self, buffer_size, gamma):\n",
    "        # Constants\n",
    "        self.gamma = gamma\n",
    "        \n",
    "        # Main Replay Memory buffer parts\n",
    "        self.states_before = deque(maxlen=buffer_size)\n",
    "        self.actions = deque(maxlen=buffer_size)\n",
    "        self.total_rewards = deque(maxlen=buffer_size)\n",
    "        self.states_after = deque(maxlen=buffer_size)\n",
    "        self.last_moves = deque(maxlen=buffer_size)\n",
    "   \n",
    "    \n",
    "    def add(self, state_before, action, reward, state_after, last_move):\n",
    "        # Add certain items to corresponding buffers\n",
    "        self.states_before.append(state_before)\n",
    "        self.actions.append(action)\n",
    "        self.total_rewards.append(reward)\n",
    "        self.states_after.append(state_after)\n",
    "        self.last_moves.append(last_move)\n",
    "    \n",
    "    \n",
    "    def sample_minibatch(self, minibatch_size):\n",
    "        '''\n",
    "        Sample a minibatch of size batch_size\n",
    "        Note1: always add the most recent completed move\n",
    "        '''\n",
    "        indices = rd.sample(range(len(self.states_before) - 1), minibatch_size - 1)\n",
    "        # Add the most recent completed move index\n",
    "        indices.append(len(self.states_before) - 1)\n",
    "        \n",
    "        minibatch_states_before = np.array([self.states_before[i] for i in indices]) \n",
    "        minibatch_actions = np.array([self.actions[i] for i in indices]) \n",
    "        minibatch_total_rewards = np.array([self.total_rewards[i] for i in indices]) \n",
    "        minibatch_states_after = np.array([self.states_after[i] for i in indices])  \n",
    "        minibatch_last_moves = np.array([self.last_moves[i] for i in indices])   \n",
    "        \n",
    "        return minibatch_states_before, minibatch_actions, minibatch_total_rewards, minibatch_states_after, minibatch_last_moves\n",
    "    \n",
    "    \n",
    "    def __len__(self):\n",
    "        '''\n",
    "        Return length of the current replay memory buffer\n",
    "        Relevant for the first *minibatch_size* moves.\n",
    "        '''\n",
    "        return len(self.states_before)\n",
    "    \n",
    "    "
   ]
  },
  {
   "cell_type": "markdown",
   "metadata": {},
   "source": [
    "## Deep Q-Nework"
   ]
  },
  {
   "cell_type": "markdown",
   "metadata": {},
   "source": [
    "### Initialize Replay Buffer"
   ]
  },
  {
   "cell_type": "code",
   "execution_count": 11,
   "metadata": {},
   "outputs": [],
   "source": [
    "replay_memory = ExperienceBuffer(REPLAY_MEMORY_SIZE, GAMMA)"
   ]
  },
  {
   "cell_type": "markdown",
   "metadata": {},
   "source": [
    "### Initialize Online CNN and Target CNN"
   ]
  },
  {
   "cell_type": "code",
   "execution_count": 12,
   "metadata": {},
   "outputs": [],
   "source": [
    "# Online CNN\n",
    "Online_CNN = tf.keras.models.Sequential()\n",
    "Online_CNN.add(tf.keras.layers.Conv2D(64, kernel_size=3, strides = (1, 1), padding='same', activation=tf.keras.activations.relu, data_format = 'channels_last', input_shape=(7, 6, 4)))\n",
    "Online_CNN.add(tf.keras.layers.Conv2D(128, kernel_size=3, strides = (1, 1), padding='same', activation=tf.keras.activations.relu))    \n",
    "Online_CNN.add(tf.keras.layers.Flatten())                      \n",
    "Online_CNN.add(tf.keras.layers.Dense(ae.ACTIONS_DIMENSION, activation=tf.keras.activations.relu, kernel_initializer='RandomNormal'))\n",
    "\n",
    "# Target CNN\n",
    "Target_CNN = tf.keras.models.Sequential()\n",
    "Target_CNN.add(tf.keras.layers.Conv2D(64, kernel_size=3, strides = (1, 1), padding='same', activation=tf.keras.activations.relu, data_format = 'channels_last', input_shape=(7, 6, 4)))\n",
    "Target_CNN.add(tf.keras.layers.Conv2D(128, kernel_size=3, strides = (1, 1), padding='same', activation=tf.keras.activations.relu))    \n",
    "Target_CNN.add(tf.keras.layers.Flatten())                      \n",
    "Target_CNN.add(tf.keras.layers.Dense(ae.ACTIONS_DIMENSION, activation=tf.keras.activations.relu, kernel_initializer='RandomNormal'))\n",
    "\n",
    "# Initialize optimizer\n",
    "optimizer = tf.keras.optimizers.Adam(LEARNING_RATE)\n",
    "\n",
    "# Set weights equal\n",
    "Target_CNN.set_weights(Online_CNN.get_weights())"
   ]
  },
  {
   "cell_type": "code",
   "execution_count": 13,
   "metadata": {},
   "outputs": [],
   "source": [
    "# Number of moves made to follow the target CNN update strategy\n",
    "total_moves = 1"
   ]
  },
  {
   "cell_type": "code",
   "execution_count": null,
   "metadata": {},
   "outputs": [],
   "source": []
  },
  {
   "cell_type": "markdown",
   "metadata": {},
   "source": [
    "## Dynamic Learning"
   ]
  },
  {
   "cell_type": "code",
   "execution_count": null,
   "metadata": {
    "scrolled": true
   },
   "outputs": [
    {
     "name": "stdout",
     "output_type": "stream",
     "text": [
      "New maximum: 69, after 0 games.\n",
      "New maximum: 141, after 8 games.\n",
      "New maximum: 158, after 90 games.\n",
      "New maximum: 160, after 451 games.\n",
      "Games: 500, last 500 games avg score: 64.182, avg of successful moves: 9.656, loss 13369644.0\n",
      "CNN made 2417 moves. Successful were 416\n",
      "New maximum: 182, after 839 games.\n",
      "Games: 1000, last 500 games avg score: 61.73, avg of successful moves: 9.142, loss 1595164065792.0\n",
      "CNN made 4982 moves. Successful were 654\n",
      "New maximum: 192, after 1225 games.\n",
      "Games: 1500, last 500 games avg score: 62.164, avg of successful moves: 9.232, loss 3906157328465920.0\n",
      "CNN made 5010 moves. Successful were 658\n",
      "Games: 2000, last 500 games avg score: 59.972, avg of successful moves: 9.108, loss 1.0257667816056422e+17\n",
      "CNN made 5066 moves. Successful were 671\n",
      "Games: 2500, last 500 games avg score: 62.142, avg of successful moves: 9.262, loss 8.759537009363517e+17\n",
      "CNN made 5108 moves. Successful were 724\n",
      "New maximum: 200, after 2857 games.\n",
      "Games: 3000, last 500 games avg score: 63.422, avg of successful moves: 9.254, loss 3.9094279417668567e+18\n",
      "CNN made 4931 moves. Successful were 715\n",
      "Games: 3500, last 500 games avg score: 60.958, avg of successful moves: 9.032, loss 1.1409927930059424e+19\n",
      "CNN made 4969 moves. Successful were 679\n",
      "Games: 4000, last 500 games avg score: 59.112, avg of successful moves: 8.876, loss 2.1957154847709987e+19\n",
      "CNN made 4992 moves. Successful were 592\n",
      "Games: 4500, last 500 games avg score: 58.736, avg of successful moves: 8.92, loss 5.152872678493153e+19\n",
      "CNN made 4965 moves. Successful were 578\n",
      "Games: 5000, last 500 games avg score: 58.18, avg of successful moves: 8.74, loss 7.262075509758178e+19\n",
      "CNN made 5054 moves. Successful were 506\n",
      "Games: 5500, last 500 games avg score: 57.562, avg of successful moves: 8.762, loss 3.5192394125668254e+19\n",
      "CNN made 4985 moves. Successful were 474\n",
      "Games: 6000, last 500 games avg score: 57.8, avg of successful moves: 8.74, loss 8.831397021161934e+19\n",
      "CNN made 5021 moves. Successful were 435\n",
      "Games: 6500, last 500 games avg score: 58.932, avg of successful moves: 8.798, loss 1.7291422994926246e+20\n",
      "CNN made 4996 moves. Successful were 423\n",
      "Games: 7000, last 500 games avg score: 56.57, avg of successful moves: 8.574, loss 2.911789144936861e+20\n",
      "CNN made 4995 moves. Successful were 367\n",
      "New maximum: 247, after 7234 games.\n",
      "Games: 7500, last 500 games avg score: 56.008, avg of successful moves: 8.412, loss nan\n",
      "CNN made 5022 moves. Successful were 300\n",
      "Games: 8000, last 500 games avg score: 53.81, avg of successful moves: 8.364, loss nan\n",
      "CNN made 5050 moves. Successful were 211\n",
      "Games: 8500, last 500 games avg score: 53.656, avg of successful moves: 8.382, loss nan\n",
      "CNN made 4933 moves. Successful were 207\n",
      "Games: 9000, last 500 games avg score: 52.882, avg of successful moves: 8.11, loss nan\n",
      "CNN made 4883 moves. Successful were 176\n",
      "Games: 9500, last 500 games avg score: 50.134, avg of successful moves: 7.912, loss nan\n",
      "CNN made 5089 moves. Successful were 204\n",
      "Games: 10000, last 500 games avg score: 52.81, avg of successful moves: 8.198, loss nan\n",
      "CNN made 4940 moves. Successful were 211\n",
      "Games: 10500, last 500 games avg score: 55.936, avg of successful moves: 8.46, loss nan\n",
      "CNN made 5058 moves. Successful were 208\n",
      "Games: 11000, last 500 games avg score: 52.646, avg of successful moves: 8.142, loss nan\n",
      "CNN made 5082 moves. Successful were 200\n",
      "Games: 11500, last 500 games avg score: 54.762, avg of successful moves: 8.346, loss nan\n",
      "CNN made 4983 moves. Successful were 193\n",
      "Games: 12000, last 500 games avg score: 54.26, avg of successful moves: 8.392, loss nan\n",
      "CNN made 4955 moves. Successful were 191\n",
      "Games: 12500, last 500 games avg score: 53.366, avg of successful moves: 8.272, loss nan\n",
      "CNN made 5011 moves. Successful were 199\n",
      "Games: 13000, last 500 games avg score: 53.138, avg of successful moves: 8.108, loss nan\n",
      "CNN made 5021 moves. Successful were 181\n",
      "Games: 13500, last 500 games avg score: 52.816, avg of successful moves: 8.138, loss nan\n",
      "CNN made 4941 moves. Successful were 211\n",
      "Games: 14000, last 500 games avg score: 53.906, avg of successful moves: 8.488, loss nan\n",
      "CNN made 4962 moves. Successful were 194\n",
      "Games: 14500, last 500 games avg score: 52.552, avg of successful moves: 8.172, loss nan\n",
      "CNN made 4941 moves. Successful were 191\n",
      "Games: 15000, last 500 games avg score: 53.562, avg of successful moves: 8.244, loss nan\n",
      "CNN made 4971 moves. Successful were 191\n",
      "Games: 15500, last 500 games avg score: 53.058, avg of successful moves: 8.152, loss nan\n",
      "CNN made 5037 moves. Successful were 195\n",
      "Games: 16000, last 500 games avg score: 53.278, avg of successful moves: 7.974, loss nan\n",
      "CNN made 5093 moves. Successful were 193\n",
      "Games: 16500, last 500 games avg score: 55.822, avg of successful moves: 8.63, loss nan\n",
      "CNN made 4897 moves. Successful were 229\n",
      "Games: 17000, last 500 games avg score: 54.708, avg of successful moves: 8.338, loss nan\n",
      "CNN made 4926 moves. Successful were 188\n",
      "Games: 17500, last 500 games avg score: 54.018, avg of successful moves: 8.44, loss nan\n",
      "CNN made 5011 moves. Successful were 217\n",
      "Games: 18000, last 500 games avg score: 53.284, avg of successful moves: 8.152, loss nan\n",
      "CNN made 5015 moves. Successful were 185\n",
      "Games: 18500, last 500 games avg score: 54.518, avg of successful moves: 8.286, loss nan\n",
      "CNN made 5007 moves. Successful were 198\n",
      "Games: 19000, last 500 games avg score: 52.87, avg of successful moves: 8.21, loss nan\n",
      "CNN made 4945 moves. Successful were 200\n",
      "Games: 19500, last 500 games avg score: 52.032, avg of successful moves: 8.014, loss nan\n",
      "CNN made 5030 moves. Successful were 184\n",
      "Games: 20000, last 500 games avg score: 53.318, avg of successful moves: 8.248, loss nan\n",
      "CNN made 5045 moves. Successful were 191\n",
      "Games: 20500, last 500 games avg score: 53.216, avg of successful moves: 8.264, loss nan\n",
      "CNN made 4968 moves. Successful were 206\n",
      "Games: 21000, last 500 games avg score: 53.856, avg of successful moves: 8.388, loss nan\n",
      "CNN made 4885 moves. Successful were 186\n",
      "Games: 21500, last 500 games avg score: 52.822, avg of successful moves: 8.106, loss nan\n",
      "CNN made 5083 moves. Successful were 188\n",
      "Games: 22000, last 500 games avg score: 54.646, avg of successful moves: 8.384, loss nan\n",
      "CNN made 4998 moves. Successful were 199\n",
      "Games: 22500, last 500 games avg score: 52.302, avg of successful moves: 8.128, loss nan\n",
      "CNN made 5091 moves. Successful were 159\n",
      "Games: 23000, last 500 games avg score: 53.162, avg of successful moves: 8.236, loss nan\n",
      "CNN made 4962 moves. Successful were 198\n",
      "Games: 23500, last 500 games avg score: 52.956, avg of successful moves: 8.09, loss nan\n",
      "CNN made 5095 moves. Successful were 189\n",
      "Games: 24000, last 500 games avg score: 53.184, avg of successful moves: 8.294, loss nan\n",
      "CNN made 4950 moves. Successful were 182\n",
      "Games: 24500, last 500 games avg score: 52.918, avg of successful moves: 8.286, loss nan\n",
      "CNN made 5007 moves. Successful were 187\n",
      "Games: 25000, last 500 games avg score: 52.716, avg of successful moves: 8.294, loss nan\n",
      "CNN made 4960 moves. Successful were 205\n",
      "Games: 25500, last 500 games avg score: 54.222, avg of successful moves: 8.368, loss nan\n",
      "CNN made 4983 moves. Successful were 187\n",
      "Games: 26000, last 500 games avg score: 54.358, avg of successful moves: 8.374, loss nan\n",
      "CNN made 4950 moves. Successful were 207\n",
      "Games: 26500, last 500 games avg score: 52.502, avg of successful moves: 8.162, loss nan\n",
      "CNN made 4947 moves. Successful were 200\n",
      "Games: 27000, last 500 games avg score: 52.656, avg of successful moves: 8.14, loss nan\n",
      "CNN made 5003 moves. Successful were 221\n"
     ]
    }
   ],
   "source": [
    "%%time\n",
    "                                                      \n",
    "for game in range(GAMES_TO_PLAY):\n",
    "    # Start one game\n",
    "    game_score = 0\n",
    "    successful_moves = 0\n",
    "\n",
    "    # Initialize the game field\n",
    "    field = np.zeros((7, 6, 4))\n",
    "    field = ae.initialize_field_3D(field)\n",
    "\n",
    "    for m in range(NUMBER_OF_MOVES_IN_GAME):\n",
    "        # Total score of one move\n",
    "        reward = 0\n",
    "\n",
    "        # Whether CNN made the move\n",
    "        cnn_made_move_flag = False\n",
    "        \n",
    "        # If replay_memory has less than 64 moves, then make a random move\n",
    "        if ((len(replay_memory) < MINIBATCH_SIZE) or (rd.random() > CNN_MOVE_PROB)):\n",
    "            move = rd.randint(1, ae.ACTIONS_DIMENSION)\n",
    "        else:\n",
    "            # CNN selects a move\n",
    "            cnn_made_move_flag = True\n",
    "            CNN_MOVES_COUNT = CNN_MOVES_COUNT + 1\n",
    "            _, move = ae.predict_max_score_3D(field.copy(), Target_CNN, ae.ACTIONS_DIMENSION, ae.MOVES)\n",
    "\n",
    "        # Make the move\n",
    "        new_field, plate_a, plate_b = ae.make_move_v2_3D(field.copy(), move, ae.MOVES)\n",
    "        field_after_move = new_field.copy()\n",
    "\n",
    "        # Calculate the score and update the field\n",
    "        score, new_field = ae.calculate_score_v2_3D(new_field, plate_a, plate_b)\n",
    "        \n",
    "        # If the move is successful, then update the field and check if we have new sets        \n",
    "        successful_move_flag = False\n",
    "\n",
    "        # While we have new sets (thus the score is greater than 0), process them, calculate score and move plates\n",
    "        while (score > 0.):\n",
    "            if (not successful_move_flag):\n",
    "                successful_moves = successful_moves + 1\n",
    "                successful_move_flag = True\n",
    "\n",
    "            # Add new points to the total score of the move\n",
    "            reward = reward + score\n",
    "\n",
    "            # Move plates downward, fill the upper row so, that it doesn't have \"easy\" sets of three\n",
    "            # Start from the left lower corner (in order to reuse color_fits())\n",
    "            new_field = ae.fill_field_3D(new_field)\n",
    "\n",
    "            # Calculate score and check whether we have new sets\n",
    "            score, new_field = ae.calculate_score_v2_3D(new_field, (-1, -1), (-1, -1))\n",
    "\n",
    "        # Increase the score of the whole game\n",
    "        game_score = game_score + reward\n",
    "        \n",
    "        # Check whether it's the last move of the current game\n",
    "        last_move = m == NUMBER_OF_MOVES_IN_GAME - 1         \n",
    "\n",
    "        # Add new move to the replay memory\n",
    "        if (successful_move_flag):\n",
    "            replay_memory.add(field_after_move, move, reward, new_field, last_move)\n",
    "            \n",
    "            # Update CNN move statistics\n",
    "            if (cnn_made_move_flag):    \n",
    "                CNN_SUCCESSFUL_PREDICTION = CNN_SUCCESSFUL_PREDICTION + 1               \n",
    "                \n",
    "        else:\n",
    "            replay_memory.add(field, move, 0, field, last_move)   \n",
    "        \n",
    "        #\n",
    "        # Train CNN based on the score\n",
    "        #\n",
    "        if (len(replay_memory) >= MINIBATCH_SIZE):\n",
    "            # Select random MINIBATCH_SIZE moves from replay memory buffer\n",
    "            samples = replay_memory.sample_minibatch(MINIBATCH_SIZE)\n",
    "\n",
    "            # Prepare some things for training\n",
    "            s_before = samples[0]\n",
    "            actions = samples[1]\n",
    "            rewards = samples[2]\n",
    "            s_after = samples[3] \n",
    "            dones = samples[4]\n",
    "            \n",
    "            # Update online CNN weights: training step\n",
    "            for _ in range(DYNAMIC_LEARNING_EPOCHS):\n",
    "                rewards_next = np.max(Target_CNN(s_after), axis=1)\n",
    "                actual_values = np.where(dones, rewards, rewards + GAMMA*rewards_next)\n",
    "\n",
    "                with tf.GradientTape() as tape:\n",
    "                    prediction = Online_CNN(s_before)\n",
    "\n",
    "                    selected_action_values = tf.math.reduce_sum(prediction*tf.one_hot(actions, ae.ACTIONS_DIMENSION), axis=1)  \n",
    "\n",
    "                    loss = tf.cast(tf.math.reduce_mean(tf.square(actual_values - selected_action_values)), tf.float64)\n",
    "\n",
    "                gradients = tape.gradient(loss, Online_CNN.trainable_weights)\n",
    "                optimizer.apply_gradients(zip(gradients, Online_CNN.trainable_weights))\n",
    "\n",
    "        # If move is successful, update the play field\n",
    "        if (successful_move_flag):\n",
    "            field = np.copy(new_field)\n",
    "            \n",
    "        # After each 1000 moves update target CNN\n",
    "        if (total_moves % UPDATE_TARGET_NET == 0):\n",
    "            Target_CNN.set_weights(Online_CNN.get_weights())\n",
    "            \n",
    "        total_moves = total_moves + 1\n",
    "\n",
    "    #\n",
    "    # Calculate and display overall stats\n",
    "    #\n",
    "    # Check whether we have new maximum score\n",
    "    if (game_score > MAXIMUM_SCORE):\n",
    "        print(f\"New maximum: {game_score}, after {game} games.\")\n",
    "        MAXIMUM_SCORE = game_score\n",
    "        \n",
    "    # After each 500 games output average game score, average number of successful moves per game\n",
    "    TOTAL_SCORE_500 = TOTAL_SCORE_500 + game_score\n",
    "    TOTAL_SUCCESSFUL_MOVES_500 = TOTAL_SUCCESSFUL_MOVES_500 + successful_moves\n",
    "    \n",
    "    if ((game % 500 == 0) and (game > 0)):\n",
    "        avg_score = TOTAL_SCORE_500 / 500\n",
    "        TOTAL_SCORE_500 = 0.0\n",
    "        \n",
    "        avg_succ_moves = TOTAL_SUCCESSFUL_MOVES_500 / 500\n",
    "        TOTAL_SUCCESSFUL_MOVES_500 = 0.0\n",
    "\n",
    "        print(f\"Games: {game}, last 500 games avg score: {avg_score}, avg of successful moves: {avg_succ_moves}, loss {loss}\")        \n",
    "        print(f\"CNN made {CNN_MOVES_COUNT} moves. Successful were {CNN_SUCCESSFUL_PREDICTION}\")\n",
    "        \n",
    "        if (CNN_SUCCESSFUL_PREDICTION / CNN_MOVES_COUNT >= CNN_MOVE_PROB):\n",
    "            CNN_MOVE_PROB = CNN_MOVE_PROB + 0.1\n",
    "            \n",
    "        CNN_MOVES_COUNT = 0\n",
    "        CNN_SUCCESSFUL_PREDICTION = 0\n"
   ]
  },
  {
   "cell_type": "markdown",
   "metadata": {},
   "source": []
  },
  {
   "cell_type": "code",
   "execution_count": null,
   "metadata": {},
   "outputs": [],
   "source": [
    "# tensorboard --logdir=./logs --bind_all &\n",
    "\n",
    "print(MAXIMUM_SCORE)"
   ]
  },
  {
   "cell_type": "markdown",
   "metadata": {},
   "source": [
    "## Test part"
   ]
  },
  {
   "cell_type": "code",
   "execution_count": null,
   "metadata": {},
   "outputs": [],
   "source": [
    "#field = np.zeros((7, 6))\n",
    "\n",
    "df = pd.DataFrame(updated_field)\n",
    "qgrid_widget = qgrid.show_grid(df, show_toolbar=True)\n",
    "qgrid_widget"
   ]
  },
  {
   "cell_type": "code",
   "execution_count": null,
   "metadata": {
    "scrolled": true
   },
   "outputs": [],
   "source": [
    "updated_df = qgrid_widget.get_changed_df()\n",
    "updated_field = updated_df.values\n",
    "visualize_field(updated_field)"
   ]
  },
  {
   "cell_type": "code",
   "execution_count": null,
   "metadata": {},
   "outputs": [],
   "source": [
    "get_sets(updated_field)"
   ]
  },
  {
   "cell_type": "code",
   "execution_count": null,
   "metadata": {},
   "outputs": [],
   "source": [
    "score, new_field = calculate_score_v2(updated_field, (6, 3), (5, 3))\n",
    "print(score)\n",
    "visualize_field(updated_field)"
   ]
  },
  {
   "cell_type": "code",
   "execution_count": null,
   "metadata": {},
   "outputs": [],
   "source": [
    "#updated_field_2 = fill_field(updated_field, colors)\n",
    "#visualize_field(updated_field_2)"
   ]
  },
  {
   "cell_type": "code",
   "execution_count": null,
   "metadata": {},
   "outputs": [],
   "source": []
  },
  {
   "cell_type": "code",
   "execution_count": null,
   "metadata": {},
   "outputs": [],
   "source": []
  },
  {
   "cell_type": "code",
   "execution_count": null,
   "metadata": {},
   "outputs": [],
   "source": []
  },
  {
   "cell_type": "code",
   "execution_count": null,
   "metadata": {},
   "outputs": [],
   "source": []
  },
  {
   "cell_type": "code",
   "execution_count": null,
   "metadata": {},
   "outputs": [],
   "source": []
  },
  {
   "cell_type": "code",
   "execution_count": null,
   "metadata": {
    "scrolled": false
   },
   "outputs": [],
   "source": []
  },
  {
   "cell_type": "code",
   "execution_count": null,
   "metadata": {},
   "outputs": [],
   "source": []
  },
  {
   "cell_type": "code",
   "execution_count": null,
   "metadata": {},
   "outputs": [],
   "source": []
  },
  {
   "cell_type": "code",
   "execution_count": null,
   "metadata": {},
   "outputs": [],
   "source": []
  },
  {
   "cell_type": "code",
   "execution_count": null,
   "metadata": {},
   "outputs": [],
   "source": []
  },
  {
   "cell_type": "code",
   "execution_count": null,
   "metadata": {},
   "outputs": [],
   "source": []
  },
  {
   "cell_type": "code",
   "execution_count": null,
   "metadata": {},
   "outputs": [],
   "source": []
  },
  {
   "cell_type": "code",
   "execution_count": null,
   "metadata": {},
   "outputs": [],
   "source": []
  },
  {
   "cell_type": "code",
   "execution_count": null,
   "metadata": {},
   "outputs": [],
   "source": []
  },
  {
   "cell_type": "code",
   "execution_count": null,
   "metadata": {},
   "outputs": [],
   "source": []
  },
  {
   "cell_type": "code",
   "execution_count": null,
   "metadata": {},
   "outputs": [],
   "source": []
  },
  {
   "cell_type": "code",
   "execution_count": null,
   "metadata": {},
   "outputs": [],
   "source": []
  },
  {
   "cell_type": "code",
   "execution_count": null,
   "metadata": {
    "scrolled": true
   },
   "outputs": [],
   "source": []
  },
  {
   "cell_type": "code",
   "execution_count": null,
   "metadata": {},
   "outputs": [],
   "source": []
  },
  {
   "cell_type": "code",
   "execution_count": null,
   "metadata": {},
   "outputs": [],
   "source": []
  },
  {
   "cell_type": "markdown",
   "metadata": {},
   "source": [
    "### Now the CNN has been trained.\n",
    "### Start the long reinforcement-learning cycle"
   ]
  },
  {
   "cell_type": "code",
   "execution_count": null,
   "metadata": {},
   "outputs": [],
   "source": []
  },
  {
   "cell_type": "code",
   "execution_count": null,
   "metadata": {},
   "outputs": [],
   "source": []
  },
  {
   "cell_type": "code",
   "execution_count": null,
   "metadata": {},
   "outputs": [],
   "source": []
  },
  {
   "cell_type": "code",
   "execution_count": null,
   "metadata": {
    "scrolled": true
   },
   "outputs": [],
   "source": [
    "successful_moves"
   ]
  },
  {
   "cell_type": "code",
   "execution_count": null,
   "metadata": {},
   "outputs": [],
   "source": [
    "new_field = make_move(field, move)\n",
    "print(new_field)"
   ]
  },
  {
   "cell_type": "code",
   "execution_count": null,
   "metadata": {},
   "outputs": [],
   "source": [
    "temp_field = calculate_score(new_field)"
   ]
  },
  {
   "cell_type": "code",
   "execution_count": null,
   "metadata": {},
   "outputs": [],
   "source": [
    "new_field = np.multiply(new_field, 1.0 - temp_field)"
   ]
  },
  {
   "cell_type": "code",
   "execution_count": null,
   "metadata": {},
   "outputs": [],
   "source": [
    "fill_field(new_field, colors)"
   ]
  },
  {
   "cell_type": "code",
   "execution_count": null,
   "metadata": {},
   "outputs": [],
   "source": []
  },
  {
   "cell_type": "code",
   "execution_count": null,
   "metadata": {},
   "outputs": [],
   "source": [
    "#\n",
    "# Save model\n",
    "#\n",
    "# v1: 20190329, trained on len(replay_memory) = 294912\n",
    "#aero_cnn.save(\"Aero_CNN_v1\")"
   ]
  },
  {
   "cell_type": "code",
   "execution_count": null,
   "metadata": {},
   "outputs": [],
   "source": []
  },
  {
   "cell_type": "markdown",
   "metadata": {},
   "source": [
    "## Backup"
   ]
  },
  {
   "cell_type": "code",
   "execution_count": null,
   "metadata": {},
   "outputs": [],
   "source": [
    "#\n",
    "# Create the moves dictionary\n",
    "#\n",
    "moves = {}\n",
    "\n",
    "for i in range(1, 143):\n",
    "    old_row, old_column, old_direction = process_move_142(i)\n",
    "    \n",
    "    start_row = old_row - 1\n",
    "    start_col = old_column - 1\n",
    "    \n",
    "    if (old_direction == \"down\"):\n",
    "        end_row = start_row + 1\n",
    "        end_col = start_col\n",
    "    elif (old_direction == \"up\"):\n",
    "        end_row = start_row - 1\n",
    "        end_col = start_col\n",
    "    elif (old_direction == \"right\"):\n",
    "        end_row = start_row\n",
    "        end_col = start_col + 1\n",
    "    else:\n",
    "        end_row = start_row\n",
    "        end_col = start_col - 1\n",
    "        \n",
    "    moves[i] = ((start_row, start_col), (end_row, end_col))\n",
    "    \n",
    "print(moves)"
   ]
  }
 ],
 "metadata": {
  "kernelspec": {
   "display_name": "Python 3",
   "language": "python",
   "name": "python3"
  },
  "language_info": {
   "codemirror_mode": {
    "name": "ipython",
    "version": 3
   },
   "file_extension": ".py",
   "mimetype": "text/x-python",
   "name": "python",
   "nbconvert_exporter": "python",
   "pygments_lexer": "ipython3",
   "version": "3.8.5"
  }
 },
 "nbformat": 4,
 "nbformat_minor": 2
}
