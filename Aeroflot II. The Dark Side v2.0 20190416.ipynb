{
 "cells": [
  {
   "cell_type": "markdown",
   "metadata": {},
   "source": [
    "### Use bonus plates (length of 4)"
   ]
  },
  {
   "cell_type": "code",
   "execution_count": 1,
   "metadata": {},
   "outputs": [
    {
     "name": "stdout",
     "output_type": "stream",
     "text": [
      "Populating the interactive namespace from numpy and matplotlib\n"
     ]
    }
   ],
   "source": [
    "import pandas as pd\n",
    "import random as rd\n",
    "import numpy as np\n",
    "import qgrid\n",
    "\n",
    "from tensorflow.keras.layers import Input, Add, Dense, Activation, ZeroPadding2D, BatchNormalization, Flatten, Conv2D\n",
    "from tensorflow.keras.models import Model, load_model, Sequential\n",
    "\n",
    "from tensorflow.keras import backend\n",
    "from tensorflow.keras import initializers\n",
    "\n",
    "import matplotlib.pyplot as plt\n",
    "import matplotlib.patches as mpatches\n",
    "%pylab inline"
   ]
  },
  {
   "cell_type": "code",
   "execution_count": 2,
   "metadata": {},
   "outputs": [],
   "source": [
    "#\n",
    "# Definitions\n",
    "#\n",
    "# RED = 0.2\n",
    "# GREEN = 0.4\n",
    "# BLUE = 0.6\n",
    "# PURPLE = 0.8\n",
    "#\n",
    "colors = [0.2, 0.4, 0.6, 0.8]\n",
    "\n",
    "moves = {1: ((0, 0), (1, 0)), 2: ((0, 1), (1, 1)), 3: ((0, 2), (1, 2)), 4: ((0, 3), (1, 3)), 5: ((0, 4), (1, 4)), \n",
    "         6: ((0, 5), (1, 5)), 7: ((1, 0), (2, 0)), 8: ((1, 0), (0, 0)), 9: ((1, 1), (2, 1)), 10: ((1, 1), (0, 1)), \n",
    "         11: ((1, 2), (2, 2)), 12: ((1, 2), (0, 2)), 13: ((1, 3), (2, 3)), 14: ((1, 3), (0, 3)), 15: ((1, 4), (2, 4)), \n",
    "         16: ((1, 4), (0, 4)), 17: ((1, 5), (2, 5)), 18: ((1, 5), (0, 5)), 19: ((2, 0), (3, 0)), 20: ((2, 0), (1, 0)), \n",
    "         21: ((2, 1), (3, 1)), 22: ((2, 1), (1, 1)), 23: ((2, 2), (3, 2)), 24: ((2, 2), (1, 2)), 25: ((2, 3), (3, 3)), \n",
    "         26: ((2, 3), (1, 3)), 27: ((2, 4), (3, 4)), 28: ((2, 4), (1, 4)), 29: ((2, 5), (3, 5)), 30: ((2, 5), (1, 5)), \n",
    "         31: ((3, 0), (4, 0)), 32: ((3, 0), (2, 0)), 33: ((3, 1), (4, 1)), 34: ((3, 1), (2, 1)), 35: ((3, 2), (4, 2)), \n",
    "         36: ((3, 2), (2, 2)), 37: ((3, 3), (4, 3)), 38: ((3, 3), (2, 3)), 39: ((3, 4), (4, 4)), 40: ((3, 4), (2, 4)), \n",
    "         41: ((3, 5), (4, 5)), 42: ((3, 5), (2, 5)), 43: ((4, 0), (5, 0)), 44: ((4, 0), (3, 0)), 45: ((4, 1), (5, 1)), \n",
    "         46: ((4, 1), (3, 1)), 47: ((4, 2), (5, 2)), 48: ((4, 2), (3, 2)), 49: ((4, 3), (5, 3)), 50: ((4, 3), (3, 3)), \n",
    "         51: ((4, 4), (5, 4)), 52: ((4, 4), (3, 4)), 53: ((4, 5), (5, 5)), 54: ((4, 5), (3, 5)), 55: ((5, 0), (6, 0)), \n",
    "         56: ((5, 0), (4, 0)), 57: ((5, 1), (6, 1)), 58: ((5, 1), (4, 1)), 59: ((5, 2), (6, 2)), 60: ((5, 2), (4, 2)), \n",
    "         61: ((5, 3), (6, 3)), 62: ((5, 3), (4, 3)), 63: ((5, 4), (6, 4)), 64: ((5, 4), (4, 4)), 65: ((5, 5), (6, 5)), \n",
    "         66: ((5, 5), (4, 5)), 67: ((6, 0), (5, 0)), 68: ((6, 1), (5, 1)), 69: ((6, 2), (5, 2)), 70: ((6, 3), (5, 3)), \n",
    "         71: ((6, 4), (5, 4)), 72: ((6, 5), (5, 5)), 73: ((0, 0), (0, 1)), 74: ((1, 0), (1, 1)), 75: ((2, 0), (2, 1)), \n",
    "         76: ((3, 0), (3, 1)), 77: ((4, 0), (4, 1)), 78: ((5, 0), (5, 1)), 79: ((6, 0), (6, 1)), 80: ((0, 1), (0, 0)), \n",
    "         81: ((0, 1), (0, 2)), 82: ((1, 1), (1, 0)), 83: ((1, 1), (1, 2)), 84: ((2, 1), (2, 0)), 85: ((2, 1), (2, 2)), \n",
    "         86: ((3, 1), (3, 0)), 87: ((3, 1), (3, 2)), 88: ((4, 1), (4, 0)), 89: ((4, 1), (4, 2)), 90: ((5, 1), (5, 0)), \n",
    "         91: ((5, 1), (5, 2)), 92: ((6, 1), (6, 0)), 93: ((6, 1), (6, 2)), 94: ((0, 2), (0, 1)), 95: ((0, 2), (0, 3)), \n",
    "         96: ((1, 2), (1, 1)), 97: ((1, 2), (1, 3)), 98: ((2, 2), (2, 1)), 99: ((2, 2), (2, 3)), 100: ((3, 2), (3, 1)), \n",
    "         101: ((3, 2), (3, 3)), 102: ((4, 2), (4, 1)), 103: ((4, 2), (4, 3)), 104: ((5, 2), (5, 1)), 105: ((5, 2), (5, 3)), \n",
    "         106: ((6, 2), (6, 1)), 107: ((6, 2), (6, 3)), 108: ((0, 3), (0, 2)), 109: ((0, 3), (0, 4)), 110: ((1, 3), (1, 2)), \n",
    "         111: ((1, 3), (1, 4)), 112: ((2, 3), (2, 2)), 113: ((2, 3), (2, 4)), 114: ((3, 3), (3, 2)), 115: ((3, 3), (3, 4)), \n",
    "         116: ((4, 3), (4, 2)), 117: ((4, 3), (4, 4)), 118: ((5, 3), (5, 2)), 119: ((5, 3), (5, 4)), 120: ((6, 3), (6, 2)), \n",
    "         121: ((6, 3), (6, 4)), 122: ((0, 4), (0, 3)), 123: ((0, 4), (0, 5)), 124: ((1, 4), (1, 3)), 125: ((1, 4), (1, 5)), \n",
    "         126: ((2, 4), (2, 3)), 127: ((2, 4), (2, 5)), 128: ((3, 4), (3, 3)), 129: ((3, 4), (3, 5)), 130: ((4, 4), (4, 3)), \n",
    "         131: ((4, 4), (4, 5)), 132: ((5, 4), (5, 3)), 133: ((5, 4), (5, 5)), 134: ((6, 4), (6, 3)), 135: ((6, 4), (6, 5)), \n",
    "         136: ((0, 5), (0, 4)), 137: ((1, 5), (1, 4)), 138: ((2, 5), (2, 4)), 139: ((3, 5), (3, 4)), 140: ((4, 5), (4, 4)), \n",
    "         141: ((5, 5), (5, 4)), 142: ((6, 5), (6, 4))}"
   ]
  },
  {
   "cell_type": "code",
   "execution_count": 3,
   "metadata": {},
   "outputs": [],
   "source": [
    "def color_fits(field, i, j, new_color):\n",
    "    \"\"\"\n",
    "    Checks if two items to the left or two colors to the top are NOT of the same color as the new item.\n",
    "    Input:\n",
    "    - field: battfield, numpy array\n",
    "    - i, j: position on the new item, int, within field.shape\n",
    "    - new_color: color of the new item, float\n",
    "    Output:\n",
    "    - boolean: True, if the new item is ok\n",
    "    \"\"\"\n",
    "    # Check two colors to the left\n",
    "    if (j > 1):\n",
    "        if (round(field[i, j - 2] % 1.0, 1) == new_color) and (round(field[i, j - 1] % 1.0, 1) == new_color):\n",
    "            return False\n",
    "        \n",
    "    # Check two colors to the right\n",
    "    if (j < 4):\n",
    "        if (round(field[i, j + 2] % 1.0, 1) == new_color) and (round(field[i, j + 1] % 1.0, 1) == new_color):\n",
    "            return False\n",
    "    \n",
    "    # Check two color to the top\n",
    "    if (i < 5):\n",
    "        if (round(field[i + 2, j] % 1.0, 1) == new_color) and (round(field[i + 1, j] % 1.0, 1) == new_color):\n",
    "            return False\n",
    "    \n",
    "    return True"
   ]
  },
  {
   "cell_type": "code",
   "execution_count": 4,
   "metadata": {},
   "outputs": [],
   "source": [
    "def initialize_field(field):\n",
    "    \"\"\"\n",
    "    Initialization of the battle field.\n",
    "    Move from bottom left corner and add new elements.\n",
    "    Input: \n",
    "    - field: numpy array of zeros, 7x6\n",
    "    Output:\n",
    "    - field: numpy array of floats, 7x6\n",
    "    \"\"\"\n",
    "    colors = [0.2, 0.4, 0.6, 0.8]\n",
    "    \n",
    "    for i in list(range(field.shape[0]))[::-1]:\n",
    "        for j in range(field.shape[1]):\n",
    "            rd.seed()\n",
    "            new_color = rd.choice(colors)\n",
    "            \n",
    "            while not color_fits(field, i, j, new_color):\n",
    "                rd.seed()\n",
    "                new_color = rd.choice(colors)\n",
    "                \n",
    "            field[i, j] = new_color\n",
    "    \n",
    "    return field"
   ]
  },
  {
   "cell_type": "code",
   "execution_count": 5,
   "metadata": {},
   "outputs": [],
   "source": [
    "def visualize_field(field):\n",
    "    \"\"\"\n",
    "    Visualizes the battle field in colored circles\n",
    "    Handles bonus plates\n",
    "    Input:\n",
    "    - field: numpy array of floats, 7x6\n",
    "    Output:\n",
    "    - None\n",
    "    \"\"\"\n",
    "    fig, ax = plt.subplots(figsize=(5, 7))\n",
    "\n",
    "    ax.set_xlim((0, 10))\n",
    "    ax.set_ylim((0, 13))\n",
    "\n",
    "    circles = []\n",
    "\n",
    "    for ii in range(7):\n",
    "        for jj in range(6):\n",
    "            if (round(field[ii, jj] % 1.0, 1) == 0.2):\n",
    "                clr = \"red\"\n",
    "            elif (round(field[ii, jj] % 1.0, 1) == 0.4):\n",
    "                clr = \"lightgreen\"\n",
    "            elif (round(field[ii, jj] % 1.0, 1) == 0.6):\n",
    "                clr = \"cyan\"\n",
    "            else:\n",
    "                clr = \"purple\"\n",
    "\n",
    "            #if (field[ii, jj] // 1 == 1.0):\n",
    "            #    circles.append( mpatches.RegularPolygon((jj + 1, 7 - ii), numVertices=4, radius=0.4, color=clr) )\n",
    "            #else:\n",
    "            #    circles.append( mpatches.Circle((jj + 1, 7 - ii), radius=0.4, color=clr) )\n",
    "             \n",
    "            #\n",
    "            # DEBUG\n",
    "            #\n",
    "            if (field[ii, jj] == 0.0):\n",
    "                circles.append( mpatches.RegularPolygon((jj + 1, 7 - ii), numVertices=3, radius=0.2, color=\"black\") )\n",
    "            elif (field[ii, jj] // 1 == 1.0):\n",
    "                circles.append( mpatches.RegularPolygon((jj + 1, 7 - ii), numVertices=4, radius=0.4, color=clr) )\n",
    "            else:\n",
    "                circles.append( mpatches.Circle((jj + 1, 7 - ii), radius=0.4, color=clr) )\n",
    "\n",
    "\n",
    "    for circ in circles:\n",
    "        ax.add_artist(circ)\n",
    "        \n",
    "    return"
   ]
  },
  {
   "cell_type": "code",
   "execution_count": 6,
   "metadata": {},
   "outputs": [],
   "source": [
    "def plate_in_set(plate, row, col, length, direction):\n",
    "    \"\"\"\n",
    "    Checks whether plate is with the set given by row, col, length, direction\n",
    "    Input:\n",
    "    - plate: plate location, tuple (row, column)\n",
    "    - row: row where the set starts\n",
    "    - col: column where the set starts\n",
    "    - length: the set's length\n",
    "    - direction: the set's direction\n",
    "    Output:\n",
    "    - True if the plate is within the set, False otherwise\n",
    "    \"\"\"\n",
    "    if (direction == 0):\n",
    "        # Horizontal set\n",
    "        if ((plate[0] != row) or (plate[1] < col) or (plate[1] > (col + length - 1))):\n",
    "            return False\n",
    "    else:\n",
    "        # Vertucal set\n",
    "        if ((plate[1] != col) or (plate[0] < row) or (plate[0] > (row + length - 1))):\n",
    "            return False\n",
    "        \n",
    "    return True"
   ]
  },
  {
   "cell_type": "code",
   "execution_count": 7,
   "metadata": {},
   "outputs": [],
   "source": [
    "def fill_field(field, colors):\n",
    "    \"\"\"\n",
    "    Наполняет поле после сжигания рядов.\n",
    "    Сдвигает фишки вниз, заполняя верхний ряд каждый раз так, чтобы верхний ряд не создавал халявной тройки\n",
    "    Начинает с левого нижнего угла, чтобы переиспользовать color_fits()\n",
    "    Input:\n",
    "    - field: numpy array of floats, 7x6\n",
    "    - colors: list of 4 floats - color values, see the definition above\n",
    "    Output:\n",
    "    - numpy array of floats, 7x6 - updated field\n",
    "    \"\"\"\n",
    "    for ii in list(range(7))[::-1]:\n",
    "        for jj in range(6):\n",
    "            while (field[ii, jj] == 0.):\n",
    "                # Опускаем на один вниз\n",
    "                # Если мы в самом верхнем ряду, то опускать не нужно\n",
    "                if (ii != 0):\n",
    "                    for iii in list(range(1, ii + 1))[::-1]:\n",
    "                        field[iii, jj] = field[iii - 1, jj]\n",
    "\n",
    "                # Заполняем верх\n",
    "                new_color = rd.choice(colors)\n",
    "\n",
    "                while not color_fits(field, 0, jj, new_color):\n",
    "                    new_color = rd.choice(colors)\n",
    "\n",
    "                field[0, jj] = new_color  \n",
    "                \n",
    "    return field"
   ]
  },
  {
   "cell_type": "code",
   "execution_count": 8,
   "metadata": {},
   "outputs": [],
   "source": [
    "def make_move_v2(field, move, moves):\n",
    "    \"\"\"\n",
    "    Physically moves plates according to the move\n",
    "    Input:\n",
    "    - field: numpy array of floats, 7x6\n",
    "    - move: particular move to make, 1<=move<=142\n",
    "    - moves: dictionary of all possible moves defined above\n",
    "    Output:\n",
    "    - new_field: updated field with two swapped plates\n",
    "    - plate_start: coordinates of the plate that started the move, tuple (row, column)\n",
    "    - plate_end: cooredinates of the plate that ended the move, tuple (row, column)\n",
    "    \"\"\"\n",
    "    (start_row, start_col), (end_row, end_col) = moves[move]\n",
    "\n",
    "    # Swap two plates and create new (modified) field\n",
    "    new_field = np.array(field)\n",
    "    temp_color = field[end_row, end_col]\n",
    "    new_field[end_row, end_col] = field[start_row, start_col]\n",
    "    new_field[start_row, start_col] = temp_color\n",
    "        \n",
    "    return new_field, (start_row, start_col), (end_row, end_col)"
   ]
  },
  {
   "cell_type": "code",
   "execution_count": 9,
   "metadata": {},
   "outputs": [],
   "source": [
    "def get_sets(field):\n",
    "    \"\"\"\n",
    "    Finds all sets and all bonus plates included into those sets\n",
    "    Input:\n",
    "    - field: numpy array of floats, 7x6\n",
    "    Output:\n",
    "    - list of sets coordinates: list of tuples (row_start, column_start, set_length, direction, color), counting from top left corner\n",
    "      Direction is either 0 (horizontal) or 1 (vertical)\n",
    "    - list of bonus plates included into sets: list of tuples (row, column, type). \n",
    "      Type is either 4 or 5 (reserved for future)\n",
    "    \"\"\"\n",
    "    perm_bonus_plates = []\n",
    "    perm_sets = []\n",
    "\n",
    "    # Find all 3+ sets in horizontal row\n",
    "    for ii in range(field.shape[0]):\n",
    "        temp_bonus_plates = []\n",
    "        jj = 0\n",
    "        len = 1\n",
    "        while (jj < field.shape[1]):\n",
    "            if (jj > 0):\n",
    "                if (round(field[ii, jj] % 1.0, 1) == round(field[ii, jj - 1] % 1.0, 1)):\n",
    "                    len = len + 1\n",
    "                else:\n",
    "                    if (len >= 3):\n",
    "                        # Add temp list of bonus plates to the permanent list of bonus plates\n",
    "                        perm_bonus_plates = perm_bonus_plates + temp_bonus_plates\n",
    "                        \n",
    "                        # Add to permanent list of sets\n",
    "                        perm_sets.append((ii, jj - len, len, 0, round(field[ii, jj - 1] % 1, 1)))\n",
    "                        \n",
    "                    temp_bonus_plates = []\n",
    "                    len = 1\n",
    "            \n",
    "            if (field[ii, jj] > 1.):\n",
    "                # Add to temp list of bonus plates\n",
    "                temp_bonus_plates.append((ii, jj, 4))\n",
    "            \n",
    "            jj = jj + 1\n",
    "            \n",
    "        if (len >= 3):\n",
    "            # Add temp list of bonus plates to the permanent list of bonus plates\n",
    "            perm_bonus_plates = perm_bonus_plates + temp_bonus_plates\n",
    "\n",
    "            # Add to permanent list of sets\n",
    "            perm_sets.append((ii, jj - len, len, 0, round(field[ii, jj - 1] % 1, 1)))\n",
    "\n",
    "    # Find all 3+ sets in vertical columns\n",
    "    for jj in range(field.shape[1]):\n",
    "        temp_bonus_plates = []\n",
    "        ii = 0\n",
    "        len = 1\n",
    "        while (ii < field.shape[0]):\n",
    "            if (ii > 0):\n",
    "                if (round(field[ii, jj] % 1.0, 1) == round(field[ii - 1, jj] % 1, 1)):\n",
    "                    len = len + 1\n",
    "                else:\n",
    "                    if (len >= 3):\n",
    "                        # Add temp list of bonus plates to the permanent list of bonus plates\n",
    "                        perm_bonus_plates = perm_bonus_plates + temp_bonus_plates\n",
    "                        \n",
    "                        # Add to permanent list of sets\n",
    "                        perm_sets.append((ii - len, jj, len, 1, round(field[ii - 1, jj] % 1, 1)))\n",
    "                        \n",
    "                    temp_bonus_plates = []\n",
    "                    len = 1\n",
    "            \n",
    "            if (field[ii, jj] > 1.):\n",
    "                # Add to temp list of bonus plates\n",
    "                temp_bonus_plates.append((ii, jj, 4))\n",
    "            \n",
    "            ii = ii + 1\n",
    "            \n",
    "        if (len >= 3):\n",
    "            # Add temp list of bonus plates to the permanent list of bonus plates\n",
    "            perm_bonus_plates = perm_bonus_plates + temp_bonus_plates\n",
    "\n",
    "            # Add to permanent list of sets\n",
    "            perm_sets.append((ii - len, jj, len, 1, round(field[ii - 1, jj] % 1, 1)))\n",
    "            \n",
    "    return perm_sets, perm_bonus_plates"
   ]
  },
  {
   "cell_type": "code",
   "execution_count": 14,
   "metadata": {},
   "outputs": [],
   "source": [
    "def calculate_score_v2(field, plate_from, plate_to):\n",
    "    \"\"\"\n",
    "    Calculates the score in the field. \n",
    "    Replaces all sets with zeros.\n",
    "    Handles bonus plates: replaces required rows with zeros (Type 4)\n",
    "    Puts bonus plates, should any set be of the length of 4\n",
    "    Input:\n",
    "    - field: numpy array of floats, 7x6\n",
    "    - plate_from: coordinates of the plate where the move starts, tuple (row, column)\n",
    "    - plate_to: coordinates of the plate where the move ends, tuple (row, column)\n",
    "    Output:\n",
    "    - score: int, 0+\n",
    "    - field: modified field\n",
    "    \"\"\"\n",
    "    # Get all sets with possible bonus plates\n",
    "    sets, bonus_plates = get_sets(field)\n",
    "\n",
    "    # Set all requires plates to zero\n",
    "    #\n",
    "    # First handle sets\n",
    "    for st in sets:\n",
    "        row = st[0]\n",
    "        col = st[1]\n",
    "        lng = st[2]\n",
    "        drc = st[3]\n",
    "\n",
    "        if (drc == 0):\n",
    "            field[row, col:(col + lng)] = 0\n",
    "        else:\n",
    "            field[row:(row + lng), col] = 0\n",
    "    #       \n",
    "    # Then handle bonus plates/rows\n",
    "    for pl in bonus_plates:\n",
    "        row = pl[0]\n",
    "        col = pl[1]\n",
    "        typ = pl[2]\n",
    "\n",
    "        if (typ == 4):\n",
    "            field[row, :] = 0\n",
    "\n",
    "    # Calculate score\n",
    "    score = (field == 0.).sum()\n",
    "\n",
    "    # Put new bonus plates. Specially care for the move coordinates\n",
    "    for st in sets:\n",
    "        row = st[0]\n",
    "        col = st[1]\n",
    "        lng = st[2]\n",
    "        drc = st[3]\n",
    "        clr = st[4]\n",
    "\n",
    "        if (lng >= 4):\n",
    "            if (plate_in_set(plate_from, row, col, lng, drc)):\n",
    "                # Move start plate in set. Put new bonus plate according to the move coordinates\n",
    "                field[plate_from[0], plate_from[1]] = clr + 1.0\n",
    "                \n",
    "                #\n",
    "                # DEBUG\n",
    "                #\n",
    "                #print(\"DEBUG: set of 4+ was made!\")\n",
    "                \n",
    "            elif (plate_in_set(plate_to, row, col, lng, drc)):\n",
    "                # Move end plate in set. Put new bonus plate according to the move coordinates\n",
    "                field[plate_to[0], plate_to[1]] = clr + 1.0\n",
    "                \n",
    "                #\n",
    "                # DEBUG\n",
    "                #\n",
    "                #print(\"DEBUG: set of 4+ was made!\")\n",
    "                \n",
    "            else:\n",
    "                # Just put the new bonus plate at the very right/bottom of the set\n",
    "                # This CANNOT happen during the manual move!\n",
    "                # It CAN ONLY HAPPEN when the field is randomly filled with new plates\n",
    "                if (drc == 0):\n",
    "                    field[row, col + lng - 1] = clr + 1.0\n",
    "                else:\n",
    "                    field[row + lng - 1, col] = clr + 1.0\n",
    "\n",
    "    return score, field"
   ]
  },
  {
   "cell_type": "code",
   "execution_count": 11,
   "metadata": {},
   "outputs": [],
   "source": [
    "def predict_max_score(field, aero_cnn, number_of_moves, debug_flag = False):\n",
    "    \"\"\"\n",
    "    TODO \n",
    "    \"\"\"\n",
    "    X_data = ()\n",
    "           \n",
    "    for move in range(1, number_of_moves + 1):\n",
    "        swapped = make_move(np.array(field), move)\n",
    "        X_data = X_data + ( swapped, )\n",
    "    \n",
    "    # Теперь выбираем наиболее успешый ход из всех успешных\n",
    "    X_data = np.expand_dims(np.stack(X_data, axis=0), axis=3)\n",
    "    \n",
    "    prediction = aero_cnn.predict(X_data)\n",
    "    \n",
    "    if (debug_flag):\n",
    "        print(\"DEBUG\", prediction)\n",
    "    \n",
    "    best_move_score = prediction.max()\n",
    "    best_move_number = prediction.argmax() + 1\n",
    "    \n",
    "    return best_move_score, best_move_number"
   ]
  },
  {
   "cell_type": "markdown",
   "metadata": {},
   "source": [
    "## Offline CNN training\n",
    "\n",
    "### First generate a lot of data"
   ]
  },
  {
   "cell_type": "code",
   "execution_count": 15,
   "metadata": {},
   "outputs": [],
   "source": [
    "# Variables\n",
    "moves_memory = []\n",
    "COUNTER_OF_SUCCESSFUL_MOVES = 0\n",
    "\n",
    "# Constants\n",
    "NUMBER_OF_MOVES_IN_GAME = 50\n",
    "NUMBER_OF_GAMES = 5000"
   ]
  },
  {
   "cell_type": "code",
   "execution_count": 17,
   "metadata": {},
   "outputs": [
    {
     "name": "stdout",
     "output_type": "stream",
     "text": [
      "The number of successful moves is 1962\n",
      "Wall time: 10.5 s\n"
     ]
    }
   ],
   "source": [
    "%%time\n",
    "\n",
    "for g in range(NUMBER_OF_GAMES):\n",
    "    # Начинаем одну игру\n",
    "    game_score = 0\n",
    "\n",
    "    # Initialize the game field\n",
    "    field = np.zeros((7, 6))\n",
    "    field = initialize_field(field)\n",
    "\n",
    "    for m in range(NUMBER_OF_MOVES_IN_GAME):\n",
    "        # Общий счет хода\n",
    "        reward = 0\n",
    "        \n",
    "        # Randomly select a move\n",
    "        rd.seed()\n",
    "        move = rd.choice(list(range(1, 143)))\n",
    "\n",
    "        # Make the move\n",
    "        s_before = field\n",
    "        new_field, plate_a, plate_b = make_move_v2(field, move, moves)\n",
    "\n",
    "        # Calculate the score and update the field\n",
    "        score, new_field = calculate_score_v2(new_field, plate_a, plate_b)\n",
    "        \n",
    "        # Если ход результативный, то обновляем поле и проверяем, получились ли новые цветовые ряды\n",
    "        # Пока есть новые цветные ряды, обрабатываем их, обсчитываем и сдвигаем блюда\n",
    "        successful_move_flag = False\n",
    "\n",
    "        while (score > 0.):\n",
    "            if (not successful_move_flag):\n",
    "                COUNTER_OF_SUCCESSFUL_MOVES = COUNTER_OF_SUCCESSFUL_MOVES + 1\n",
    "                successful_move_flag = True\n",
    "\n",
    "            # Суммируем набранные очки\n",
    "            reward = reward + score\n",
    "\n",
    "            # Сдвигаем фишки вниз, заполняя верхний ряд каждый раз так, чтобы верхний ряд не создавал халявной тройки\n",
    "            # Начинаем с левого нижнего угла (чтобы переиспользовать color_fits())\n",
    "            new_field = fill_field(new_field, colors)\n",
    "\n",
    "            # Считаем очки и обрабатываем новые возможные цветные ряды\n",
    "            score, new_field = calculate_score_v2(new_field, (-1, -1), (-1, -1))\n",
    "\n",
    "        # Если ход успешный, то меняем поле\n",
    "        if (successful_move_flag):\n",
    "            field = new_field\n",
    "            \n",
    "        # Увеличиваем счет игры\n",
    "        game_score = game_score + reward\n",
    "            \n",
    "        # Сохраняем ход, очки и все состояния в память   \n",
    "        s_after = field\n",
    "        moves_memory.append((s_before, move, reward, s_after)) \n",
    "\n",
    "print(\"The number of successful moves is {}\".format(COUNTER_OF_SUCCESSFUL_MOVES))"
   ]
  },
  {
   "cell_type": "code",
   "execution_count": 18,
   "metadata": {},
   "outputs": [],
   "source": [
    "# Проверка, что в случае неуспешного (нулевого) хода начальное и конечное состояния совпадают\n",
    "for item in moves_memory:\n",
    "    if (item[2] == 0):\n",
    "        if ( np.abs(item[0] - item[3]).sum() != 0.  ):\n",
    "            print(\"Error!\")"
   ]
  },
  {
   "cell_type": "code",
   "execution_count": 19,
   "metadata": {},
   "outputs": [
    {
     "name": "stdout",
     "output_type": "stream",
     "text": [
      "6076 items cleared from moves_memory\n",
      "Final length of moves_memory is 3924\n"
     ]
    }
   ],
   "source": [
    "# Нужно проредить память ходов, чтобы сделать соотношение успешных и неуспешных ходов примерно 1:1\n",
    "moves_to_remove = len(moves_memory) - 2 * COUNTER_OF_SUCCESSFUL_MOVES\n",
    "\n",
    "i = 0\n",
    "\n",
    "while (i < moves_to_remove):\n",
    "    elem = rd.randint(0, len(moves_memory) - 1)\n",
    "    \n",
    "    if (moves_memory[elem][2] == 0.):\n",
    "        moves_memory.pop(elem)\n",
    "        i = i + 1\n",
    "    else:\n",
    "        rd.seed()\n",
    "        \n",
    "print(\"{} items cleared from moves_memory\".format(moves_to_remove))\n",
    "print(\"Final length of moves_memory is\", len(moves_memory))"
   ]
  },
  {
   "cell_type": "markdown",
   "metadata": {},
   "source": [
    "### Next train the CNN"
   ]
  },
  {
   "cell_type": "code",
   "execution_count": null,
   "metadata": {},
   "outputs": [],
   "source": [
    "# Готовим модель\n",
    "# v6.0 pure Keras 20190323\n",
    "aero_cnn = Sequential()\n",
    "\n",
    "aero_cnn.add(Conv2D(128, kernel_size=3, strides = (1, 1), padding='same', activation='relu', data_format = 'channels_last', input_shape=(7, 6, 1)))\n",
    "aero_cnn.add(Conv2D(64, kernel_size=3, strides = (1, 1), padding='same', activation='relu'))\n",
    "aero_cnn.add(Flatten())\n",
    "aero_cnn.add(Dense(32, activation='relu'))\n",
    "aero_cnn.add(Dense(1))\n",
    "\n",
    "aero_cnn.compile(optimizer='adam', loss='mean_squared_error', metrics=['mse'])\n",
    "\n",
    "aero_cnn.summary()"
   ]
  },
  {
   "cell_type": "code",
   "execution_count": 1,
   "metadata": {},
   "outputs": [],
   "source": [
    "# Constants\n",
    "NUM_OF_EPOCHS = 500\n",
    "MINIBATCH_SIZE = 64"
   ]
  },
  {
   "cell_type": "code",
   "execution_count": null,
   "metadata": {},
   "outputs": [],
   "source": [
    "%%time\n",
    "\n",
    "# Строим X_train и Y_train\n",
    "X_train = ()\n",
    "Y_train = np.zeros((len(replay_memory), 1))\n",
    "\n",
    "for num, item in enumerate(replay_memory):\n",
    "    s_before = item[0]\n",
    "    actn = item[1]\n",
    "    rwrd = item[2]\n",
    "    s_after = item[3]\n",
    "\n",
    "    X_train = X_train + (make_move(s_before, actn),)\n",
    "    Y_train[num, 0] = rwrd\n",
    "\n",
    "X_train = np.expand_dims(np.stack(X_train, axis=0), axis=3)\n",
    "\n",
    "# Делаем градиентный спуск, подкручиваем веса сети\n",
    "history = aero_cnn.fit(X_train, Y_train, batch_size=MINIBATCH_SIZE, epochs=NUM_OF_EPOCHS, verbose=0)\n",
    "\n",
    "plt.plot(history.history['loss'])\n",
    "plt.show()"
   ]
  },
  {
   "cell_type": "markdown",
   "metadata": {},
   "source": [
    "### Finally, look how CNN can play"
   ]
  },
  {
   "cell_type": "code",
   "execution_count": null,
   "metadata": {},
   "outputs": [],
   "source": [
    "NUMBER_OF_GAMES = 1000\n",
    "MAXIMUM_SCORE = 0"
   ]
  },
  {
   "cell_type": "code",
   "execution_count": null,
   "metadata": {},
   "outputs": [],
   "source": [
    "for game in range(NUMBER_OF_GAMES):\n",
    "    # Начинаем одну игру\n",
    "    game_score = 0\n",
    "\n",
    "    # Initialize the game field\n",
    "    field = np.zeros((7, 6))\n",
    "    field = initialize_field(field)\n",
    "\n",
    "    for m in range(NUMBER_OF_MOVES_IN_GAME):\n",
    "        # Общий счет хода\n",
    "        reward = 0\n",
    "        \n",
    "        # CNN selects a move\n",
    "        move = predict_max_score(field, aero_cnn, 142)[1]\n",
    "\n",
    "        # Make the move\n",
    "        s_before = field\n",
    "        new_field, plate_a, plate_b = make_move_v2(field, move, moves)\n",
    "\n",
    "        # Calculate the score and update the field\n",
    "        score, new_field = calculate_score_v2(new_field, plate_a, plate_b)\n",
    "        \n",
    "        # Если ход результативный, то обновляем поле и проверяем, получились ли новые цветовые ряды\n",
    "        # Пока есть новые цветные ряды, обрабатываем их, обсчитываем и сдвигаем блюда\n",
    "        successful_move_flag = False\n",
    "\n",
    "        while (score > 0.):\n",
    "            if (not successful_move_flag):\n",
    "                COUNTER_OF_SUCCESSFUL_MOVES = COUNTER_OF_SUCCESSFUL_MOVES + 1\n",
    "                successful_move_flag = True\n",
    "\n",
    "            # Суммируем набранные очки\n",
    "            reward = reward + score\n",
    "\n",
    "            # Сдвигаем фишки вниз, заполняя верхний ряд каждый раз так, чтобы верхний ряд не создавал халявной тройки\n",
    "            # Начинаем с левого нижнего угла (чтобы переиспользовать color_fits())\n",
    "            new_field = fill_field(new_field, colors)\n",
    "\n",
    "            # Считаем очки и обрабатываем новые возможные цветные ряды\n",
    "            score, new_field = calculate_score_v2(new_field, (-1, -1), (-1, -1))\n",
    "\n",
    "        # Если ход успешный, то меняем поле\n",
    "        if (successful_move_flag):\n",
    "            field = new_field\n",
    "            \n",
    "        # Увеличиваем счет игры\n",
    "        game_score = game_score + reward\n",
    "            \n",
    "    #\n",
    "    # Calculate and display overall stats\n",
    "    #\n",
    "    # Проверяем, не обновили ли максимум\n",
    "    if (game_score > MAXIMUM_SCORE):\n",
    "        print(\"New maximum: {}\".format(game_score))\n",
    "        MAXIMUM_SCORE = game_score\n",
    "\n",
    "    print(\"Game score is {}, the number of successful moves is {}\".format(game_score, COUNTER_OF_SUCCESSFUL_MOVES))"
   ]
  },
  {
   "cell_type": "code",
   "execution_count": null,
   "metadata": {},
   "outputs": [],
   "source": []
  },
  {
   "cell_type": "markdown",
   "metadata": {},
   "source": [
    "## Dynamic Learning"
   ]
  },
  {
   "cell_type": "code",
   "execution_count": null,
   "metadata": {},
   "outputs": [],
   "source": []
  },
  {
   "cell_type": "code",
   "execution_count": null,
   "metadata": {},
   "outputs": [],
   "source": []
  },
  {
   "cell_type": "code",
   "execution_count": null,
   "metadata": {},
   "outputs": [],
   "source": []
  },
  {
   "cell_type": "markdown",
   "metadata": {},
   "source": [
    "## Test part"
   ]
  },
  {
   "cell_type": "code",
   "execution_count": 77,
   "metadata": {},
   "outputs": [
    {
     "data": {
      "application/vnd.jupyter.widget-view+json": {
       "model_id": "6f43f16b97744e049f2779a15fdb83ef",
       "version_major": 2,
       "version_minor": 0
      },
      "text/plain": [
       "QgridWidget(grid_options={'fullWidthRows': True, 'syncColumnCellResize': True, 'forceFitColumns': True, 'defau…"
      ]
     },
     "metadata": {},
     "output_type": "display_data"
    }
   ],
   "source": [
    "#field = np.zeros((7, 6))\n",
    "\n",
    "df = pd.DataFrame(updated_field)\n",
    "qgrid_widget = qgrid.show_grid(df, show_toolbar=True)\n",
    "qgrid_widget"
   ]
  },
  {
   "cell_type": "code",
   "execution_count": 79,
   "metadata": {
    "scrolled": true
   },
   "outputs": [
    {
     "data": {
      "image/png": "[encoded data removed]",
      "text/plain": [
       "<Figure size 360x504 with 1 Axes>"
      ]
     },
     "metadata": {
      "needs_background": "light"
     },
     "output_type": "display_data"
    }
   ],
   "source": [
    "updated_df = qgrid_widget.get_changed_df()\n",
    "updated_field = updated_df.values\n",
    "visualize_field(updated_field)"
   ]
  },
  {
   "cell_type": "code",
   "execution_count": 80,
   "metadata": {},
   "outputs": [
    {
     "data": {
      "text/plain": [
       "([(5, 1, 4, 0, 0.8)], [(5, 4, 4)])"
      ]
     },
     "execution_count": 80,
     "metadata": {},
     "output_type": "execute_result"
    }
   ],
   "source": [
    "get_sets(updated_field)"
   ]
  },
  {
   "cell_type": "code",
   "execution_count": 81,
   "metadata": {},
   "outputs": [
    {
     "name": "stdout",
     "output_type": "stream",
     "text": [
      "6\n"
     ]
    },
    {
     "data": {
      "image/png": "[encoded data removed]",
      "text/plain": [
       "<Figure size 360x504 with 1 Axes>"
      ]
     },
     "metadata": {
      "needs_background": "light"
     },
     "output_type": "display_data"
    }
   ],
   "source": [
    "score, new_field = calculate_score_v2(updated_field, (6, 3), (5, 3))\n",
    "print(score)\n",
    "visualize_field(updated_field)"
   ]
  },
  {
   "cell_type": "code",
   "execution_count": 83,
   "metadata": {},
   "outputs": [],
   "source": [
    "#updated_field_2 = fill_field(updated_field, colors)\n",
    "#visualize_field(updated_field_2)"
   ]
  },
  {
   "cell_type": "code",
   "execution_count": null,
   "metadata": {},
   "outputs": [],
   "source": []
  },
  {
   "cell_type": "code",
   "execution_count": null,
   "metadata": {},
   "outputs": [],
   "source": []
  },
  {
   "cell_type": "code",
   "execution_count": null,
   "metadata": {},
   "outputs": [],
   "source": []
  },
  {
   "cell_type": "code",
   "execution_count": 38,
   "metadata": {},
   "outputs": [],
   "source": []
  },
  {
   "cell_type": "code",
   "execution_count": 107,
   "metadata": {},
   "outputs": [],
   "source": []
  },
  {
   "cell_type": "code",
   "execution_count": null,
   "metadata": {
    "scrolled": false
   },
   "outputs": [],
   "source": []
  },
  {
   "cell_type": "code",
   "execution_count": null,
   "metadata": {},
   "outputs": [],
   "source": []
  },
  {
   "cell_type": "code",
   "execution_count": null,
   "metadata": {},
   "outputs": [],
   "source": []
  },
  {
   "cell_type": "code",
   "execution_count": null,
   "metadata": {},
   "outputs": [],
   "source": []
  },
  {
   "cell_type": "code",
   "execution_count": null,
   "metadata": {},
   "outputs": [],
   "source": []
  },
  {
   "cell_type": "code",
   "execution_count": null,
   "metadata": {},
   "outputs": [],
   "source": []
  },
  {
   "cell_type": "code",
   "execution_count": null,
   "metadata": {},
   "outputs": [],
   "source": []
  },
  {
   "cell_type": "code",
   "execution_count": null,
   "metadata": {},
   "outputs": [],
   "source": []
  },
  {
   "cell_type": "code",
   "execution_count": 10,
   "metadata": {},
   "outputs": [],
   "source": []
  },
  {
   "cell_type": "code",
   "execution_count": null,
   "metadata": {},
   "outputs": [],
   "source": []
  },
  {
   "cell_type": "code",
   "execution_count": null,
   "metadata": {},
   "outputs": [],
   "source": []
  },
  {
   "cell_type": "code",
   "execution_count": 13,
   "metadata": {},
   "outputs": [],
   "source": []
  },
  {
   "cell_type": "code",
   "execution_count": 15,
   "metadata": {
    "scrolled": true
   },
   "outputs": [],
   "source": []
  },
  {
   "cell_type": "code",
   "execution_count": 1,
   "metadata": {},
   "outputs": [],
   "source": []
  },
  {
   "cell_type": "code",
   "execution_count": null,
   "metadata": {},
   "outputs": [],
   "source": []
  },
  {
   "cell_type": "markdown",
   "metadata": {},
   "source": [
    "### Now the CNN has been trained.\n",
    "### Start the long reinforcement-learning cycle"
   ]
  },
  {
   "cell_type": "code",
   "execution_count": 42,
   "metadata": {},
   "outputs": [],
   "source": [
    "# Definitions\n",
    "#GAMES_TO_PLAY = 1000000\n",
    "GAMES_TO_PLAY = 2\n",
    "REPLAY_MEMORY_SIZE = 8192\n",
    "RANDOM_MOVE_PROB = 0.5\n",
    "DYNAMIC_LEARNING_EPOCHS = 10\n",
    "\n",
    "# Variables\n",
    "MAXIMUM_SCORE = 0\n",
    "TOTAL_SCORE = 0.0\n",
    "AVG_SCORE_HIST = []\n",
    "TOTAL_SUCCESSFUL_MOVES = 0.0\n",
    "AVG_SUCC_MOVES_HIST = []"
   ]
  },
  {
   "cell_type": "code",
   "execution_count": 43,
   "metadata": {},
   "outputs": [],
   "source": [
    "# Initialize replay_memory\n",
    "replay_memory = []"
   ]
  },
  {
   "cell_type": "code",
   "execution_count": 46,
   "metadata": {},
   "outputs": [
    {
     "name": "stdout",
     "output_type": "stream",
     "text": [
      "New maximum: 426.0, after 0 games.\n"
     ]
    },
    {
     "ename": "NameError",
     "evalue": "name 'TOTAL_SUCCESSFUL_MOVES' is not defined",
     "output_type": "error",
     "traceback": [
      "\u001b[1;31m---------------------------------------------------------------------------\u001b[0m",
      "\u001b[1;31mNameError\u001b[0m                                 Traceback (most recent call last)",
      "\u001b[1;32m<timed exec>\u001b[0m in \u001b[0;36m<module>\u001b[1;34m\u001b[0m\n",
      "\u001b[1;31mNameError\u001b[0m: name 'TOTAL_SUCCESSFUL_MOVES' is not defined"
     ]
    }
   ],
   "source": [
    "%%time\n",
    "\n",
    "for game in range(GAMES_TO_PLAY):\n",
    "    # Начинаем одну игру\n",
    "    game_score = 0\n",
    "    successful_moves = 0\n",
    "\n",
    "    # Initialize the game field\n",
    "    field = np.zeros((7, 6))\n",
    "    field = initialize_field(field)\n",
    "\n",
    "    for m in range(NUMBER_OF_MOVES_IN_GAME):\n",
    "        # Общий счет хода\n",
    "        reward = 0\n",
    "\n",
    "        # CNN selects a move\n",
    "        # Пока не будем использовать случайные ходы, хотя так описано в статье\n",
    "        # Если в replay_memory меньше 64 ходов, то делаем эти ходы случайным образом\n",
    "        if (len(replay_memory) < MINIBATCH_SIZE):\n",
    "            move = rd.randint(1, 142) \n",
    "        else:\n",
    "            move = predict_max_score(field, aero_cnn, 142)[1]\n",
    "\n",
    "        # Make the move\n",
    "        s_before = field\n",
    "        new_field = make_move(field, move)\n",
    "\n",
    "        # Считаем очки за ход\n",
    "        temp_field = calculate_score(new_field)\n",
    "        score = temp_field.sum()\n",
    "        successful_move_flag = False\n",
    "\n",
    "        # Если ход результативный, то обновляем поле и проверяем, получились ли новые цветовые ряды\n",
    "        while (score > 0.):\n",
    "            if (not successful_move_flag):\n",
    "                successful_moves = successful_moves + 1\n",
    "                successful_move_flag = True\n",
    "\n",
    "            # Суммируем набранные очки\n",
    "            reward = reward + score\n",
    "\n",
    "            # Обнуляем собранные цветные ряды\n",
    "            new_field = np.multiply(new_field, 1.0 - temp_field)\n",
    "\n",
    "            # Сдвигаем фишки вниз, заполняя верхний ряд каждый раз так, чтобы верхний ряд не создавал халявной тройки\n",
    "            # Начинаем с левого нижнего угла (чтобы переиспользовать color_fits())\n",
    "            new_field = fill_field(new_field, colors)\n",
    "\n",
    "            # Проверяем, получились ли новые цветные ряды\n",
    "            temp_field = calculate_score(new_field)\n",
    "            score = temp_field.sum()\n",
    "\n",
    "        # Увеличиваем счет игры\n",
    "        game_score = game_score + reward\n",
    "\n",
    "        #\n",
    "        # Train CNN based on the score\n",
    "        #\n",
    "        if (len(replay_memory) >= MINIBATCH_SIZE):\n",
    "            # Случайно выбираем 64 хода из памяти\n",
    "            samples = rd.sample(replay_memory, MINIBATCH_SIZE)\n",
    "            # Один ход (пусть будет последний) заполняем нашим реальным ходом\n",
    "            samples[MINIBATCH_SIZE - 1] = (field, move, reward, new_field)\n",
    "\n",
    "            # Строим X_train и Y_train\n",
    "            X_train = ()\n",
    "            Y_train = np.zeros((MINIBATCH_SIZE, 1))\n",
    "\n",
    "            for num, item in enumerate(samples):\n",
    "                s_before = item[0]\n",
    "                actn = item[1]\n",
    "                rwrd = item[2]\n",
    "                s_after = item[3]\n",
    "\n",
    "                X_train = X_train + (make_move(s_before, actn),)\n",
    "                Y_train[num, 0] = rwrd + GAMMA * predict_max_score(s_after, aero_cnn, 142)[0]\n",
    "\n",
    "            # 64-й ход - реальный, поэтому для него предсказание будущего не нужно. Ставим фактическое значение\n",
    "            Y_train[MINIBATCH_SIZE - 1, 0] = rwrd\n",
    "            # Делаем правильный по размеру тензор\n",
    "            X_train = np.expand_dims(np.stack(X_train, axis=0), axis=3)\n",
    "            # Подкручиваем сеть\n",
    "            aero_cnn.fit(X_train, Y_train, epochs=DYNAMIC_LEARNING_EPOCHS, verbose=0)\n",
    "\n",
    "            if (len(replay_memory) == REPLAY_MEMORY_SIZE):\n",
    "                replay_memory.pop(0)\n",
    "\n",
    "        # Add new move to the replay memory\n",
    "        replay_memory.append((field, move, reward, new_field))\n",
    "\n",
    "        # Если ход успешный, то меняем поле\n",
    "        if (successful_move_flag):\n",
    "            field = new_field\n",
    "\n",
    "    #\n",
    "    # Calculate and display overall stats\n",
    "    #\n",
    "    # Проверяем, не обновили ли максимум\n",
    "    if (game_score > MAXIMUM_SCORE):\n",
    "        print(\"New maximum: {}, after {} games.\".format(game_score, game))\n",
    "        MAXIMUM_SCORE = game_score\n",
    "        \n",
    "    # После каждой тысячи игр выводим средний балл за игру, среднее число успешных ходов за игру\n",
    "    TOTAL_SCORE = TOTAL_SCORE + game_score\n",
    "    TOTAL_SUCCESSFUL_MOVES = TOTAL_SUCCESSFUL_MOVES + successful_moves\n",
    "    \n",
    "    if ((game % 1000 == 0) and (game > 0)):\n",
    "        avg_score = TOTAL_SCORE / game\n",
    "        AVG_SCORE_HIST.append(avg_score)\n",
    "        \n",
    "        avg_succ_moves = TOTAL_SUCCESSFUL_MOVES / game\n",
    "        AVG_SUCC_MOVES_HIST.append(avg_succ_moves)\n",
    "\n",
    "        print(\"Average score = {}, Average number of successful moves = {}\".format(avg_score, avg_succ_moves))        \n",
    "        \n",
    "# По окончании мероприятия посмотрим историю среднего балла\n",
    "plt.plot(AVG_SCORE_HIST, color='red')\n",
    "plt.plot(AVG_SUCC_MOVES_HIST, color='blue')\n",
    "plt.show()"
   ]
  },
  {
   "cell_type": "code",
   "execution_count": 45,
   "metadata": {
    "scrolled": true
   },
   "outputs": [
    {
     "data": {
      "text/plain": [
       "39"
      ]
     },
     "execution_count": 45,
     "metadata": {},
     "output_type": "execute_result"
    }
   ],
   "source": [
    "successful_moves"
   ]
  },
  {
   "cell_type": "code",
   "execution_count": 34,
   "metadata": {},
   "outputs": [
    {
     "name": "stdout",
     "output_type": "stream",
     "text": [
      "[[0.8 0.4 0.8 0.4 0.4 0.8]\n",
      " [0.2 0.2 0.6 0.8 0.8 0.2]\n",
      " [0.4 0.8 0.2 0.6 0.6 0.2]\n",
      " [0.4 0.4 0.6 0.8 0.4 0.8]\n",
      " [0.2 0.8 0.2 0.4 0.2 0.4]\n",
      " [0.6 0.4 0.2 0.4 0.6 0.4]\n",
      " [0.2 0.8 0.8 0.8 0.2 0.2]]\n"
     ]
    }
   ],
   "source": [
    "new_field = make_move(field, move)\n",
    "print(new_field)"
   ]
  },
  {
   "cell_type": "code",
   "execution_count": 35,
   "metadata": {},
   "outputs": [],
   "source": [
    "temp_field = calculate_score(new_field)"
   ]
  },
  {
   "cell_type": "code",
   "execution_count": 36,
   "metadata": {},
   "outputs": [],
   "source": [
    "new_field = np.multiply(new_field, 1.0 - temp_field)"
   ]
  },
  {
   "cell_type": "code",
   "execution_count": 37,
   "metadata": {},
   "outputs": [],
   "source": [
    "fill_field(new_field, colors)"
   ]
  },
  {
   "cell_type": "code",
   "execution_count": null,
   "metadata": {},
   "outputs": [],
   "source": []
  },
  {
   "cell_type": "code",
   "execution_count": 23,
   "metadata": {},
   "outputs": [],
   "source": [
    "#\n",
    "# Save model\n",
    "#\n",
    "# v1: 20190329, trained on len(replay_memory) = 294912\n",
    "#aero_cnn.save(\"Aero_CNN_v1\")"
   ]
  },
  {
   "cell_type": "code",
   "execution_count": null,
   "metadata": {},
   "outputs": [],
   "source": []
  },
  {
   "cell_type": "markdown",
   "metadata": {},
   "source": [
    "## Backup"
   ]
  },
  {
   "cell_type": "code",
   "execution_count": null,
   "metadata": {},
   "outputs": [],
   "source": [
    "#\n",
    "# Create the moves dictionary\n",
    "#\n",
    "moves = {}\n",
    "\n",
    "for i in range(1, 143):\n",
    "    old_row, old_column, old_direction = process_move_142(i)\n",
    "    \n",
    "    start_row = old_row - 1\n",
    "    start_col = old_column - 1\n",
    "    \n",
    "    if (old_direction == \"down\"):\n",
    "        end_row = start_row + 1\n",
    "        end_col = start_col\n",
    "    elif (old_direction == \"up\"):\n",
    "        end_row = start_row - 1\n",
    "        end_col = start_col\n",
    "    elif (old_direction == \"right\"):\n",
    "        end_row = start_row\n",
    "        end_col = start_col + 1\n",
    "    else:\n",
    "        end_row = start_row\n",
    "        end_col = start_col - 1\n",
    "        \n",
    "    moves[i] = ((start_row, start_col), (end_row, end_col))\n",
    "    \n",
    "print(moves)"
   ]
  }
 ],
 "metadata": {
  "kernelspec": {
   "display_name": "Python 3",
   "language": "python",
   "name": "python3"
  },
  "language_info": {
   "codemirror_mode": {
    "name": "ipython",
    "version": 3
   },
   "file_extension": ".py",
   "mimetype": "text/x-python",
   "name": "python",
   "nbconvert_exporter": "python",
   "pygments_lexer": "ipython3",
   "version": "3.7.1"
  }
 },
 "nbformat": 4,
 "nbformat_minor": 2
}
