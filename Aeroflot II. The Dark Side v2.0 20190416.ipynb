{
 "cells": [
  {
   "cell_type": "markdown",
   "metadata": {},
   "source": [
    "### Use bonus plates (length of 4)"
   ]
  },
  {
   "cell_type": "code",
   "execution_count": 8,
   "metadata": {},
   "outputs": [
    {
     "name": "stdout",
     "output_type": "stream",
     "text": [
      "Populating the interactive namespace from numpy and matplotlib\n"
     ]
    }
   ],
   "source": [
    "import random as rd\n",
    "import numpy as np\n",
    "\n",
    "from tensorflow.keras.layers import Input, Add, Dense, Activation, ZeroPadding2D, BatchNormalization, Flatten, Conv2D\n",
    "from tensorflow.keras.models import Model, load_model, Sequential\n",
    "\n",
    "from tensorflow.keras import backend\n",
    "from tensorflow.keras import initializers\n",
    "\n",
    "import matplotlib.pyplot as plt\n",
    "import matplotlib.patches as mpatches\n",
    "%pylab inline"
   ]
  },
  {
   "cell_type": "code",
   "execution_count": 6,
   "metadata": {},
   "outputs": [],
   "source": [
    "#\n",
    "# Definitions\n",
    "#\n",
    "# RED = 0.2\n",
    "# GREEN = 0.4\n",
    "# BLUE = 0.6\n",
    "# PURPLE = 0.8\n",
    "#\n",
    "colors = [0.2, 0.4, 0.6, 0.8]"
   ]
  },
  {
   "cell_type": "markdown",
   "metadata": {},
   "source": [
    "### Functions must be changed"
   ]
  },
  {
   "cell_type": "code",
   "execution_count": null,
   "metadata": {},
   "outputs": [],
   "source": [
    "def color_fits(field, i, j, new_color):\n",
    "    \"\"\"\n",
    "    Checks if two items to the left or two colors to the top are NOT of the same color as the new item.\n",
    "    Input:\n",
    "    - field: battfield, numpy array\n",
    "    - i, j: position on the new item, int, within field.shape\n",
    "    - new_color: color of the new item, float\n",
    "    Output:\n",
    "    - boolean: True, if the new item is ok\n",
    "    \"\"\"\n",
    "    # Check two colors to the left\n",
    "    if (j > 1):\n",
    "        if (round(field[i, j - 2] % 1.0, 1) == new_color) and (round(field[i, j - 1] % 1.0, 1) == new_color):\n",
    "            return False\n",
    "        \n",
    "    # Check two colors to the right\n",
    "    if (j < 4):\n",
    "        if (round(field[i, j + 2] % 1.0, 1) == new_color) and (round(field[i, j + 1] % 1.0, 1) == new_color):\n",
    "            return False\n",
    "    \n",
    "    # Check two color to the top\n",
    "    if (i < 5):\n",
    "        if (round(field[i + 2, j] % 1.0, 1) == new_color) and (round(field[i + 1, j] % 1.0, 1) == new_color):\n",
    "            return False\n",
    "    \n",
    "    return True"
   ]
  },
  {
   "cell_type": "code",
   "execution_count": null,
   "metadata": {},
   "outputs": [],
   "source": []
  },
  {
   "cell_type": "code",
   "execution_count": null,
   "metadata": {},
   "outputs": [],
   "source": []
  },
  {
   "cell_type": "code",
   "execution_count": null,
   "metadata": {},
   "outputs": [],
   "source": []
  },
  {
   "cell_type": "markdown",
   "metadata": {},
   "source": [
    "### Functions left unchanged"
   ]
  },
  {
   "cell_type": "code",
   "execution_count": null,
   "metadata": {},
   "outputs": [],
   "source": [
    "def initialize_field(field):\n",
    "    \"\"\"\n",
    "    Initialization of the battle field.\n",
    "    Move from bottom left corner and add new elements.\n",
    "    Input: \n",
    "    - field: numpy array of zeros, 7x6\n",
    "    Output:\n",
    "    - field: numpy array of floats, 7x6\n",
    "    \"\"\"\n",
    "    colors = [0.2, 0.4, 0.6, 0.8]\n",
    "    \n",
    "    for i in list(range(field.shape[0]))[::-1]:\n",
    "        for j in range(field.shape[1]):\n",
    "            rd.seed()\n",
    "            new_color = rd.choice(colors)\n",
    "            \n",
    "            while not color_fits(field, i, j, new_color):\n",
    "                rd.seed()\n",
    "                new_color = rd.choice(colors)\n",
    "                \n",
    "            field[i, j] = new_color\n",
    "    \n",
    "    return field"
   ]
  },
  {
   "cell_type": "code",
   "execution_count": null,
   "metadata": {},
   "outputs": [],
   "source": [
    "def visualize_field(field):\n",
    "    \"\"\"\n",
    "    Visualizes the battle field in colored circles\n",
    "    Handles bonus plates\n",
    "    Input:\n",
    "    - field: numpy array of floats, 7x6\n",
    "    Output:\n",
    "    - None\n",
    "    \"\"\"\n",
    "    fig, ax = plt.subplots(figsize=(5, 7))\n",
    "\n",
    "    ax.set_xlim((0, 10))\n",
    "    ax.set_ylim((0, 13))\n",
    "\n",
    "    circles = []\n",
    "\n",
    "    for ii in range(7):\n",
    "        for jj in range(6):\n",
    "            if (field[ii, jj] == 0.2):\n",
    "                clr = \"red\"\n",
    "            elif (field[ii, jj] == 0.4):\n",
    "                clr = \"lightgreen\"\n",
    "            elif (field[ii, jj] == 0.6):\n",
    "                clr = \"cyan\"\n",
    "            else:\n",
    "                clr = \"purple\"\n",
    "\n",
    "            if (field[ii, jj] // 1 == 1.0):\n",
    "                circles.append( mpatches.RegularPolygon((jj + 1, 7 - ii), numVertices=4, radius=0.4, color=clr) )\n",
    "            else:\n",
    "                circles.append( mpatches.Circle((jj + 1, 7 - ii), radius=0.4, color=clr) )\n",
    "\n",
    "    for circ in circles:\n",
    "        ax.add_artist(circ)\n",
    "        \n",
    "    return"
   ]
  },
  {
   "cell_type": "code",
   "execution_count": null,
   "metadata": {},
   "outputs": [],
   "source": [
    "def get_length_to_right(ribbon, color, length):\n",
    "    \"\"\"\n",
    "    TODO\n",
    "    \"\"\"\n",
    "    length = length + 1\n",
    "    \n",
    "    if (len(ribbon) == 0) or (ribbon[0] != color):\n",
    "        return length\n",
    "\n",
    "    return get_length_to_right(ribbon[1:], color, length)"
   ]
  },
  {
   "cell_type": "code",
   "execution_count": null,
   "metadata": {},
   "outputs": [],
   "source": [
    "def fill_field(field, colors):\n",
    "    \"\"\"\n",
    "    Наполняет поле после сжигания рядов.\n",
    "    Сдвигает фишки вниз, заполняя верхний ряд каждый раз так, чтобы верхний ряд не создавал халявной тройки\n",
    "    Начинает с левого нижнего угла, чтобы переиспользовать color_fits()\n",
    "    Input:\n",
    "    - field: numpy array of floats, 7x6\n",
    "    - colors: list of 4 floats - color values, see the definition above\n",
    "    Output:\n",
    "    - numpy array of floats, 7x6 - updated field\n",
    "    \"\"\"\n",
    "    for ii in list(range(7))[::-1]:\n",
    "        for jj in range(6):\n",
    "            while (field[ii, jj] == 0.):\n",
    "                # Опускаем на один вниз\n",
    "                # Если мы в самом верхнем ряду, то опускать не нужно\n",
    "                if (ii != 0):\n",
    "                    for iii in list(range(1, ii + 1))[::-1]:\n",
    "                        field[iii, jj] = field[iii - 1, jj]\n",
    "\n",
    "                # Заполняем верх\n",
    "                new_color = rd.choice(colors)\n",
    "\n",
    "                while not color_fits(field, 0, jj, new_color):\n",
    "                    new_color = rd.choice(colors)\n",
    "\n",
    "                field[0, jj] = new_color  \n",
    "                \n",
    "    return field"
   ]
  },
  {
   "cell_type": "code",
   "execution_count": null,
   "metadata": {},
   "outputs": [],
   "source": [
    "def make_move_v2(field, move):\n",
    "    \"\"\"\n",
    "    Physically moves plates according to the move\n",
    "    Input:\n",
    "    - field: numpy array of floats, 7x6\n",
    "    - move: particular move to make, 1<=move<=142\n",
    "    Output:\n",
    "    - new_field: updated field with two swapped plates\n",
    "    - plate_start: coordinates of the plate that started the move, tuple (row, column)\n",
    "    - plate_end: cooredinates of the plate that ended the move, tuple (row, column)\n",
    "    \"\"\"\n",
    "    start_y, start_x, direction = process_move_142(move)\n",
    "    \n",
    "    if (direction == \"down\"):\n",
    "        end_x = start_x\n",
    "        end_y = start_y + 1\n",
    "    elif (direction == \"up\"):\n",
    "        end_x = start_x\n",
    "        end_y = start_y - 1\n",
    "    elif (direction == \"left\"):\n",
    "        end_x = start_x - 1\n",
    "        end_y = start_y \n",
    "    else:\n",
    "        end_x = start_x + 1\n",
    "        end_y = start_y \n",
    "\n",
    "    # Swap two plates and create new (modified) field\n",
    "    new_field = np.array(field)\n",
    "    source_color = field[start_y - 1, start_x - 1]\n",
    "    new_field[start_y - 1, start_x - 1] = field[end_y - 1, end_x - 1]\n",
    "    new_field[end_y - 1, end_x - 1] = source_color\n",
    "        \n",
    "    return new_field, (start_y - 1, start_x - 1), (end_y - 1, end_x - 1)"
   ]
  },
  {
   "cell_type": "code",
   "execution_count": 28,
   "metadata": {},
   "outputs": [],
   "source": [
    "def calculate_score_v2(field, plate_from, plate_to):\n",
    "    \"\"\"\n",
    "    Calculates the score in the field. \n",
    "    Replaces all sets with zeros.\n",
    "    Handles bonus plates: replaces required rows with zeros (Type 4)\n",
    "    Puts bonus plates, should any set be of the length of 4\n",
    "    Input:\n",
    "    - field: numpy array of floats, 7x6\n",
    "    - plate_from: coordinates of the plate where the move starts, tuple (row, column)\n",
    "    - plate_to: coordinates of the plate where the move ends, tuple (row, column)\n",
    "    Output:\n",
    "    - score: int, 0+\n",
    "    - field: modified field\n",
    "    \"\"\"\n",
    "    # Get all sets with possible bonus plates\n",
    "    sets, bonus_plates = get_sets(field)\n",
    "\n",
    "    # Set all requires plates to zero\n",
    "    #\n",
    "    # First handle sets\n",
    "    for st in sets:\n",
    "        row = st[0]\n",
    "        col = st[1]\n",
    "        lng = st[2]\n",
    "        drc = st[3]\n",
    "\n",
    "        if (drc == 0):\n",
    "            field[row, col:(col + lng - 1)] = 0\n",
    "        else:\n",
    "            field[row:(row + lng - 1), col] = 0\n",
    "    #       \n",
    "    # Then handle bonus plates/rows\n",
    "    for pl in bonus_plates:\n",
    "        row = pl[0]\n",
    "        col = pl[1]\n",
    "        typ = pl[2]\n",
    "\n",
    "        if (typ == 4):\n",
    "            field[row, :] = 0\n",
    "\n",
    "    # Calculate score\n",
    "    score = (field == 0.).sum()\n",
    "\n",
    "    # Put new bonus plates. Specially care for the move coordinates\n",
    "    for st in sets:\n",
    "        row = st[0]\n",
    "        col = st[1]\n",
    "        lng = st[2]\n",
    "        drc = st[3]\n",
    "        clr = st[4]\n",
    "\n",
    "        if (lng >= 4):\n",
    "            if (plate_in_set(plate_from, row, col, lng, drc)):\n",
    "                # Move start plate in set. Put new bonus plate according to the move coordinates\n",
    "                field[plate_from[0], plate_from[1]] = clr + 1.0\n",
    "            elif (plate_in_set(plate_to, row, col, lng, drc)):\n",
    "                # Move end plate in set. Put new bonus plate according to the move coordinates\n",
    "                field[plate_to[0], plate_to[1]] = clr + 1.0\n",
    "            else:\n",
    "                # Just put the new bonus plate at the very right/bottom of the set\n",
    "                # This CANNOT happen during the manual move!\n",
    "                # It CAN ONLY HAPPEN when the field is randomly filled with new plates\n",
    "                if (drc == 0):\n",
    "                    field[row, col + lng - 1] = clr + 1.0\n",
    "                else:\n",
    "                    field[row + lng - 1, col] = clr + 1.0\n",
    "\n",
    "    return score, field\n",
    "\n",
    "\n",
    "def get_sets(field):\n",
    "    \"\"\"\n",
    "    Finds all sets and all bonus plates included into those sets\n",
    "    Input:\n",
    "    - field: numpy array of floats, 7x6\n",
    "    Output:\n",
    "    - list of sets coordinates: list of tuples (row_start, column_start, set_length, direction, color), counting from top left corner\n",
    "      Direction is either 0 (horizontal) or 1 (vertical)\n",
    "    - list of bonus plates included into sets: list of tuples (row, column, type). \n",
    "      Type is either 4 or 5 (reserved for future)\n",
    "    \"\"\"\n",
    "    perm_bonus_plates = []\n",
    "    perm_sets = []\n",
    "\n",
    "    # Find all 3+ sets in horizontal row\n",
    "    for ii in range(field.shape[0]):\n",
    "        temp_bonus_plates = []\n",
    "        jj = 0\n",
    "        len = 1\n",
    "        while (jj < field.shape[1]):\n",
    "            if (jj > 0):\n",
    "                if (round(field[ii, jj] % 1.0, 1) == round(field[ii, jj - 1] % 1.0, 1)):\n",
    "                    len = len + 1\n",
    "                else:\n",
    "                    if (len >= 3):\n",
    "                        # Add temp list of bonus plates to the permanent list of bonus plates\n",
    "                        perm_bonus_plates = perm_bonus_plates + temp_bonus_plates\n",
    "                        \n",
    "                        # Add to permanent list of sets\n",
    "                        perm_sets.append((ii, jj - len, len, 0, round(field[ii, jj - 1] % 1.0, 1))\n",
    "                        \n",
    "                    temp_bonus_plates = []\n",
    "                    len = 1\n",
    "            \n",
    "            if (field[ii, jj] > 1.):\n",
    "                # Add to temp list of bonus plates\n",
    "                temp_bonus_plates.append((ii, jj, 4))\n",
    "            \n",
    "            jj = jj + 1\n",
    "            \n",
    "        if (len >= 3):\n",
    "            # Add temp list of bonus plates to the permanent list of bonus plates\n",
    "            perm_bonus_plates = perm_bonus_plates + temp_bonus_plates\n",
    "\n",
    "            # Add to permanent list of sets\n",
    "            perm_sets.append((ii, jj - len, len, 0, round(field[ii, jj - 1] % 1.0, 1))\n",
    "\n",
    "    # Find all 3+ sets in vertical columns\n",
    "    for jj in range(field.shape[1]):\n",
    "        temp_bonus_plates = []\n",
    "        ii = 0\n",
    "        len = 1\n",
    "        while (ii < field.shape[0]):\n",
    "            if (ii > 0):\n",
    "                if (round(field[ii, jj] % 1.0, 1) == round(field[ii - 1, jj] % 1.0, 1)):\n",
    "                    len = len + 1\n",
    "                else:\n",
    "                    if (len >= 3):\n",
    "                        # Add temp list of bonus plates to the permanent list of bonus plates\n",
    "                        perm_bonus_plates = perm_bonus_plates + temp_bonus_plates\n",
    "                        \n",
    "                        # Add to permanent list of sets\n",
    "                        perm_sets.append((ii - len, jj, len, 1, round(field[ii - 1, jj] % 1.0, 1))\n",
    "                        \n",
    "                    temp_bonus_plates = []\n",
    "                    len = 1\n",
    "            \n",
    "            if (field[ii, jj] > 1.):\n",
    "                # Add to temp list of bonus plates\n",
    "                temp_bonus_plates.append((ii, jj, 4))\n",
    "            \n",
    "            ii = ii + 1\n",
    "            \n",
    "        if (len >= 3):\n",
    "            # Add temp list of bonus plates to the permanent list of bonus plates\n",
    "            perm_bonus_plates = perm_bonus_plates + temp_bonus_plates\n",
    "\n",
    "            # Add to permanent list of sets\n",
    "            perm_sets.append((ii - len, jj, len, 1, round(field[ii - 1, jj] % 1.0, 1))\n",
    "            \n",
    "    return perm_sets, perm_bonus_plates"
   ]
  },
  {
   "cell_type": "code",
   "execution_count": null,
   "metadata": {},
   "outputs": [],
   "source": []
  },
  {
   "cell_type": "code",
   "execution_count": null,
   "metadata": {},
   "outputs": [],
   "source": []
  },
  {
   "cell_type": "code",
   "execution_count": null,
   "metadata": {},
   "outputs": [],
   "source": []
  },
  {
   "cell_type": "code",
   "execution_count": null,
   "metadata": {},
   "outputs": [],
   "source": []
  },
  {
   "cell_type": "code",
   "execution_count": 7,
   "metadata": {},
   "outputs": [],
   "source": [
    "\n",
    "\n"
   ]
  },
  {
   "cell_type": "code",
   "execution_count": 4,
   "metadata": {},
   "outputs": [],
   "source": [
    "ЭТА ДОЛЖНА ОТОБРАЖАТЬ БОНУСНЫЕ БЛЮДА ПО-ДРУГОМУ\n",
    "\n"
   ]
  },
  {
   "cell_type": "code",
   "execution_count": 3,
   "metadata": {},
   "outputs": [
    {
     "data": {
      "text/plain": [
       "0.0"
      ]
     },
     "execution_count": 3,
     "metadata": {},
     "output_type": "execute_result"
    }
   ],
   "source": [
    "0.8 // 1"
   ]
  },
  {
   "cell_type": "code",
   "execution_count": 8,
   "metadata": {},
   "outputs": [],
   "source": [
    "ДОЛЖНА ОТДАВАТЬ БЛЮДО, С КОТОРОГО НАЧАЛСЯ ХОД\n",
    "ОПТИМИЗАЦИЯ: МОЖНО СРАЗУ ОТДАВАТЬ КООРДИНАТЫ ОБЕИХ КЛЕТОК, В КОТОРЫХ БУДЕТ ХОД\n",
    "((ряд_откуда, колонка_откуда), (ряд_куда, колонка_куда))\n",
    "ОПТИМИЗАЦИЯ: ПРЕВРАТИТЬ ЕЁ В СЛОВАРЬ\n",
    "\n",
    "def process_move_142(move):\n",
    "    \"\"\"\n",
    "    There are total 142 possible moves:\n",
    "    - along the vertical axis: 6 + 5*12 + 6 = 6*12 = 72\n",
    "    - along the norizontal axis: 7 + 4*14 + 7 = 5*14 = 70\n",
    "    \n",
    "    The _move_ parameter:\n",
    "    Vertical moves:\n",
    "    move in 1-6: row 1, column _move_, down\n",
    "    move in 7-66: row (move - 7 // 12) + 2, column (((move - 7) % 12) // 2) + 1, direction _move_ % 2 == 0 - up, otherwise - down\n",
    "    move in 67-72: row 7, column (move - 66), up\n",
    "    \n",
    "    Horizontal moves:\n",
    "    move in 73-79: row (move - 72), column 1, right\n",
    "    move in 80-135: row ((move - 80) % 14) // 2 + 1, column ((move - 80) // 14) + 2, direction _move_ % 2 == 0 - left, otherwise - right\n",
    "    move in 136-142: row (move - 135), column 6, left    \n",
    "    \n",
    "    Input:\n",
    "    - move: move code, 1-142, int\n",
    "    Output:\n",
    "    - row: row where the moved object located, 1-7, int\n",
    "    - column: row where the moved object located, 1-6, int\n",
    "    - direction: \"up\"/\"down\"/\"left\"/\"right\", string\n",
    "    \"\"\"\n",
    "    # Process move\n",
    "    if (move in range(1, 7)):\n",
    "        row = 1\n",
    "        column = move\n",
    "        direction = \"down\"\n",
    "    elif (move in range(7, 67)):\n",
    "        row = ((move - 7) // 12) + 2\n",
    "        column = (((move - 7) % 12) // 2) + 1\n",
    "        direction = \"up\" if (move % 2 == 0) else \"down\"\n",
    "    elif (move in range(67, 73)):\n",
    "        row = 7\n",
    "        column = move - 66\n",
    "        direction = \"up\"\n",
    "    elif (move in range(73, 80)):\n",
    "        row = move - 72\n",
    "        column = 1\n",
    "        direction = \"right\"\n",
    "    elif (move in range(80, 136)):\n",
    "        row = (((move - 80) % 14) // 2) + 1\n",
    "        column = ((move - 80) // 14) + 2\n",
    "        direction = \"left\" if (move % 2 == 0) else \"right\"\n",
    "    else:\n",
    "        row = move - 135\n",
    "        column = 6\n",
    "        direction = \"left\"\n",
    "    \n",
    "    return row, column, direction"
   ]
  },
  {
   "cell_type": "code",
   "execution_count": 9,
   "metadata": {},
   "outputs": [],
   "source": []
  },
  {
   "cell_type": "code",
   "execution_count": 10,
   "metadata": {},
   "outputs": [],
   "source": []
  },
  {
   "cell_type": "code",
   "execution_count": null,
   "metadata": {},
   "outputs": [],
   "source": [
    "def plate_in_set(plate, row, col, length, direction):\n",
    "    \"\"\"\n",
    "    Checks whether plate is with the set given by row, col, length, direction\n",
    "    Input:\n",
    "    - plate: plate location, tuple (row, column)\n",
    "    - row: row where the set starts\n",
    "    - col: column where the set starts\n",
    "    - length: the set's length\n",
    "    - direction: the set's direction\n",
    "    Output:\n",
    "    - True if the plate is within the set, False otherwise\n",
    "    \"\"\"\n",
    "    if (direction == 0):\n",
    "        # Horizontal set\n",
    "        if ((plate[0] <> row) or (plate[1] < col) or (plate[1] > (col + length - 1))):\n",
    "            return False\n",
    "    else:\n",
    "        # Vertucal set\n",
    "        if ((plate[1] <> col) or (plate[0] < row) or (plate[0] > (row + length - 1))):\n",
    "            return False\n",
    "        \n",
    "    return True"
   ]
  },
  {
   "cell_type": "code",
   "execution_count": null,
   "metadata": {},
   "outputs": [],
   "source": []
  },
  {
   "cell_type": "code",
   "execution_count": 38,
   "metadata": {},
   "outputs": [],
   "source": []
  },
  {
   "cell_type": "code",
   "execution_count": 41,
   "metadata": {},
   "outputs": [],
   "source": [
    "# Variables\n",
    "moves_memory = []\n",
    "COUNTER_OF_SUCCESSFUL_MOVES = 0\n",
    "\n",
    "# Constants\n",
    "NUMBER_OF_MOVES_IN_GAME = 50\n",
    "NUMBER_OF_GAMES = 15000\n",
    "\n"
   ]
  },
  {
   "cell_type": "code",
   "execution_count": 40,
   "metadata": {
    "scrolled": false
   },
   "outputs": [
    {
     "ename": "KeyboardInterrupt",
     "evalue": "",
     "output_type": "error",
     "traceback": [
      "\u001b[1;31m---------------------------------------------------------------------------\u001b[0m",
      "\u001b[1;31mKeyboardInterrupt\u001b[0m                         Traceback (most recent call last)",
      "\u001b[1;32m<timed exec>\u001b[0m in \u001b[0;36m<module>\u001b[1;34m\u001b[0m\n",
      "\u001b[1;32m<ipython-input-9-752d131033d3>\u001b[0m in \u001b[0;36mmake_move\u001b[1;34m(field, move)\u001b[0m\n\u001b[0;32m     22\u001b[0m \u001b[1;33m\u001b[0m\u001b[0m\n\u001b[0;32m     23\u001b[0m     \u001b[1;31m# Swap two plates and create new (modified) field\u001b[0m\u001b[1;33m\u001b[0m\u001b[1;33m\u001b[0m\u001b[1;33m\u001b[0m\u001b[0m\n\u001b[1;32m---> 24\u001b[1;33m     \u001b[0mnew_field\u001b[0m \u001b[1;33m=\u001b[0m \u001b[0mnp\u001b[0m\u001b[1;33m.\u001b[0m\u001b[0marray\u001b[0m\u001b[1;33m(\u001b[0m\u001b[0mfield\u001b[0m\u001b[1;33m)\u001b[0m\u001b[1;33m\u001b[0m\u001b[1;33m\u001b[0m\u001b[0m\n\u001b[0m\u001b[0;32m     25\u001b[0m     \u001b[0msource_color\u001b[0m \u001b[1;33m=\u001b[0m \u001b[0mfield\u001b[0m\u001b[1;33m[\u001b[0m\u001b[0mstart_y\u001b[0m \u001b[1;33m-\u001b[0m \u001b[1;36m1\u001b[0m\u001b[1;33m,\u001b[0m \u001b[0mstart_x\u001b[0m \u001b[1;33m-\u001b[0m \u001b[1;36m1\u001b[0m\u001b[1;33m]\u001b[0m\u001b[1;33m\u001b[0m\u001b[1;33m\u001b[0m\u001b[0m\n\u001b[0;32m     26\u001b[0m     \u001b[0mnew_field\u001b[0m\u001b[1;33m[\u001b[0m\u001b[0mstart_y\u001b[0m \u001b[1;33m-\u001b[0m \u001b[1;36m1\u001b[0m\u001b[1;33m,\u001b[0m \u001b[0mstart_x\u001b[0m \u001b[1;33m-\u001b[0m \u001b[1;36m1\u001b[0m\u001b[1;33m]\u001b[0m \u001b[1;33m=\u001b[0m \u001b[0mfield\u001b[0m\u001b[1;33m[\u001b[0m\u001b[0mend_y\u001b[0m \u001b[1;33m-\u001b[0m \u001b[1;36m1\u001b[0m\u001b[1;33m,\u001b[0m \u001b[0mend_x\u001b[0m \u001b[1;33m-\u001b[0m \u001b[1;36m1\u001b[0m\u001b[1;33m]\u001b[0m\u001b[1;33m\u001b[0m\u001b[1;33m\u001b[0m\u001b[0m\n",
      "\u001b[1;31mKeyboardInterrupt\u001b[0m: "
     ]
    }
   ],
   "source": [
    "%%time\n",
    "\n",
    "for g in range(NUMBER_OF_GAMES):\n",
    "    # Начинаем одну игру\n",
    "    game_score = 0\n",
    "\n",
    "    # Initialize the game field\n",
    "    field = np.zeros((7, 6))\n",
    "    field = initialize_field(field)\n",
    "\n",
    "    for m in range(NUMBER_OF_MOVES_IN_GAME):\n",
    "        # Общий счет хода\n",
    "        reward = 0\n",
    "        \n",
    "        # Randomly select a move\n",
    "        rd.seed()\n",
    "        move = rd.choice(list(range(1, 143)))\n",
    "\n",
    "        # Make the move\n",
    "        s_before = field\n",
    "        new_field, plate_a, plate_b = make_move_v2(field, move)\n",
    "\n",
    "        # Calculate the score and update the field\n",
    "        score, new_field = calculate_score_v2(new_field, plate_a, plate_b)\n",
    "        \n",
    "        successful_move_flag = False\n",
    "\n",
    "        # Если ход результативный, то обновляем поле и проверяем, получились ли новые цветовые ряды\n",
    "        while (score > 0.):\n",
    "            if (not successful_move_flag):\n",
    "                COUNTER_OF_SUCCESSFUL_MOVES = COUNTER_OF_SUCCESSFUL_MOVES + 1\n",
    "                successful_move_flag = True\n",
    "\n",
    "            # Суммируем набранные очки\n",
    "            reward = reward + score\n",
    "\n",
    "            # Сдвигаем фишки вниз, заполняя верхний ряд каждый раз так, чтобы верхний ряд не создавал халявной тройки\n",
    "            # Начинаем с левого нижнего угла (чтобы переиспользовать color_fits())\n",
    "            new_field = fill_field(new_field, colors)\n",
    "\n",
    "            # Считаем очки и обрабатываем новые возможные цветные ряды\n",
    "            score, new_field = calculate_score_v2(new_field, (-1, -1), (-1, -1))\n",
    "\n",
    "        # Если ход успешный, то меняем поле\n",
    "        if (successful_move_flag):\n",
    "            field = new_field\n",
    "            \n",
    "        # Увеличиваем счет игры\n",
    "        game_score = game_score + reward\n",
    "            \n",
    "        # Сохраняем ход, очки и все состояния в память   \n",
    "        s_after = field\n",
    "        moves_memory.append((s_before, move, reward, s_after)) \n",
    "\n",
    "print(\"The number of successful moves is\", COUNTER_OF_SUCCESSFUL_MOVES)"
   ]
  },
  {
   "cell_type": "code",
   "execution_count": 44,
   "metadata": {},
   "outputs": [
    {
     "name": "stdout",
     "output_type": "stream",
     "text": [
      "[[1 0 0 0]\n",
      " [0 0 0 3]\n",
      " [2 1 4 2]]\n",
      "6\n"
     ]
    }
   ],
   "source": [
    "ttt = np.array([[1, 0, 0, 0], [0, 0, 0, 3], [2, 1, 4, 2]])\n",
    "print(ttt)\n",
    "print((ttt == 0.).sum())"
   ]
  },
  {
   "cell_type": "code",
   "execution_count": null,
   "metadata": {},
   "outputs": [],
   "source": []
  },
  {
   "cell_type": "code",
   "execution_count": null,
   "metadata": {},
   "outputs": [],
   "source": []
  },
  {
   "cell_type": "code",
   "execution_count": 10,
   "metadata": {},
   "outputs": [],
   "source": [
    "# Проверка, что в случае неуспешного (нулевого) хода начальное и конечное состояния совпадают\n",
    "for item in moves_memory:\n",
    "    if (item[2] == 0):\n",
    "        if ( np.abs(item[0] - item[3]).sum() != 0.  ):\n",
    "            print(\"Error!\")"
   ]
  },
  {
   "cell_type": "code",
   "execution_count": 11,
   "metadata": {},
   "outputs": [
    {
     "name": "stdout",
     "output_type": "stream",
     "text": [
      "455088 items cleared from replay_memory\n"
     ]
    }
   ],
   "source": [
    "# Нужно проредить память ходов, чтобы сделать соотношение успешных и неуспешных ходов примерно 1:1\n",
    "moves_to_remove = len(moves_memory) - 2 * COUNTER_OF_SUCCESSFUL_MOVES\n",
    "\n",
    "i = 0\n",
    "\n",
    "while (i < moves_to_remove):\n",
    "    elem = rd.randint(0, len(moves_memory) - 1)\n",
    "    \n",
    "    if (moves_memory[elem][2] == 0.):\n",
    "        moves_memory.pop(elem)\n",
    "        i = i + 1\n",
    "    else:\n",
    "        rd.seed()\n",
    "        \n",
    "print(\"{} items cleared from moves_memory\".format(moves_to_remove))\n",
    "print(\"Final length of moves_memory is\", len(moves_memory))"
   ]
  },
  {
   "cell_type": "code",
   "execution_count": null,
   "metadata": {},
   "outputs": [],
   "source": []
  },
  {
   "cell_type": "markdown",
   "metadata": {},
   "source": [
    "### Обучение нейронной сети\n",
    "\n",
    "#### 28.03.2019 Score: 446"
   ]
  },
  {
   "cell_type": "code",
   "execution_count": 13,
   "metadata": {},
   "outputs": [],
   "source": [
    "# Constants\n",
    "NUM_OF_EPOCHS = 500\n",
    "MINIBATCH_SIZE = 64\n",
    "\n",
    "# Пенальти за будущие ходы\n",
    "GAMMA = 0.2\n",
    "\n",
    "# Learning curve\n",
    "loss_history = []"
   ]
  },
  {
   "cell_type": "code",
   "execution_count": 14,
   "metadata": {},
   "outputs": [],
   "source": [
    "def predict_max_score(field, aero_cnn, number_of_moves, debug_flag = False):\n",
    "    \"\"\"\n",
    "    TODO \n",
    "    \"\"\"\n",
    "    X_data = ()\n",
    "           \n",
    "    for move in range(1, number_of_moves + 1):\n",
    "        swapped = make_move(np.array(field), move)\n",
    "        X_data = X_data + ( swapped, )\n",
    "    \n",
    "    # Теперь выбираем наиболее успешый ход из всех успешных\n",
    "    X_data = np.expand_dims(np.stack(X_data, axis=0), axis=3)\n",
    "    \n",
    "    prediction = aero_cnn.predict(X_data)\n",
    "    \n",
    "    if (debug_flag):\n",
    "        print(\"DEBUG\", prediction)\n",
    "    \n",
    "    best_move_score = prediction.max()\n",
    "    best_move_number = prediction.argmax() + 1\n",
    "    \n",
    "    return best_move_score, best_move_number"
   ]
  },
  {
   "cell_type": "code",
   "execution_count": 15,
   "metadata": {
    "scrolled": true
   },
   "outputs": [],
   "source": [
    "if (True):\n",
    "    # Загрузим ранее созданную модель\n",
    "    aero_cnn = load_model('Aero_CNN_v1')\n",
    "else:\n",
    "    # Готовим модель\n",
    "    # v6.0 pure Keras 20190323\n",
    "    aero_cnn = Sequential()\n",
    "\n",
    "    aero_cnn.add(Conv2D(128, kernel_size=3, strides = (1, 1), padding='same', activation='relu', data_format = 'channels_last', input_shape=(7, 6, 1)))\n",
    "    aero_cnn.add(Conv2D(64, kernel_size=3, strides = (1, 1), padding='same', activation='relu'))\n",
    "    aero_cnn.add(Flatten())\n",
    "    aero_cnn.add(Dense(32, activation='relu'))\n",
    "    aero_cnn.add(Dense(1))\n",
    "\n",
    "    aero_cnn.compile(optimizer='adam', loss='mean_squared_error', metrics=['mse'])\n",
    "    \n",
    "    aero_cnn.summary()"
   ]
  },
  {
   "cell_type": "code",
   "execution_count": 1,
   "metadata": {},
   "outputs": [],
   "source": []
  },
  {
   "cell_type": "code",
   "execution_count": null,
   "metadata": {},
   "outputs": [],
   "source": []
  },
  {
   "cell_type": "code",
   "execution_count": 17,
   "metadata": {},
   "outputs": [
    {
     "name": "stdout",
     "output_type": "stream",
     "text": [
      "WARNING:tensorflow:From C:\\Users\\peterp\\Anaconda3\\lib\\site-packages\\tensorflow\\python\\ops\\math_ops.py:3066: to_int32 (from tensorflow.python.ops.math_ops) is deprecated and will be removed in a future version.\n",
      "Instructions for updating:\n",
      "Use tf.cast instead.\n"
     ]
    },
    {
     "data": {
      "image/png": "[encoded data removed]",
      "text/plain": [
       "<Figure size 432x288 with 1 Axes>"
      ]
     },
     "metadata": {
      "needs_background": "light"
     },
     "output_type": "display_data"
    },
    {
     "name": "stdout",
     "output_type": "stream",
     "text": [
      "Wall time: 16h 54min 50s\n"
     ]
    }
   ],
   "source": [
    "%%time\n",
    "\n",
    "# Строим X_train и Y_train\n",
    "X_train = ()\n",
    "Y_train = np.zeros((len(replay_memory), 1))\n",
    "\n",
    "for num, item in enumerate(replay_memory):\n",
    "    s_before = item[0]\n",
    "    actn = item[1]\n",
    "    rwrd = item[2]\n",
    "    s_after = item[3]\n",
    "\n",
    "    X_train = X_train + (make_move(s_before, actn),)\n",
    "    #Y_train[num, 0] = rwrd + GAMMA * predict_max_score(s_after, aero_cnn, 142)[0]\n",
    "    Y_train[num, 0] = rwrd\n",
    "\n",
    "X_train = np.expand_dims(np.stack(X_train, axis=0), axis=3)\n",
    "\n",
    "# Делаем градиентный спуск, подкручиваем веса сети\n",
    "history = aero_cnn.fit(X_train, Y_train, batch_size=MINIBATCH_SIZE, epochs=NUM_OF_EPOCHS, verbose=0)\n",
    "#loss_history = loss_history + history.history['loss']\n",
    "\n",
    "plt.plot(history.history['loss'])\n",
    "plt.show()"
   ]
  },
  {
   "cell_type": "markdown",
   "metadata": {},
   "source": [
    "### Now the CNN has been trained.\n",
    "### Start the long reinforcement-learning cycle"
   ]
  },
  {
   "cell_type": "code",
   "execution_count": 42,
   "metadata": {},
   "outputs": [],
   "source": [
    "# Definitions\n",
    "#GAMES_TO_PLAY = 1000000\n",
    "GAMES_TO_PLAY = 2\n",
    "REPLAY_MEMORY_SIZE = 8192\n",
    "RANDOM_MOVE_PROB = 0.5\n",
    "DYNAMIC_LEARNING_EPOCHS = 10\n",
    "\n",
    "# Variables\n",
    "MAXIMUM_SCORE = 0\n",
    "TOTAL_SCORE = 0.0\n",
    "AVG_SCORE_HIST = []\n",
    "TOTAL_SUCCESSFUL_MOVES = 0.0\n",
    "AVG_SUCC_MOVES_HIST = []"
   ]
  },
  {
   "cell_type": "code",
   "execution_count": 43,
   "metadata": {},
   "outputs": [],
   "source": [
    "# Initialize replay_memory\n",
    "replay_memory = []"
   ]
  },
  {
   "cell_type": "code",
   "execution_count": 46,
   "metadata": {},
   "outputs": [
    {
     "name": "stdout",
     "output_type": "stream",
     "text": [
      "New maximum: 426.0, after 0 games.\n"
     ]
    },
    {
     "ename": "NameError",
     "evalue": "name 'TOTAL_SUCCESSFUL_MOVES' is not defined",
     "output_type": "error",
     "traceback": [
      "\u001b[1;31m---------------------------------------------------------------------------\u001b[0m",
      "\u001b[1;31mNameError\u001b[0m                                 Traceback (most recent call last)",
      "\u001b[1;32m<timed exec>\u001b[0m in \u001b[0;36m<module>\u001b[1;34m\u001b[0m\n",
      "\u001b[1;31mNameError\u001b[0m: name 'TOTAL_SUCCESSFUL_MOVES' is not defined"
     ]
    }
   ],
   "source": [
    "%%time\n",
    "\n",
    "for game in range(GAMES_TO_PLAY):\n",
    "    # Начинаем одну игру\n",
    "    game_score = 0\n",
    "    successful_moves = 0\n",
    "\n",
    "    # Initialize the game field\n",
    "    field = np.zeros((7, 6))\n",
    "    field = initialize_field(field)\n",
    "\n",
    "    for m in range(NUMBER_OF_MOVES_IN_GAME):\n",
    "        # Общий счет хода\n",
    "        reward = 0\n",
    "\n",
    "        # CNN selects a move\n",
    "        # Пока не будем использовать случайные ходы, хотя так описано в статье\n",
    "        # Если в replay_memory меньше 64 ходов, то делаем эти ходы случайным образом\n",
    "        if (len(replay_memory) < MINIBATCH_SIZE):\n",
    "            move = rd.randint(1, 142) \n",
    "        else:\n",
    "            move = predict_max_score(field, aero_cnn, 142)[1]\n",
    "\n",
    "        # Make the move\n",
    "        s_before = field\n",
    "        new_field = make_move(field, move)\n",
    "\n",
    "        # Считаем очки за ход\n",
    "        temp_field = calculate_score(new_field)\n",
    "        score = temp_field.sum()\n",
    "        successful_move_flag = False\n",
    "\n",
    "        # Если ход результативный, то обновляем поле и проверяем, получились ли новые цветовые ряды\n",
    "        while (score > 0.):\n",
    "            if (not successful_move_flag):\n",
    "                successful_moves = successful_moves + 1\n",
    "                successful_move_flag = True\n",
    "\n",
    "            # Суммируем набранные очки\n",
    "            reward = reward + score\n",
    "\n",
    "            # Обнуляем собранные цветные ряды\n",
    "            new_field = np.multiply(new_field, 1.0 - temp_field)\n",
    "\n",
    "            # Сдвигаем фишки вниз, заполняя верхний ряд каждый раз так, чтобы верхний ряд не создавал халявной тройки\n",
    "            # Начинаем с левого нижнего угла (чтобы переиспользовать color_fits())\n",
    "            new_field = fill_field(new_field, colors)\n",
    "\n",
    "            # Проверяем, получились ли новые цветные ряды\n",
    "            temp_field = calculate_score(new_field)\n",
    "            score = temp_field.sum()\n",
    "\n",
    "        # Увеличиваем счет игры\n",
    "        game_score = game_score + reward\n",
    "\n",
    "        #\n",
    "        # Train CNN based on the score\n",
    "        #\n",
    "        if (len(replay_memory) >= MINIBATCH_SIZE):\n",
    "            # Случайно выбираем 64 хода из памяти\n",
    "            samples = rd.sample(replay_memory, MINIBATCH_SIZE)\n",
    "            # Один ход (пусть будет последний) заполняем нашим реальным ходом\n",
    "            samples[MINIBATCH_SIZE - 1] = (field, move, reward, new_field)\n",
    "\n",
    "            # Строим X_train и Y_train\n",
    "            X_train = ()\n",
    "            Y_train = np.zeros((MINIBATCH_SIZE, 1))\n",
    "\n",
    "            for num, item in enumerate(samples):\n",
    "                s_before = item[0]\n",
    "                actn = item[1]\n",
    "                rwrd = item[2]\n",
    "                s_after = item[3]\n",
    "\n",
    "                X_train = X_train + (make_move(s_before, actn),)\n",
    "                Y_train[num, 0] = rwrd + GAMMA * predict_max_score(s_after, aero_cnn, 142)[0]\n",
    "\n",
    "            # 64-й ход - реальный, поэтому для него предсказание будущего не нужно. Ставим фактическое значение\n",
    "            Y_train[MINIBATCH_SIZE - 1, 0] = rwrd\n",
    "            # Делаем правильный по размеру тензор\n",
    "            X_train = np.expand_dims(np.stack(X_train, axis=0), axis=3)\n",
    "            # Подкручиваем сеть\n",
    "            aero_cnn.fit(X_train, Y_train, epochs=DYNAMIC_LEARNING_EPOCHS, verbose=0)\n",
    "\n",
    "            if (len(replay_memory) == REPLAY_MEMORY_SIZE):\n",
    "                replay_memory.pop(0)\n",
    "\n",
    "        # Add new move to the replay memory\n",
    "        replay_memory.append((field, move, reward, new_field))\n",
    "\n",
    "        # Если ход успешный, то меняем поле\n",
    "        if (successful_move_flag):\n",
    "            field = new_field\n",
    "\n",
    "    #\n",
    "    # Calculate and display overall stats\n",
    "    #\n",
    "    # Проверяем, не обновили ли максимум\n",
    "    if (game_score > MAXIMUM_SCORE):\n",
    "        print(\"New maximum: {}, after {} games.\".format(game_score, game))\n",
    "        MAXIMUM_SCORE = game_score\n",
    "        \n",
    "    # После каждой тысячи игр выводим средний балл за игру, среднее число успешных ходов за игру\n",
    "    TOTAL_SCORE = TOTAL_SCORE + game_score\n",
    "    TOTAL_SUCCESSFUL_MOVES = TOTAL_SUCCESSFUL_MOVES + successful_moves\n",
    "    \n",
    "    if ((game % 1000 == 0) and (game > 0)):\n",
    "        avg_score = TOTAL_SCORE / game\n",
    "        AVG_SCORE_HIST.append(avg_score)\n",
    "        \n",
    "        avg_succ_moves = TOTAL_SUCCESSFUL_MOVES / game\n",
    "        AVG_SUCC_MOVES_HIST.append(avg_succ_moves)\n",
    "\n",
    "        print(\"Average score = {}, Average number of successful moves = {}\".format(avg_score, avg_succ_moves))        \n",
    "        \n",
    "# По окончании мероприятия посмотрим историю среднего балла\n",
    "plt.plot(AVG_SCORE_HIST, color='red')\n",
    "plt.plot(AVG_SUCC_MOVES_HIST, color='blue')\n",
    "plt.show()"
   ]
  },
  {
   "cell_type": "code",
   "execution_count": 45,
   "metadata": {
    "scrolled": true
   },
   "outputs": [
    {
     "data": {
      "text/plain": [
       "39"
      ]
     },
     "execution_count": 45,
     "metadata": {},
     "output_type": "execute_result"
    }
   ],
   "source": [
    "successful_moves"
   ]
  },
  {
   "cell_type": "code",
   "execution_count": 34,
   "metadata": {},
   "outputs": [
    {
     "name": "stdout",
     "output_type": "stream",
     "text": [
      "[[0.8 0.4 0.8 0.4 0.4 0.8]\n",
      " [0.2 0.2 0.6 0.8 0.8 0.2]\n",
      " [0.4 0.8 0.2 0.6 0.6 0.2]\n",
      " [0.4 0.4 0.6 0.8 0.4 0.8]\n",
      " [0.2 0.8 0.2 0.4 0.2 0.4]\n",
      " [0.6 0.4 0.2 0.4 0.6 0.4]\n",
      " [0.2 0.8 0.8 0.8 0.2 0.2]]\n"
     ]
    }
   ],
   "source": [
    "new_field = make_move(field, move)\n",
    "print(new_field)"
   ]
  },
  {
   "cell_type": "code",
   "execution_count": 35,
   "metadata": {},
   "outputs": [],
   "source": [
    "temp_field = calculate_score(new_field)"
   ]
  },
  {
   "cell_type": "code",
   "execution_count": 36,
   "metadata": {},
   "outputs": [],
   "source": [
    "new_field = np.multiply(new_field, 1.0 - temp_field)"
   ]
  },
  {
   "cell_type": "code",
   "execution_count": 37,
   "metadata": {},
   "outputs": [],
   "source": [
    "fill_field(new_field, colors)"
   ]
  },
  {
   "cell_type": "code",
   "execution_count": null,
   "metadata": {},
   "outputs": [],
   "source": []
  },
  {
   "cell_type": "code",
   "execution_count": 23,
   "metadata": {},
   "outputs": [],
   "source": [
    "#\n",
    "# Save model\n",
    "#\n",
    "# v1: 20190329, trained on len(replay_memory) = 294912\n",
    "#aero_cnn.save(\"Aero_CNN_v1\")"
   ]
  },
  {
   "cell_type": "code",
   "execution_count": null,
   "metadata": {},
   "outputs": [],
   "source": []
  },
  {
   "cell_type": "code",
   "execution_count": null,
   "metadata": {},
   "outputs": [],
   "source": []
  },
  {
   "cell_type": "code",
   "execution_count": 19,
   "metadata": {},
   "outputs": [
    {
     "data": {
      "text/plain": [
       "(3, 1, 'right')"
      ]
     },
     "execution_count": 19,
     "metadata": {},
     "output_type": "execute_result"
    }
   ],
   "source": [
    "process_move_142(75)"
   ]
  },
  {
   "cell_type": "code",
   "execution_count": 22,
   "metadata": {
    "scrolled": true
   },
   "outputs": [
    {
     "data": {
      "image/png": "[encoded data removed]",
      "text/plain": [
       "<Figure size 360x504 with 1 Axes>"
      ]
     },
     "metadata": {
      "needs_background": "light"
     },
     "output_type": "display_data"
    }
   ],
   "source": [
    "visualize_field(field)"
   ]
  },
  {
   "cell_type": "code",
   "execution_count": 98,
   "metadata": {},
   "outputs": [
    {
     "data": {
      "text/plain": [
       "(2, 2, 'right')"
      ]
     },
     "execution_count": 98,
     "metadata": {},
     "output_type": "execute_result"
    }
   ],
   "source": [
    "process_move_142(83)"
   ]
  },
  {
   "cell_type": "code",
   "execution_count": 46,
   "metadata": {},
   "outputs": [
    {
     "name": "stdout",
     "output_type": "stream",
     "text": [
      "(1, 1, 'down')\n",
      "(1, 2, 'down')\n",
      "(1, 3, 'down')\n",
      "(1, 4, 'down')\n",
      "(1, 5, 'down')\n",
      "(1, 6, 'down')\n",
      "(2, 1, 'down')\n",
      "(2, 1, 'up')\n",
      "(2, 2, 'down')\n"
     ]
    },
    {
     "data": {
      "image/png": "[encoded data removed]",
      "text/plain": [
       "<Figure size 360x504 with 1 Axes>"
      ]
     },
     "metadata": {
      "needs_background": "light"
     },
     "output_type": "display_data"
    },
    {
     "data": {
      "image/png": "[encoded data removed]",
      "text/plain": [
       "<Figure size 360x504 with 1 Axes>"
      ]
     },
     "metadata": {
      "needs_background": "light"
     },
     "output_type": "display_data"
    },
    {
     "data": {
      "image/png": "[encoded data removed]",
      "text/plain": [
       "<Figure size 360x504 with 1 Axes>"
      ]
     },
     "metadata": {
      "needs_background": "light"
     },
     "output_type": "display_data"
    },
    {
     "data": {
      "image/png": "[encoded data removed]",
      "text/plain": [
       "<Figure size 360x504 with 1 Axes>"
      ]
     },
     "metadata": {
      "needs_background": "light"
     },
     "output_type": "display_data"
    },
    {
     "data": {
      "image/png": "[encoded data removed]",
      "text/plain": [
       "<Figure size 360x504 with 1 Axes>"
      ]
     },
     "metadata": {
      "needs_background": "light"
     },
     "output_type": "display_data"
    },
    {
     "data": {
      "image/png": "[encoded data removed]",
      "text/plain": [
       "<Figure size 360x504 with 1 Axes>"
      ]
     },
     "metadata": {
      "needs_background": "light"
     },
     "output_type": "display_data"
    },
    {
     "data": {
      "image/png": "[encoded data removed]",
      "text/plain": [
       "<Figure size 360x504 with 1 Axes>"
      ]
     },
     "metadata": {
      "needs_background": "light"
     },
     "output_type": "display_data"
    },
    {
     "data": {
      "image/png": "[encoded data removed]",
      "text/plain": [
       "<Figure size 360x504 with 1 Axes>"
      ]
     },
     "metadata": {
      "needs_background": "light"
     },
     "output_type": "display_data"
    },
    {
     "data": {
      "image/png": "[encoded data removed]",
      "text/plain": [
       "<Figure size 360x504 with 1 Axes>"
      ]
     },
     "metadata": {
      "needs_background": "light"
     },
     "output_type": "display_data"
    }
   ],
   "source": [
    "for move in range(1, 10):\n",
    "    print(process_move_142(move))\n",
    "    swapped = make_move(np.array(field), move)\n",
    "    visualize_field(swapped)"
   ]
  },
  {
   "cell_type": "code",
   "execution_count": 54,
   "metadata": {},
   "outputs": [
    {
     "name": "stdout",
     "output_type": "stream",
     "text": [
      "[[0.6 0.6 0.8 0.4 0.8 0.6]\n",
      " [0.4 0.6 0.4 0.4 0.6 0.4]\n",
      " [0.8 0.2 0.2 0.6 0.8 0.8]\n",
      " [0.8 0.6 0.4 0.4 0.8 0.4]\n",
      " [0.6 0.8 0.2 0.8 0.4 0.8]\n",
      " [0.4 0.6 0.6 0.4 0.6 0.6]\n",
      " [0.4 0.8 0.2 0.8 0.2 0.4]]\n",
      "[[0.4 0.6 0.8 0.4 0.8 0.6]\n",
      " [0.6 0.6 0.4 0.4 0.6 0.4]\n",
      " [0.8 0.2 0.2 0.6 0.8 0.8]\n",
      " [0.8 0.6 0.4 0.4 0.8 0.4]\n",
      " [0.6 0.8 0.2 0.8 0.4 0.8]\n",
      " [0.4 0.6 0.6 0.4 0.6 0.6]\n",
      " [0.4 0.8 0.2 0.8 0.2 0.4]]\n",
      "[[0.4 0.6 0.4 0.4 0.8 0.6]\n",
      " [0.6 0.6 0.8 0.4 0.6 0.4]\n",
      " [0.8 0.2 0.2 0.6 0.8 0.8]\n",
      " [0.8 0.6 0.4 0.4 0.8 0.4]\n",
      " [0.6 0.8 0.2 0.8 0.4 0.8]\n",
      " [0.4 0.6 0.6 0.4 0.6 0.6]\n",
      " [0.4 0.8 0.2 0.8 0.2 0.4]]\n",
      "[[0.4 0.6 0.8 0.4 0.8 0.6]\n",
      " [0.6 0.6 0.4 0.4 0.6 0.4]\n",
      " [0.8 0.2 0.2 0.6 0.8 0.8]\n",
      " [0.8 0.6 0.4 0.4 0.8 0.4]\n",
      " [0.6 0.8 0.2 0.8 0.4 0.8]\n",
      " [0.4 0.6 0.6 0.4 0.6 0.6]\n",
      " [0.4 0.8 0.2 0.8 0.2 0.4]]\n",
      "[[0.4 0.6 0.8 0.4 0.6 0.6]\n",
      " [0.6 0.6 0.4 0.4 0.8 0.4]\n",
      " [0.8 0.2 0.2 0.6 0.8 0.8]\n",
      " [0.8 0.6 0.4 0.4 0.8 0.4]\n",
      " [0.6 0.8 0.2 0.8 0.4 0.8]\n",
      " [0.4 0.6 0.6 0.4 0.6 0.6]\n",
      " [0.4 0.8 0.2 0.8 0.2 0.4]]\n",
      "[[0.4 0.6 0.8 0.4 0.8 0.4]\n",
      " [0.6 0.6 0.4 0.4 0.6 0.6]\n",
      " [0.8 0.2 0.2 0.6 0.8 0.8]\n",
      " [0.8 0.6 0.4 0.4 0.8 0.4]\n",
      " [0.6 0.8 0.2 0.8 0.4 0.8]\n",
      " [0.4 0.6 0.6 0.4 0.6 0.6]\n",
      " [0.4 0.8 0.2 0.8 0.2 0.4]]\n",
      "[[0.4 0.6 0.8 0.4 0.8 0.6]\n",
      " [0.8 0.6 0.4 0.4 0.6 0.4]\n",
      " [0.6 0.2 0.2 0.6 0.8 0.8]\n",
      " [0.8 0.6 0.4 0.4 0.8 0.4]\n",
      " [0.6 0.8 0.2 0.8 0.4 0.8]\n",
      " [0.4 0.6 0.6 0.4 0.6 0.6]\n",
      " [0.4 0.8 0.2 0.8 0.2 0.4]]\n",
      "[[0.6 0.6 0.8 0.4 0.8 0.6]\n",
      " [0.4 0.6 0.4 0.4 0.6 0.4]\n",
      " [0.8 0.2 0.2 0.6 0.8 0.8]\n",
      " [0.8 0.6 0.4 0.4 0.8 0.4]\n",
      " [0.6 0.8 0.2 0.8 0.4 0.8]\n",
      " [0.4 0.6 0.6 0.4 0.6 0.6]\n",
      " [0.4 0.8 0.2 0.8 0.2 0.4]]\n",
      "[[0.4 0.6 0.8 0.4 0.8 0.6]\n",
      " [0.6 0.2 0.4 0.4 0.6 0.4]\n",
      " [0.8 0.6 0.2 0.6 0.8 0.8]\n",
      " [0.8 0.6 0.4 0.4 0.8 0.4]\n",
      " [0.6 0.8 0.2 0.8 0.4 0.8]\n",
      " [0.4 0.6 0.6 0.4 0.6 0.6]\n",
      " [0.4 0.8 0.2 0.8 0.2 0.4]]\n",
      "[[0.4 0.6 0.8 0.4 0.8 0.6]\n",
      " [0.6 0.6 0.4 0.4 0.6 0.4]\n",
      " [0.8 0.2 0.2 0.6 0.8 0.8]\n",
      " [0.8 0.6 0.4 0.4 0.8 0.4]\n",
      " [0.6 0.8 0.2 0.8 0.4 0.8]\n",
      " [0.4 0.6 0.6 0.4 0.6 0.6]\n",
      " [0.4 0.8 0.2 0.8 0.2 0.4]]\n",
      "[[0.4 0.6 0.8 0.4 0.8 0.6]\n",
      " [0.6 0.6 0.2 0.4 0.6 0.4]\n",
      " [0.8 0.2 0.4 0.6 0.8 0.8]\n",
      " [0.8 0.6 0.4 0.4 0.8 0.4]\n",
      " [0.6 0.8 0.2 0.8 0.4 0.8]\n",
      " [0.4 0.6 0.6 0.4 0.6 0.6]\n",
      " [0.4 0.8 0.2 0.8 0.2 0.4]]\n",
      "[[0.4 0.6 0.4 0.4 0.8 0.6]\n",
      " [0.6 0.6 0.8 0.4 0.6 0.4]\n",
      " [0.8 0.2 0.2 0.6 0.8 0.8]\n",
      " [0.8 0.6 0.4 0.4 0.8 0.4]\n",
      " [0.6 0.8 0.2 0.8 0.4 0.8]\n",
      " [0.4 0.6 0.6 0.4 0.6 0.6]\n",
      " [0.4 0.8 0.2 0.8 0.2 0.4]]\n",
      "[[0.4 0.6 0.8 0.4 0.8 0.6]\n",
      " [0.6 0.6 0.4 0.6 0.6 0.4]\n",
      " [0.8 0.2 0.2 0.4 0.8 0.8]\n",
      " [0.8 0.6 0.4 0.4 0.8 0.4]\n",
      " [0.6 0.8 0.2 0.8 0.4 0.8]\n",
      " [0.4 0.6 0.6 0.4 0.6 0.6]\n",
      " [0.4 0.8 0.2 0.8 0.2 0.4]]\n",
      "[[0.4 0.6 0.8 0.4 0.8 0.6]\n",
      " [0.6 0.6 0.4 0.4 0.6 0.4]\n",
      " [0.8 0.2 0.2 0.6 0.8 0.8]\n",
      " [0.8 0.6 0.4 0.4 0.8 0.4]\n",
      " [0.6 0.8 0.2 0.8 0.4 0.8]\n",
      " [0.4 0.6 0.6 0.4 0.6 0.6]\n",
      " [0.4 0.8 0.2 0.8 0.2 0.4]]\n",
      "[[0.4 0.6 0.8 0.4 0.8 0.6]\n",
      " [0.6 0.6 0.4 0.4 0.8 0.4]\n",
      " [0.8 0.2 0.2 0.6 0.6 0.8]\n",
      " [0.8 0.6 0.4 0.4 0.8 0.4]\n",
      " [0.6 0.8 0.2 0.8 0.4 0.8]\n",
      " [0.4 0.6 0.6 0.4 0.6 0.6]\n",
      " [0.4 0.8 0.2 0.8 0.2 0.4]]\n",
      "[[0.4 0.6 0.8 0.4 0.6 0.6]\n",
      " [0.6 0.6 0.4 0.4 0.8 0.4]\n",
      " [0.8 0.2 0.2 0.6 0.8 0.8]\n",
      " [0.8 0.6 0.4 0.4 0.8 0.4]\n",
      " [0.6 0.8 0.2 0.8 0.4 0.8]\n",
      " [0.4 0.6 0.6 0.4 0.6 0.6]\n",
      " [0.4 0.8 0.2 0.8 0.2 0.4]]\n",
      "[[0.4 0.6 0.8 0.4 0.8 0.6]\n",
      " [0.6 0.6 0.4 0.4 0.6 0.8]\n",
      " [0.8 0.2 0.2 0.6 0.8 0.4]\n",
      " [0.8 0.6 0.4 0.4 0.8 0.4]\n",
      " [0.6 0.8 0.2 0.8 0.4 0.8]\n",
      " [0.4 0.6 0.6 0.4 0.6 0.6]\n",
      " [0.4 0.8 0.2 0.8 0.2 0.4]]\n",
      "[[0.4 0.6 0.8 0.4 0.8 0.4]\n",
      " [0.6 0.6 0.4 0.4 0.6 0.6]\n",
      " [0.8 0.2 0.2 0.6 0.8 0.8]\n",
      " [0.8 0.6 0.4 0.4 0.8 0.4]\n",
      " [0.6 0.8 0.2 0.8 0.4 0.8]\n",
      " [0.4 0.6 0.6 0.4 0.6 0.6]\n",
      " [0.4 0.8 0.2 0.8 0.2 0.4]]\n",
      "[[0.4 0.6 0.8 0.4 0.8 0.6]\n",
      " [0.6 0.6 0.4 0.4 0.6 0.4]\n",
      " [0.8 0.2 0.2 0.6 0.8 0.8]\n",
      " [0.8 0.6 0.4 0.4 0.8 0.4]\n",
      " [0.6 0.8 0.2 0.8 0.4 0.8]\n",
      " [0.4 0.6 0.6 0.4 0.6 0.6]\n",
      " [0.4 0.8 0.2 0.8 0.2 0.4]]\n",
      "[[0.4 0.6 0.8 0.4 0.8 0.6]\n",
      " [0.8 0.6 0.4 0.4 0.6 0.4]\n",
      " [0.6 0.2 0.2 0.6 0.8 0.8]\n",
      " [0.8 0.6 0.4 0.4 0.8 0.4]\n",
      " [0.6 0.8 0.2 0.8 0.4 0.8]\n",
      " [0.4 0.6 0.6 0.4 0.6 0.6]\n",
      " [0.4 0.8 0.2 0.8 0.2 0.4]]\n",
      "[[0.4 0.6 0.8 0.4 0.8 0.6]\n",
      " [0.6 0.6 0.4 0.4 0.6 0.4]\n",
      " [0.8 0.6 0.2 0.6 0.8 0.8]\n",
      " [0.8 0.2 0.4 0.4 0.8 0.4]\n",
      " [0.6 0.8 0.2 0.8 0.4 0.8]\n",
      " [0.4 0.6 0.6 0.4 0.6 0.6]\n",
      " [0.4 0.8 0.2 0.8 0.2 0.4]]\n",
      "[[0.4 0.6 0.8 0.4 0.8 0.6]\n",
      " [0.6 0.2 0.4 0.4 0.6 0.4]\n",
      " [0.8 0.6 0.2 0.6 0.8 0.8]\n",
      " [0.8 0.6 0.4 0.4 0.8 0.4]\n",
      " [0.6 0.8 0.2 0.8 0.4 0.8]\n",
      " [0.4 0.6 0.6 0.4 0.6 0.6]\n",
      " [0.4 0.8 0.2 0.8 0.2 0.4]]\n",
      "[[0.4 0.6 0.8 0.4 0.8 0.6]\n",
      " [0.6 0.6 0.4 0.4 0.6 0.4]\n",
      " [0.8 0.2 0.4 0.6 0.8 0.8]\n",
      " [0.8 0.6 0.2 0.4 0.8 0.4]\n",
      " [0.6 0.8 0.2 0.8 0.4 0.8]\n",
      " [0.4 0.6 0.6 0.4 0.6 0.6]\n",
      " [0.4 0.8 0.2 0.8 0.2 0.4]]\n",
      "[[0.4 0.6 0.8 0.4 0.8 0.6]\n",
      " [0.6 0.6 0.2 0.4 0.6 0.4]\n",
      " [0.8 0.2 0.4 0.6 0.8 0.8]\n",
      " [0.8 0.6 0.4 0.4 0.8 0.4]\n",
      " [0.6 0.8 0.2 0.8 0.4 0.8]\n",
      " [0.4 0.6 0.6 0.4 0.6 0.6]\n",
      " [0.4 0.8 0.2 0.8 0.2 0.4]]\n",
      "[[0.4 0.6 0.8 0.4 0.8 0.6]\n",
      " [0.6 0.6 0.4 0.4 0.6 0.4]\n",
      " [0.8 0.2 0.2 0.4 0.8 0.8]\n",
      " [0.8 0.6 0.4 0.6 0.8 0.4]\n",
      " [0.6 0.8 0.2 0.8 0.4 0.8]\n",
      " [0.4 0.6 0.6 0.4 0.6 0.6]\n",
      " [0.4 0.8 0.2 0.8 0.2 0.4]]\n",
      "[[0.4 0.6 0.8 0.4 0.8 0.6]\n",
      " [0.6 0.6 0.4 0.6 0.6 0.4]\n",
      " [0.8 0.2 0.2 0.4 0.8 0.8]\n",
      " [0.8 0.6 0.4 0.4 0.8 0.4]\n",
      " [0.6 0.8 0.2 0.8 0.4 0.8]\n",
      " [0.4 0.6 0.6 0.4 0.6 0.6]\n",
      " [0.4 0.8 0.2 0.8 0.2 0.4]]\n",
      "[[0.4 0.6 0.8 0.4 0.8 0.6]\n",
      " [0.6 0.6 0.4 0.4 0.6 0.4]\n",
      " [0.8 0.2 0.2 0.6 0.8 0.8]\n",
      " [0.8 0.6 0.4 0.4 0.8 0.4]\n",
      " [0.6 0.8 0.2 0.8 0.4 0.8]\n",
      " [0.4 0.6 0.6 0.4 0.6 0.6]\n",
      " [0.4 0.8 0.2 0.8 0.2 0.4]]\n",
      "[[0.4 0.6 0.8 0.4 0.8 0.6]\n",
      " [0.6 0.6 0.4 0.4 0.8 0.4]\n",
      " [0.8 0.2 0.2 0.6 0.6 0.8]\n",
      " [0.8 0.6 0.4 0.4 0.8 0.4]\n",
      " [0.6 0.8 0.2 0.8 0.4 0.8]\n",
      " [0.4 0.6 0.6 0.4 0.6 0.6]\n",
      " [0.4 0.8 0.2 0.8 0.2 0.4]]\n",
      "[[0.4 0.6 0.8 0.4 0.8 0.6]\n",
      " [0.6 0.6 0.4 0.4 0.6 0.4]\n",
      " [0.8 0.2 0.2 0.6 0.8 0.4]\n",
      " [0.8 0.6 0.4 0.4 0.8 0.8]\n",
      " [0.6 0.8 0.2 0.8 0.4 0.8]\n",
      " [0.4 0.6 0.6 0.4 0.6 0.6]\n",
      " [0.4 0.8 0.2 0.8 0.2 0.4]]\n",
      "[[0.4 0.6 0.8 0.4 0.8 0.6]\n",
      " [0.6 0.6 0.4 0.4 0.6 0.8]\n",
      " [0.8 0.2 0.2 0.6 0.8 0.4]\n",
      " [0.8 0.6 0.4 0.4 0.8 0.4]\n",
      " [0.6 0.8 0.2 0.8 0.4 0.8]\n",
      " [0.4 0.6 0.6 0.4 0.6 0.6]\n",
      " [0.4 0.8 0.2 0.8 0.2 0.4]]\n",
      "[[0.4 0.6 0.8 0.4 0.8 0.6]\n",
      " [0.6 0.6 0.4 0.4 0.6 0.4]\n",
      " [0.8 0.2 0.2 0.6 0.8 0.8]\n",
      " [0.6 0.6 0.4 0.4 0.8 0.4]\n",
      " [0.8 0.8 0.2 0.8 0.4 0.8]\n",
      " [0.4 0.6 0.6 0.4 0.6 0.6]\n",
      " [0.4 0.8 0.2 0.8 0.2 0.4]]\n",
      "[[0.4 0.6 0.8 0.4 0.8 0.6]\n",
      " [0.6 0.6 0.4 0.4 0.6 0.4]\n",
      " [0.8 0.2 0.2 0.6 0.8 0.8]\n",
      " [0.8 0.6 0.4 0.4 0.8 0.4]\n",
      " [0.6 0.8 0.2 0.8 0.4 0.8]\n",
      " [0.4 0.6 0.6 0.4 0.6 0.6]\n",
      " [0.4 0.8 0.2 0.8 0.2 0.4]]\n",
      "[[0.4 0.6 0.8 0.4 0.8 0.6]\n",
      " [0.6 0.6 0.4 0.4 0.6 0.4]\n",
      " [0.8 0.2 0.2 0.6 0.8 0.8]\n",
      " [0.8 0.8 0.4 0.4 0.8 0.4]\n",
      " [0.6 0.6 0.2 0.8 0.4 0.8]\n",
      " [0.4 0.6 0.6 0.4 0.6 0.6]\n",
      " [0.4 0.8 0.2 0.8 0.2 0.4]]\n",
      "[[0.4 0.6 0.8 0.4 0.8 0.6]\n",
      " [0.6 0.6 0.4 0.4 0.6 0.4]\n",
      " [0.8 0.6 0.2 0.6 0.8 0.8]\n",
      " [0.8 0.2 0.4 0.4 0.8 0.4]\n",
      " [0.6 0.8 0.2 0.8 0.4 0.8]\n",
      " [0.4 0.6 0.6 0.4 0.6 0.6]\n",
      " [0.4 0.8 0.2 0.8 0.2 0.4]]\n",
      "[[0.4 0.6 0.8 0.4 0.8 0.6]\n",
      " [0.6 0.6 0.4 0.4 0.6 0.4]\n",
      " [0.8 0.2 0.2 0.6 0.8 0.8]\n",
      " [0.8 0.6 0.2 0.4 0.8 0.4]\n",
      " [0.6 0.8 0.4 0.8 0.4 0.8]\n",
      " [0.4 0.6 0.6 0.4 0.6 0.6]\n",
      " [0.4 0.8 0.2 0.8 0.2 0.4]]\n",
      "[[0.4 0.6 0.8 0.4 0.8 0.6]\n",
      " [0.6 0.6 0.4 0.4 0.6 0.4]\n",
      " [0.8 0.2 0.4 0.6 0.8 0.8]\n",
      " [0.8 0.6 0.2 0.4 0.8 0.4]\n",
      " [0.6 0.8 0.2 0.8 0.4 0.8]\n",
      " [0.4 0.6 0.6 0.4 0.6 0.6]\n",
      " [0.4 0.8 0.2 0.8 0.2 0.4]]\n",
      "[[0.4 0.6 0.8 0.4 0.8 0.6]\n",
      " [0.6 0.6 0.4 0.4 0.6 0.4]\n",
      " [0.8 0.2 0.2 0.6 0.8 0.8]\n",
      " [0.8 0.6 0.4 0.8 0.8 0.4]\n",
      " [0.6 0.8 0.2 0.4 0.4 0.8]\n",
      " [0.4 0.6 0.6 0.4 0.6 0.6]\n",
      " [0.4 0.8 0.2 0.8 0.2 0.4]]\n",
      "[[0.4 0.6 0.8 0.4 0.8 0.6]\n",
      " [0.6 0.6 0.4 0.4 0.6 0.4]\n",
      " [0.8 0.2 0.2 0.4 0.8 0.8]\n",
      " [0.8 0.6 0.4 0.6 0.8 0.4]\n",
      " [0.6 0.8 0.2 0.8 0.4 0.8]\n",
      " [0.4 0.6 0.6 0.4 0.6 0.6]\n",
      " [0.4 0.8 0.2 0.8 0.2 0.4]]\n",
      "[[0.4 0.6 0.8 0.4 0.8 0.6]\n",
      " [0.6 0.6 0.4 0.4 0.6 0.4]\n",
      " [0.8 0.2 0.2 0.6 0.8 0.8]\n",
      " [0.8 0.6 0.4 0.4 0.4 0.4]\n",
      " [0.6 0.8 0.2 0.8 0.8 0.8]\n",
      " [0.4 0.6 0.6 0.4 0.6 0.6]\n",
      " [0.4 0.8 0.2 0.8 0.2 0.4]]\n",
      "[[0.4 0.6 0.8 0.4 0.8 0.6]\n",
      " [0.6 0.6 0.4 0.4 0.6 0.4]\n",
      " [0.8 0.2 0.2 0.6 0.8 0.8]\n",
      " [0.8 0.6 0.4 0.4 0.8 0.4]\n",
      " [0.6 0.8 0.2 0.8 0.4 0.8]\n",
      " [0.4 0.6 0.6 0.4 0.6 0.6]\n",
      " [0.4 0.8 0.2 0.8 0.2 0.4]]\n",
      "[[0.4 0.6 0.8 0.4 0.8 0.6]\n",
      " [0.6 0.6 0.4 0.4 0.6 0.4]\n",
      " [0.8 0.2 0.2 0.6 0.8 0.8]\n",
      " [0.8 0.6 0.4 0.4 0.8 0.8]\n",
      " [0.6 0.8 0.2 0.8 0.4 0.4]\n",
      " [0.4 0.6 0.6 0.4 0.6 0.6]\n",
      " [0.4 0.8 0.2 0.8 0.2 0.4]]\n",
      "[[0.4 0.6 0.8 0.4 0.8 0.6]\n",
      " [0.6 0.6 0.4 0.4 0.6 0.4]\n",
      " [0.8 0.2 0.2 0.6 0.8 0.4]\n",
      " [0.8 0.6 0.4 0.4 0.8 0.8]\n",
      " [0.6 0.8 0.2 0.8 0.4 0.8]\n",
      " [0.4 0.6 0.6 0.4 0.6 0.6]\n",
      " [0.4 0.8 0.2 0.8 0.2 0.4]]\n",
      "[[0.4 0.6 0.8 0.4 0.8 0.6]\n",
      " [0.6 0.6 0.4 0.4 0.6 0.4]\n",
      " [0.8 0.2 0.2 0.6 0.8 0.8]\n",
      " [0.8 0.6 0.4 0.4 0.8 0.4]\n",
      " [0.4 0.8 0.2 0.8 0.4 0.8]\n",
      " [0.6 0.6 0.6 0.4 0.6 0.6]\n",
      " [0.4 0.8 0.2 0.8 0.2 0.4]]\n",
      "[[0.4 0.6 0.8 0.4 0.8 0.6]\n",
      " [0.6 0.6 0.4 0.4 0.6 0.4]\n",
      " [0.8 0.2 0.2 0.6 0.8 0.8]\n",
      " [0.6 0.6 0.4 0.4 0.8 0.4]\n",
      " [0.8 0.8 0.2 0.8 0.4 0.8]\n",
      " [0.4 0.6 0.6 0.4 0.6 0.6]\n",
      " [0.4 0.8 0.2 0.8 0.2 0.4]]\n",
      "[[0.4 0.6 0.8 0.4 0.8 0.6]\n",
      " [0.6 0.6 0.4 0.4 0.6 0.4]\n",
      " [0.8 0.2 0.2 0.6 0.8 0.8]\n",
      " [0.8 0.6 0.4 0.4 0.8 0.4]\n",
      " [0.6 0.6 0.2 0.8 0.4 0.8]\n",
      " [0.4 0.8 0.6 0.4 0.6 0.6]\n",
      " [0.4 0.8 0.2 0.8 0.2 0.4]]\n",
      "[[0.4 0.6 0.8 0.4 0.8 0.6]\n",
      " [0.6 0.6 0.4 0.4 0.6 0.4]\n",
      " [0.8 0.2 0.2 0.6 0.8 0.8]\n",
      " [0.8 0.8 0.4 0.4 0.8 0.4]\n",
      " [0.6 0.6 0.2 0.8 0.4 0.8]\n",
      " [0.4 0.6 0.6 0.4 0.6 0.6]\n",
      " [0.4 0.8 0.2 0.8 0.2 0.4]]\n",
      "[[0.4 0.6 0.8 0.4 0.8 0.6]\n",
      " [0.6 0.6 0.4 0.4 0.6 0.4]\n",
      " [0.8 0.2 0.2 0.6 0.8 0.8]\n",
      " [0.8 0.6 0.4 0.4 0.8 0.4]\n",
      " [0.6 0.8 0.6 0.8 0.4 0.8]\n",
      " [0.4 0.6 0.2 0.4 0.6 0.6]\n",
      " [0.4 0.8 0.2 0.8 0.2 0.4]]\n",
      "[[0.4 0.6 0.8 0.4 0.8 0.6]\n",
      " [0.6 0.6 0.4 0.4 0.6 0.4]\n",
      " [0.8 0.2 0.2 0.6 0.8 0.8]\n",
      " [0.8 0.6 0.2 0.4 0.8 0.4]\n",
      " [0.6 0.8 0.4 0.8 0.4 0.8]\n",
      " [0.4 0.6 0.6 0.4 0.6 0.6]\n",
      " [0.4 0.8 0.2 0.8 0.2 0.4]]\n",
      "[[0.4 0.6 0.8 0.4 0.8 0.6]\n",
      " [0.6 0.6 0.4 0.4 0.6 0.4]\n",
      " [0.8 0.2 0.2 0.6 0.8 0.8]\n",
      " [0.8 0.6 0.4 0.4 0.8 0.4]\n",
      " [0.6 0.8 0.2 0.4 0.4 0.8]\n",
      " [0.4 0.6 0.6 0.8 0.6 0.6]\n",
      " [0.4 0.8 0.2 0.8 0.2 0.4]]\n",
      "[[0.4 0.6 0.8 0.4 0.8 0.6]\n",
      " [0.6 0.6 0.4 0.4 0.6 0.4]\n",
      " [0.8 0.2 0.2 0.6 0.8 0.8]\n",
      " [0.8 0.6 0.4 0.8 0.8 0.4]\n",
      " [0.6 0.8 0.2 0.4 0.4 0.8]\n",
      " [0.4 0.6 0.6 0.4 0.6 0.6]\n",
      " [0.4 0.8 0.2 0.8 0.2 0.4]]\n",
      "[[0.4 0.6 0.8 0.4 0.8 0.6]\n",
      " [0.6 0.6 0.4 0.4 0.6 0.4]\n",
      " [0.8 0.2 0.2 0.6 0.8 0.8]\n",
      " [0.8 0.6 0.4 0.4 0.8 0.4]\n",
      " [0.6 0.8 0.2 0.8 0.6 0.8]\n",
      " [0.4 0.6 0.6 0.4 0.4 0.6]\n",
      " [0.4 0.8 0.2 0.8 0.2 0.4]]\n",
      "[[0.4 0.6 0.8 0.4 0.8 0.6]\n",
      " [0.6 0.6 0.4 0.4 0.6 0.4]\n",
      " [0.8 0.2 0.2 0.6 0.8 0.8]\n",
      " [0.8 0.6 0.4 0.4 0.4 0.4]\n",
      " [0.6 0.8 0.2 0.8 0.8 0.8]\n",
      " [0.4 0.6 0.6 0.4 0.6 0.6]\n",
      " [0.4 0.8 0.2 0.8 0.2 0.4]]\n",
      "[[0.4 0.6 0.8 0.4 0.8 0.6]\n",
      " [0.6 0.6 0.4 0.4 0.6 0.4]\n",
      " [0.8 0.2 0.2 0.6 0.8 0.8]\n",
      " [0.8 0.6 0.4 0.4 0.8 0.4]\n",
      " [0.6 0.8 0.2 0.8 0.4 0.6]\n",
      " [0.4 0.6 0.6 0.4 0.6 0.8]\n",
      " [0.4 0.8 0.2 0.8 0.2 0.4]]\n",
      "[[0.4 0.6 0.8 0.4 0.8 0.6]\n",
      " [0.6 0.6 0.4 0.4 0.6 0.4]\n",
      " [0.8 0.2 0.2 0.6 0.8 0.8]\n",
      " [0.8 0.6 0.4 0.4 0.8 0.8]\n",
      " [0.6 0.8 0.2 0.8 0.4 0.4]\n",
      " [0.4 0.6 0.6 0.4 0.6 0.6]\n",
      " [0.4 0.8 0.2 0.8 0.2 0.4]]\n",
      "[[0.4 0.6 0.8 0.4 0.8 0.6]\n",
      " [0.6 0.6 0.4 0.4 0.6 0.4]\n",
      " [0.8 0.2 0.2 0.6 0.8 0.8]\n",
      " [0.8 0.6 0.4 0.4 0.8 0.4]\n",
      " [0.6 0.8 0.2 0.8 0.4 0.8]\n",
      " [0.4 0.6 0.6 0.4 0.6 0.6]\n",
      " [0.4 0.8 0.2 0.8 0.2 0.4]]\n",
      "[[0.4 0.6 0.8 0.4 0.8 0.6]\n",
      " [0.6 0.6 0.4 0.4 0.6 0.4]\n",
      " [0.8 0.2 0.2 0.6 0.8 0.8]\n",
      " [0.8 0.6 0.4 0.4 0.8 0.4]\n",
      " [0.4 0.8 0.2 0.8 0.4 0.8]\n",
      " [0.6 0.6 0.6 0.4 0.6 0.6]\n",
      " [0.4 0.8 0.2 0.8 0.2 0.4]]\n",
      "[[0.4 0.6 0.8 0.4 0.8 0.6]\n",
      " [0.6 0.6 0.4 0.4 0.6 0.4]\n",
      " [0.8 0.2 0.2 0.6 0.8 0.8]\n",
      " [0.8 0.6 0.4 0.4 0.8 0.4]\n",
      " [0.6 0.8 0.2 0.8 0.4 0.8]\n",
      " [0.4 0.8 0.6 0.4 0.6 0.6]\n",
      " [0.4 0.6 0.2 0.8 0.2 0.4]]\n",
      "[[0.4 0.6 0.8 0.4 0.8 0.6]\n",
      " [0.6 0.6 0.4 0.4 0.6 0.4]\n",
      " [0.8 0.2 0.2 0.6 0.8 0.8]\n",
      " [0.8 0.6 0.4 0.4 0.8 0.4]\n",
      " [0.6 0.6 0.2 0.8 0.4 0.8]\n",
      " [0.4 0.8 0.6 0.4 0.6 0.6]\n",
      " [0.4 0.8 0.2 0.8 0.2 0.4]]\n",
      "[[0.4 0.6 0.8 0.4 0.8 0.6]\n",
      " [0.6 0.6 0.4 0.4 0.6 0.4]\n",
      " [0.8 0.2 0.2 0.6 0.8 0.8]\n",
      " [0.8 0.6 0.4 0.4 0.8 0.4]\n",
      " [0.6 0.8 0.2 0.8 0.4 0.8]\n",
      " [0.4 0.6 0.2 0.4 0.6 0.6]\n",
      " [0.4 0.8 0.6 0.8 0.2 0.4]]\n",
      "[[0.4 0.6 0.8 0.4 0.8 0.6]\n",
      " [0.6 0.6 0.4 0.4 0.6 0.4]\n",
      " [0.8 0.2 0.2 0.6 0.8 0.8]\n",
      " [0.8 0.6 0.4 0.4 0.8 0.4]\n",
      " [0.6 0.8 0.6 0.8 0.4 0.8]\n",
      " [0.4 0.6 0.2 0.4 0.6 0.6]\n",
      " [0.4 0.8 0.2 0.8 0.2 0.4]]\n",
      "[[0.4 0.6 0.8 0.4 0.8 0.6]\n",
      " [0.6 0.6 0.4 0.4 0.6 0.4]\n",
      " [0.8 0.2 0.2 0.6 0.8 0.8]\n",
      " [0.8 0.6 0.4 0.4 0.8 0.4]\n",
      " [0.6 0.8 0.2 0.8 0.4 0.8]\n",
      " [0.4 0.6 0.6 0.8 0.6 0.6]\n",
      " [0.4 0.8 0.2 0.4 0.2 0.4]]\n",
      "[[0.4 0.6 0.8 0.4 0.8 0.6]\n",
      " [0.6 0.6 0.4 0.4 0.6 0.4]\n",
      " [0.8 0.2 0.2 0.6 0.8 0.8]\n",
      " [0.8 0.6 0.4 0.4 0.8 0.4]\n",
      " [0.6 0.8 0.2 0.4 0.4 0.8]\n",
      " [0.4 0.6 0.6 0.8 0.6 0.6]\n",
      " [0.4 0.8 0.2 0.8 0.2 0.4]]\n",
      "[[0.4 0.6 0.8 0.4 0.8 0.6]\n",
      " [0.6 0.6 0.4 0.4 0.6 0.4]\n",
      " [0.8 0.2 0.2 0.6 0.8 0.8]\n",
      " [0.8 0.6 0.4 0.4 0.8 0.4]\n",
      " [0.6 0.8 0.2 0.8 0.4 0.8]\n",
      " [0.4 0.6 0.6 0.4 0.2 0.6]\n",
      " [0.4 0.8 0.2 0.8 0.6 0.4]]\n",
      "[[0.4 0.6 0.8 0.4 0.8 0.6]\n",
      " [0.6 0.6 0.4 0.4 0.6 0.4]\n",
      " [0.8 0.2 0.2 0.6 0.8 0.8]\n",
      " [0.8 0.6 0.4 0.4 0.8 0.4]\n",
      " [0.6 0.8 0.2 0.8 0.6 0.8]\n",
      " [0.4 0.6 0.6 0.4 0.4 0.6]\n",
      " [0.4 0.8 0.2 0.8 0.2 0.4]]\n",
      "[[0.4 0.6 0.8 0.4 0.8 0.6]\n",
      " [0.6 0.6 0.4 0.4 0.6 0.4]\n",
      " [0.8 0.2 0.2 0.6 0.8 0.8]\n",
      " [0.8 0.6 0.4 0.4 0.8 0.4]\n",
      " [0.6 0.8 0.2 0.8 0.4 0.8]\n",
      " [0.4 0.6 0.6 0.4 0.6 0.4]\n",
      " [0.4 0.8 0.2 0.8 0.2 0.6]]\n",
      "[[0.4 0.6 0.8 0.4 0.8 0.6]\n",
      " [0.6 0.6 0.4 0.4 0.6 0.4]\n",
      " [0.8 0.2 0.2 0.6 0.8 0.8]\n",
      " [0.8 0.6 0.4 0.4 0.8 0.4]\n",
      " [0.6 0.8 0.2 0.8 0.4 0.6]\n",
      " [0.4 0.6 0.6 0.4 0.6 0.8]\n",
      " [0.4 0.8 0.2 0.8 0.2 0.4]]\n",
      "[[0.4 0.6 0.8 0.4 0.8 0.6]\n",
      " [0.6 0.6 0.4 0.4 0.6 0.4]\n",
      " [0.8 0.2 0.2 0.6 0.8 0.8]\n",
      " [0.8 0.6 0.4 0.4 0.8 0.4]\n",
      " [0.6 0.8 0.2 0.8 0.4 0.8]\n",
      " [0.4 0.6 0.6 0.4 0.6 0.6]\n",
      " [0.4 0.8 0.2 0.8 0.2 0.4]]\n",
      "[[0.4 0.6 0.8 0.4 0.8 0.6]\n",
      " [0.6 0.6 0.4 0.4 0.6 0.4]\n",
      " [0.8 0.2 0.2 0.6 0.8 0.8]\n",
      " [0.8 0.6 0.4 0.4 0.8 0.4]\n",
      " [0.6 0.8 0.2 0.8 0.4 0.8]\n",
      " [0.4 0.8 0.6 0.4 0.6 0.6]\n",
      " [0.4 0.6 0.2 0.8 0.2 0.4]]\n",
      "[[0.4 0.6 0.8 0.4 0.8 0.6]\n",
      " [0.6 0.6 0.4 0.4 0.6 0.4]\n",
      " [0.8 0.2 0.2 0.6 0.8 0.8]\n",
      " [0.8 0.6 0.4 0.4 0.8 0.4]\n",
      " [0.6 0.8 0.2 0.8 0.4 0.8]\n",
      " [0.4 0.6 0.2 0.4 0.6 0.6]\n",
      " [0.4 0.8 0.6 0.8 0.2 0.4]]\n",
      "[[0.4 0.6 0.8 0.4 0.8 0.6]\n",
      " [0.6 0.6 0.4 0.4 0.6 0.4]\n",
      " [0.8 0.2 0.2 0.6 0.8 0.8]\n",
      " [0.8 0.6 0.4 0.4 0.8 0.4]\n",
      " [0.6 0.8 0.2 0.8 0.4 0.8]\n",
      " [0.4 0.6 0.6 0.8 0.6 0.6]\n",
      " [0.4 0.8 0.2 0.4 0.2 0.4]]\n",
      "[[0.4 0.6 0.8 0.4 0.8 0.6]\n",
      " [0.6 0.6 0.4 0.4 0.6 0.4]\n",
      " [0.8 0.2 0.2 0.6 0.8 0.8]\n",
      " [0.8 0.6 0.4 0.4 0.8 0.4]\n",
      " [0.6 0.8 0.2 0.8 0.4 0.8]\n",
      " [0.4 0.6 0.6 0.4 0.2 0.6]\n",
      " [0.4 0.8 0.2 0.8 0.6 0.4]]\n",
      "[[0.4 0.6 0.8 0.4 0.8 0.6]\n",
      " [0.6 0.6 0.4 0.4 0.6 0.4]\n",
      " [0.8 0.2 0.2 0.6 0.8 0.8]\n",
      " [0.8 0.6 0.4 0.4 0.8 0.4]\n",
      " [0.6 0.8 0.2 0.8 0.4 0.8]\n",
      " [0.4 0.6 0.6 0.4 0.6 0.4]\n",
      " [0.4 0.8 0.2 0.8 0.2 0.6]]\n",
      "[[0.6 0.4 0.8 0.4 0.8 0.6]\n",
      " [0.6 0.6 0.4 0.4 0.6 0.4]\n",
      " [0.8 0.2 0.2 0.6 0.8 0.8]\n",
      " [0.8 0.6 0.4 0.4 0.8 0.4]\n",
      " [0.6 0.8 0.2 0.8 0.4 0.8]\n",
      " [0.4 0.6 0.6 0.4 0.6 0.6]\n",
      " [0.4 0.8 0.2 0.8 0.2 0.4]]\n",
      "[[0.4 0.6 0.8 0.4 0.8 0.6]\n",
      " [0.6 0.6 0.4 0.4 0.6 0.4]\n",
      " [0.8 0.2 0.2 0.6 0.8 0.8]\n",
      " [0.8 0.6 0.4 0.4 0.8 0.4]\n",
      " [0.6 0.8 0.2 0.8 0.4 0.8]\n",
      " [0.4 0.6 0.6 0.4 0.6 0.6]\n",
      " [0.4 0.8 0.2 0.8 0.2 0.4]]\n",
      "[[0.4 0.6 0.8 0.4 0.8 0.6]\n",
      " [0.6 0.6 0.4 0.4 0.6 0.4]\n",
      " [0.2 0.8 0.2 0.6 0.8 0.8]\n",
      " [0.8 0.6 0.4 0.4 0.8 0.4]\n",
      " [0.6 0.8 0.2 0.8 0.4 0.8]\n",
      " [0.4 0.6 0.6 0.4 0.6 0.6]\n",
      " [0.4 0.8 0.2 0.8 0.2 0.4]]\n",
      "[[0.4 0.6 0.8 0.4 0.8 0.6]\n",
      " [0.6 0.6 0.4 0.4 0.6 0.4]\n",
      " [0.8 0.2 0.2 0.6 0.8 0.8]\n",
      " [0.6 0.8 0.4 0.4 0.8 0.4]\n",
      " [0.6 0.8 0.2 0.8 0.4 0.8]\n",
      " [0.4 0.6 0.6 0.4 0.6 0.6]\n",
      " [0.4 0.8 0.2 0.8 0.2 0.4]]\n",
      "[[0.4 0.6 0.8 0.4 0.8 0.6]\n",
      " [0.6 0.6 0.4 0.4 0.6 0.4]\n",
      " [0.8 0.2 0.2 0.6 0.8 0.8]\n",
      " [0.8 0.6 0.4 0.4 0.8 0.4]\n",
      " [0.8 0.6 0.2 0.8 0.4 0.8]\n",
      " [0.4 0.6 0.6 0.4 0.6 0.6]\n",
      " [0.4 0.8 0.2 0.8 0.2 0.4]]\n",
      "[[0.4 0.6 0.8 0.4 0.8 0.6]\n",
      " [0.6 0.6 0.4 0.4 0.6 0.4]\n",
      " [0.8 0.2 0.2 0.6 0.8 0.8]\n",
      " [0.8 0.6 0.4 0.4 0.8 0.4]\n",
      " [0.6 0.8 0.2 0.8 0.4 0.8]\n",
      " [0.6 0.4 0.6 0.4 0.6 0.6]\n",
      " [0.4 0.8 0.2 0.8 0.2 0.4]]\n",
      "[[0.4 0.6 0.8 0.4 0.8 0.6]\n",
      " [0.6 0.6 0.4 0.4 0.6 0.4]\n",
      " [0.8 0.2 0.2 0.6 0.8 0.8]\n",
      " [0.8 0.6 0.4 0.4 0.8 0.4]\n",
      " [0.6 0.8 0.2 0.8 0.4 0.8]\n",
      " [0.4 0.6 0.6 0.4 0.6 0.6]\n",
      " [0.8 0.4 0.2 0.8 0.2 0.4]]\n",
      "[[0.6 0.4 0.8 0.4 0.8 0.6]\n",
      " [0.6 0.6 0.4 0.4 0.6 0.4]\n",
      " [0.8 0.2 0.2 0.6 0.8 0.8]\n",
      " [0.8 0.6 0.4 0.4 0.8 0.4]\n",
      " [0.6 0.8 0.2 0.8 0.4 0.8]\n",
      " [0.4 0.6 0.6 0.4 0.6 0.6]\n",
      " [0.4 0.8 0.2 0.8 0.2 0.4]]\n",
      "[[0.4 0.8 0.6 0.4 0.8 0.6]\n",
      " [0.6 0.6 0.4 0.4 0.6 0.4]\n",
      " [0.8 0.2 0.2 0.6 0.8 0.8]\n",
      " [0.8 0.6 0.4 0.4 0.8 0.4]\n",
      " [0.6 0.8 0.2 0.8 0.4 0.8]\n",
      " [0.4 0.6 0.6 0.4 0.6 0.6]\n",
      " [0.4 0.8 0.2 0.8 0.2 0.4]]\n",
      "[[0.4 0.6 0.8 0.4 0.8 0.6]\n",
      " [0.6 0.6 0.4 0.4 0.6 0.4]\n",
      " [0.8 0.2 0.2 0.6 0.8 0.8]\n",
      " [0.8 0.6 0.4 0.4 0.8 0.4]\n",
      " [0.6 0.8 0.2 0.8 0.4 0.8]\n",
      " [0.4 0.6 0.6 0.4 0.6 0.6]\n",
      " [0.4 0.8 0.2 0.8 0.2 0.4]]\n",
      "[[0.4 0.6 0.8 0.4 0.8 0.6]\n",
      " [0.6 0.4 0.6 0.4 0.6 0.4]\n",
      " [0.8 0.2 0.2 0.6 0.8 0.8]\n",
      " [0.8 0.6 0.4 0.4 0.8 0.4]\n",
      " [0.6 0.8 0.2 0.8 0.4 0.8]\n",
      " [0.4 0.6 0.6 0.4 0.6 0.6]\n",
      " [0.4 0.8 0.2 0.8 0.2 0.4]]\n",
      "[[0.4 0.6 0.8 0.4 0.8 0.6]\n",
      " [0.6 0.6 0.4 0.4 0.6 0.4]\n",
      " [0.2 0.8 0.2 0.6 0.8 0.8]\n",
      " [0.8 0.6 0.4 0.4 0.8 0.4]\n",
      " [0.6 0.8 0.2 0.8 0.4 0.8]\n",
      " [0.4 0.6 0.6 0.4 0.6 0.6]\n",
      " [0.4 0.8 0.2 0.8 0.2 0.4]]\n",
      "[[0.4 0.6 0.8 0.4 0.8 0.6]\n",
      " [0.6 0.6 0.4 0.4 0.6 0.4]\n",
      " [0.8 0.2 0.2 0.6 0.8 0.8]\n",
      " [0.8 0.6 0.4 0.4 0.8 0.4]\n",
      " [0.6 0.8 0.2 0.8 0.4 0.8]\n",
      " [0.4 0.6 0.6 0.4 0.6 0.6]\n",
      " [0.4 0.8 0.2 0.8 0.2 0.4]]\n",
      "[[0.4 0.6 0.8 0.4 0.8 0.6]\n",
      " [0.6 0.6 0.4 0.4 0.6 0.4]\n",
      " [0.8 0.2 0.2 0.6 0.8 0.8]\n",
      " [0.6 0.8 0.4 0.4 0.8 0.4]\n",
      " [0.6 0.8 0.2 0.8 0.4 0.8]\n",
      " [0.4 0.6 0.6 0.4 0.6 0.6]\n",
      " [0.4 0.8 0.2 0.8 0.2 0.4]]\n",
      "[[0.4 0.6 0.8 0.4 0.8 0.6]\n",
      " [0.6 0.6 0.4 0.4 0.6 0.4]\n",
      " [0.8 0.2 0.2 0.6 0.8 0.8]\n",
      " [0.8 0.4 0.6 0.4 0.8 0.4]\n",
      " [0.6 0.8 0.2 0.8 0.4 0.8]\n",
      " [0.4 0.6 0.6 0.4 0.6 0.6]\n",
      " [0.4 0.8 0.2 0.8 0.2 0.4]]\n",
      "[[0.4 0.6 0.8 0.4 0.8 0.6]\n",
      " [0.6 0.6 0.4 0.4 0.6 0.4]\n",
      " [0.8 0.2 0.2 0.6 0.8 0.8]\n",
      " [0.8 0.6 0.4 0.4 0.8 0.4]\n",
      " [0.8 0.6 0.2 0.8 0.4 0.8]\n",
      " [0.4 0.6 0.6 0.4 0.6 0.6]\n",
      " [0.4 0.8 0.2 0.8 0.2 0.4]]\n",
      "[[0.4 0.6 0.8 0.4 0.8 0.6]\n",
      " [0.6 0.6 0.4 0.4 0.6 0.4]\n",
      " [0.8 0.2 0.2 0.6 0.8 0.8]\n",
      " [0.8 0.6 0.4 0.4 0.8 0.4]\n",
      " [0.6 0.2 0.8 0.8 0.4 0.8]\n",
      " [0.4 0.6 0.6 0.4 0.6 0.6]\n",
      " [0.4 0.8 0.2 0.8 0.2 0.4]]\n",
      "[[0.4 0.6 0.8 0.4 0.8 0.6]\n",
      " [0.6 0.6 0.4 0.4 0.6 0.4]\n",
      " [0.8 0.2 0.2 0.6 0.8 0.8]\n",
      " [0.8 0.6 0.4 0.4 0.8 0.4]\n",
      " [0.6 0.8 0.2 0.8 0.4 0.8]\n",
      " [0.6 0.4 0.6 0.4 0.6 0.6]\n",
      " [0.4 0.8 0.2 0.8 0.2 0.4]]\n",
      "[[0.4 0.6 0.8 0.4 0.8 0.6]\n",
      " [0.6 0.6 0.4 0.4 0.6 0.4]\n",
      " [0.8 0.2 0.2 0.6 0.8 0.8]\n",
      " [0.8 0.6 0.4 0.4 0.8 0.4]\n",
      " [0.6 0.8 0.2 0.8 0.4 0.8]\n",
      " [0.4 0.6 0.6 0.4 0.6 0.6]\n",
      " [0.4 0.8 0.2 0.8 0.2 0.4]]\n",
      "[[0.4 0.6 0.8 0.4 0.8 0.6]\n",
      " [0.6 0.6 0.4 0.4 0.6 0.4]\n",
      " [0.8 0.2 0.2 0.6 0.8 0.8]\n",
      " [0.8 0.6 0.4 0.4 0.8 0.4]\n",
      " [0.6 0.8 0.2 0.8 0.4 0.8]\n",
      " [0.4 0.6 0.6 0.4 0.6 0.6]\n",
      " [0.8 0.4 0.2 0.8 0.2 0.4]]\n",
      "[[0.4 0.6 0.8 0.4 0.8 0.6]\n",
      " [0.6 0.6 0.4 0.4 0.6 0.4]\n",
      " [0.8 0.2 0.2 0.6 0.8 0.8]\n",
      " [0.8 0.6 0.4 0.4 0.8 0.4]\n",
      " [0.6 0.8 0.2 0.8 0.4 0.8]\n",
      " [0.4 0.6 0.6 0.4 0.6 0.6]\n",
      " [0.4 0.2 0.8 0.8 0.2 0.4]]\n",
      "[[0.4 0.8 0.6 0.4 0.8 0.6]\n",
      " [0.6 0.6 0.4 0.4 0.6 0.4]\n",
      " [0.8 0.2 0.2 0.6 0.8 0.8]\n",
      " [0.8 0.6 0.4 0.4 0.8 0.4]\n",
      " [0.6 0.8 0.2 0.8 0.4 0.8]\n",
      " [0.4 0.6 0.6 0.4 0.6 0.6]\n",
      " [0.4 0.8 0.2 0.8 0.2 0.4]]\n",
      "[[0.4 0.6 0.4 0.8 0.8 0.6]\n",
      " [0.6 0.6 0.4 0.4 0.6 0.4]\n",
      " [0.8 0.2 0.2 0.6 0.8 0.8]\n",
      " [0.8 0.6 0.4 0.4 0.8 0.4]\n",
      " [0.6 0.8 0.2 0.8 0.4 0.8]\n",
      " [0.4 0.6 0.6 0.4 0.6 0.6]\n",
      " [0.4 0.8 0.2 0.8 0.2 0.4]]\n",
      "[[0.4 0.6 0.8 0.4 0.8 0.6]\n",
      " [0.6 0.4 0.6 0.4 0.6 0.4]\n",
      " [0.8 0.2 0.2 0.6 0.8 0.8]\n",
      " [0.8 0.6 0.4 0.4 0.8 0.4]\n",
      " [0.6 0.8 0.2 0.8 0.4 0.8]\n",
      " [0.4 0.6 0.6 0.4 0.6 0.6]\n",
      " [0.4 0.8 0.2 0.8 0.2 0.4]]\n",
      "[[0.4 0.6 0.8 0.4 0.8 0.6]\n",
      " [0.6 0.6 0.4 0.4 0.6 0.4]\n",
      " [0.8 0.2 0.2 0.6 0.8 0.8]\n",
      " [0.8 0.6 0.4 0.4 0.8 0.4]\n",
      " [0.6 0.8 0.2 0.8 0.4 0.8]\n",
      " [0.4 0.6 0.6 0.4 0.6 0.6]\n",
      " [0.4 0.8 0.2 0.8 0.2 0.4]]\n",
      "[[0.4 0.6 0.8 0.4 0.8 0.6]\n",
      " [0.6 0.6 0.4 0.4 0.6 0.4]\n",
      " [0.8 0.2 0.2 0.6 0.8 0.8]\n",
      " [0.8 0.6 0.4 0.4 0.8 0.4]\n",
      " [0.6 0.8 0.2 0.8 0.4 0.8]\n",
      " [0.4 0.6 0.6 0.4 0.6 0.6]\n",
      " [0.4 0.8 0.2 0.8 0.2 0.4]]\n",
      "[[0.4 0.6 0.8 0.4 0.8 0.6]\n",
      " [0.6 0.6 0.4 0.4 0.6 0.4]\n",
      " [0.8 0.2 0.6 0.2 0.8 0.8]\n",
      " [0.8 0.6 0.4 0.4 0.8 0.4]\n",
      " [0.6 0.8 0.2 0.8 0.4 0.8]\n",
      " [0.4 0.6 0.6 0.4 0.6 0.6]\n",
      " [0.4 0.8 0.2 0.8 0.2 0.4]]\n",
      "[[0.4 0.6 0.8 0.4 0.8 0.6]\n",
      " [0.6 0.6 0.4 0.4 0.6 0.4]\n",
      " [0.8 0.2 0.2 0.6 0.8 0.8]\n",
      " [0.8 0.4 0.6 0.4 0.8 0.4]\n",
      " [0.6 0.8 0.2 0.8 0.4 0.8]\n",
      " [0.4 0.6 0.6 0.4 0.6 0.6]\n",
      " [0.4 0.8 0.2 0.8 0.2 0.4]]\n",
      "[[0.4 0.6 0.8 0.4 0.8 0.6]\n",
      " [0.6 0.6 0.4 0.4 0.6 0.4]\n",
      " [0.8 0.2 0.2 0.6 0.8 0.8]\n",
      " [0.8 0.6 0.4 0.4 0.8 0.4]\n",
      " [0.6 0.8 0.2 0.8 0.4 0.8]\n",
      " [0.4 0.6 0.6 0.4 0.6 0.6]\n",
      " [0.4 0.8 0.2 0.8 0.2 0.4]]\n",
      "[[0.4 0.6 0.8 0.4 0.8 0.6]\n",
      " [0.6 0.6 0.4 0.4 0.6 0.4]\n",
      " [0.8 0.2 0.2 0.6 0.8 0.8]\n",
      " [0.8 0.6 0.4 0.4 0.8 0.4]\n",
      " [0.6 0.2 0.8 0.8 0.4 0.8]\n",
      " [0.4 0.6 0.6 0.4 0.6 0.6]\n",
      " [0.4 0.8 0.2 0.8 0.2 0.4]]\n",
      "[[0.4 0.6 0.8 0.4 0.8 0.6]\n",
      " [0.6 0.6 0.4 0.4 0.6 0.4]\n",
      " [0.8 0.2 0.2 0.6 0.8 0.8]\n",
      " [0.8 0.6 0.4 0.4 0.8 0.4]\n",
      " [0.6 0.8 0.8 0.2 0.4 0.8]\n",
      " [0.4 0.6 0.6 0.4 0.6 0.6]\n",
      " [0.4 0.8 0.2 0.8 0.2 0.4]]\n",
      "[[0.4 0.6 0.8 0.4 0.8 0.6]\n",
      " [0.6 0.6 0.4 0.4 0.6 0.4]\n",
      " [0.8 0.2 0.2 0.6 0.8 0.8]\n",
      " [0.8 0.6 0.4 0.4 0.8 0.4]\n",
      " [0.6 0.8 0.2 0.8 0.4 0.8]\n",
      " [0.4 0.6 0.6 0.4 0.6 0.6]\n",
      " [0.4 0.8 0.2 0.8 0.2 0.4]]\n",
      "[[0.4 0.6 0.8 0.4 0.8 0.6]\n",
      " [0.6 0.6 0.4 0.4 0.6 0.4]\n",
      " [0.8 0.2 0.2 0.6 0.8 0.8]\n",
      " [0.8 0.6 0.4 0.4 0.8 0.4]\n",
      " [0.6 0.8 0.2 0.8 0.4 0.8]\n",
      " [0.4 0.6 0.4 0.6 0.6 0.6]\n",
      " [0.4 0.8 0.2 0.8 0.2 0.4]]\n",
      "[[0.4 0.6 0.8 0.4 0.8 0.6]\n",
      " [0.6 0.6 0.4 0.4 0.6 0.4]\n",
      " [0.8 0.2 0.2 0.6 0.8 0.8]\n",
      " [0.8 0.6 0.4 0.4 0.8 0.4]\n",
      " [0.6 0.8 0.2 0.8 0.4 0.8]\n",
      " [0.4 0.6 0.6 0.4 0.6 0.6]\n",
      " [0.4 0.2 0.8 0.8 0.2 0.4]]\n",
      "[[0.4 0.6 0.8 0.4 0.8 0.6]\n",
      " [0.6 0.6 0.4 0.4 0.6 0.4]\n",
      " [0.8 0.2 0.2 0.6 0.8 0.8]\n",
      " [0.8 0.6 0.4 0.4 0.8 0.4]\n",
      " [0.6 0.8 0.2 0.8 0.4 0.8]\n",
      " [0.4 0.6 0.6 0.4 0.6 0.6]\n",
      " [0.4 0.8 0.8 0.2 0.2 0.4]]\n",
      "[[0.4 0.6 0.4 0.8 0.8 0.6]\n",
      " [0.6 0.6 0.4 0.4 0.6 0.4]\n",
      " [0.8 0.2 0.2 0.6 0.8 0.8]\n",
      " [0.8 0.6 0.4 0.4 0.8 0.4]\n",
      " [0.6 0.8 0.2 0.8 0.4 0.8]\n",
      " [0.4 0.6 0.6 0.4 0.6 0.6]\n",
      " [0.4 0.8 0.2 0.8 0.2 0.4]]\n",
      "[[0.4 0.6 0.8 0.8 0.4 0.6]\n",
      " [0.6 0.6 0.4 0.4 0.6 0.4]\n",
      " [0.8 0.2 0.2 0.6 0.8 0.8]\n",
      " [0.8 0.6 0.4 0.4 0.8 0.4]\n",
      " [0.6 0.8 0.2 0.8 0.4 0.8]\n",
      " [0.4 0.6 0.6 0.4 0.6 0.6]\n",
      " [0.4 0.8 0.2 0.8 0.2 0.4]]\n",
      "[[0.4 0.6 0.8 0.4 0.8 0.6]\n",
      " [0.6 0.6 0.4 0.4 0.6 0.4]\n",
      " [0.8 0.2 0.2 0.6 0.8 0.8]\n",
      " [0.8 0.6 0.4 0.4 0.8 0.4]\n",
      " [0.6 0.8 0.2 0.8 0.4 0.8]\n",
      " [0.4 0.6 0.6 0.4 0.6 0.6]\n",
      " [0.4 0.8 0.2 0.8 0.2 0.4]]\n",
      "[[0.4 0.6 0.8 0.4 0.8 0.6]\n",
      " [0.6 0.6 0.4 0.6 0.4 0.4]\n",
      " [0.8 0.2 0.2 0.6 0.8 0.8]\n",
      " [0.8 0.6 0.4 0.4 0.8 0.4]\n",
      " [0.6 0.8 0.2 0.8 0.4 0.8]\n",
      " [0.4 0.6 0.6 0.4 0.6 0.6]\n",
      " [0.4 0.8 0.2 0.8 0.2 0.4]]\n",
      "[[0.4 0.6 0.8 0.4 0.8 0.6]\n",
      " [0.6 0.6 0.4 0.4 0.6 0.4]\n",
      " [0.8 0.2 0.6 0.2 0.8 0.8]\n",
      " [0.8 0.6 0.4 0.4 0.8 0.4]\n",
      " [0.6 0.8 0.2 0.8 0.4 0.8]\n",
      " [0.4 0.6 0.6 0.4 0.6 0.6]\n",
      " [0.4 0.8 0.2 0.8 0.2 0.4]]\n",
      "[[0.4 0.6 0.8 0.4 0.8 0.6]\n",
      " [0.6 0.6 0.4 0.4 0.6 0.4]\n",
      " [0.8 0.2 0.2 0.8 0.6 0.8]\n",
      " [0.8 0.6 0.4 0.4 0.8 0.4]\n",
      " [0.6 0.8 0.2 0.8 0.4 0.8]\n",
      " [0.4 0.6 0.6 0.4 0.6 0.6]\n",
      " [0.4 0.8 0.2 0.8 0.2 0.4]]\n",
      "[[0.4 0.6 0.8 0.4 0.8 0.6]\n",
      " [0.6 0.6 0.4 0.4 0.6 0.4]\n",
      " [0.8 0.2 0.2 0.6 0.8 0.8]\n",
      " [0.8 0.6 0.4 0.4 0.8 0.4]\n",
      " [0.6 0.8 0.2 0.8 0.4 0.8]\n",
      " [0.4 0.6 0.6 0.4 0.6 0.6]\n",
      " [0.4 0.8 0.2 0.8 0.2 0.4]]\n",
      "[[0.4 0.6 0.8 0.4 0.8 0.6]\n",
      " [0.6 0.6 0.4 0.4 0.6 0.4]\n",
      " [0.8 0.2 0.2 0.6 0.8 0.8]\n",
      " [0.8 0.6 0.4 0.8 0.4 0.4]\n",
      " [0.6 0.8 0.2 0.8 0.4 0.8]\n",
      " [0.4 0.6 0.6 0.4 0.6 0.6]\n",
      " [0.4 0.8 0.2 0.8 0.2 0.4]]\n",
      "[[0.4 0.6 0.8 0.4 0.8 0.6]\n",
      " [0.6 0.6 0.4 0.4 0.6 0.4]\n",
      " [0.8 0.2 0.2 0.6 0.8 0.8]\n",
      " [0.8 0.6 0.4 0.4 0.8 0.4]\n",
      " [0.6 0.8 0.8 0.2 0.4 0.8]\n",
      " [0.4 0.6 0.6 0.4 0.6 0.6]\n",
      " [0.4 0.8 0.2 0.8 0.2 0.4]]\n",
      "[[0.4 0.6 0.8 0.4 0.8 0.6]\n",
      " [0.6 0.6 0.4 0.4 0.6 0.4]\n",
      " [0.8 0.2 0.2 0.6 0.8 0.8]\n",
      " [0.8 0.6 0.4 0.4 0.8 0.4]\n",
      " [0.6 0.8 0.2 0.4 0.8 0.8]\n",
      " [0.4 0.6 0.6 0.4 0.6 0.6]\n",
      " [0.4 0.8 0.2 0.8 0.2 0.4]]\n",
      "[[0.4 0.6 0.8 0.4 0.8 0.6]\n",
      " [0.6 0.6 0.4 0.4 0.6 0.4]\n",
      " [0.8 0.2 0.2 0.6 0.8 0.8]\n",
      " [0.8 0.6 0.4 0.4 0.8 0.4]\n",
      " [0.6 0.8 0.2 0.8 0.4 0.8]\n",
      " [0.4 0.6 0.4 0.6 0.6 0.6]\n",
      " [0.4 0.8 0.2 0.8 0.2 0.4]]\n",
      "[[0.4 0.6 0.8 0.4 0.8 0.6]\n",
      " [0.6 0.6 0.4 0.4 0.6 0.4]\n",
      " [0.8 0.2 0.2 0.6 0.8 0.8]\n",
      " [0.8 0.6 0.4 0.4 0.8 0.4]\n",
      " [0.6 0.8 0.2 0.8 0.4 0.8]\n",
      " [0.4 0.6 0.6 0.6 0.4 0.6]\n",
      " [0.4 0.8 0.2 0.8 0.2 0.4]]\n",
      "[[0.4 0.6 0.8 0.4 0.8 0.6]\n",
      " [0.6 0.6 0.4 0.4 0.6 0.4]\n",
      " [0.8 0.2 0.2 0.6 0.8 0.8]\n",
      " [0.8 0.6 0.4 0.4 0.8 0.4]\n",
      " [0.6 0.8 0.2 0.8 0.4 0.8]\n",
      " [0.4 0.6 0.6 0.4 0.6 0.6]\n",
      " [0.4 0.8 0.8 0.2 0.2 0.4]]\n",
      "[[0.4 0.6 0.8 0.4 0.8 0.6]\n",
      " [0.6 0.6 0.4 0.4 0.6 0.4]\n",
      " [0.8 0.2 0.2 0.6 0.8 0.8]\n",
      " [0.8 0.6 0.4 0.4 0.8 0.4]\n",
      " [0.6 0.8 0.2 0.8 0.4 0.8]\n",
      " [0.4 0.6 0.6 0.4 0.6 0.6]\n",
      " [0.4 0.8 0.2 0.2 0.8 0.4]]\n",
      "[[0.4 0.6 0.8 0.8 0.4 0.6]\n",
      " [0.6 0.6 0.4 0.4 0.6 0.4]\n",
      " [0.8 0.2 0.2 0.6 0.8 0.8]\n",
      " [0.8 0.6 0.4 0.4 0.8 0.4]\n",
      " [0.6 0.8 0.2 0.8 0.4 0.8]\n",
      " [0.4 0.6 0.6 0.4 0.6 0.6]\n",
      " [0.4 0.8 0.2 0.8 0.2 0.4]]\n",
      "[[0.4 0.6 0.8 0.4 0.6 0.8]\n",
      " [0.6 0.6 0.4 0.4 0.6 0.4]\n",
      " [0.8 0.2 0.2 0.6 0.8 0.8]\n",
      " [0.8 0.6 0.4 0.4 0.8 0.4]\n",
      " [0.6 0.8 0.2 0.8 0.4 0.8]\n",
      " [0.4 0.6 0.6 0.4 0.6 0.6]\n",
      " [0.4 0.8 0.2 0.8 0.2 0.4]]\n",
      "[[0.4 0.6 0.8 0.4 0.8 0.6]\n",
      " [0.6 0.6 0.4 0.6 0.4 0.4]\n",
      " [0.8 0.2 0.2 0.6 0.8 0.8]\n",
      " [0.8 0.6 0.4 0.4 0.8 0.4]\n",
      " [0.6 0.8 0.2 0.8 0.4 0.8]\n",
      " [0.4 0.6 0.6 0.4 0.6 0.6]\n",
      " [0.4 0.8 0.2 0.8 0.2 0.4]]\n",
      "[[0.4 0.6 0.8 0.4 0.8 0.6]\n",
      " [0.6 0.6 0.4 0.4 0.4 0.6]\n",
      " [0.8 0.2 0.2 0.6 0.8 0.8]\n",
      " [0.8 0.6 0.4 0.4 0.8 0.4]\n",
      " [0.6 0.8 0.2 0.8 0.4 0.8]\n",
      " [0.4 0.6 0.6 0.4 0.6 0.6]\n",
      " [0.4 0.8 0.2 0.8 0.2 0.4]]\n",
      "[[0.4 0.6 0.8 0.4 0.8 0.6]\n",
      " [0.6 0.6 0.4 0.4 0.6 0.4]\n",
      " [0.8 0.2 0.2 0.8 0.6 0.8]\n",
      " [0.8 0.6 0.4 0.4 0.8 0.4]\n",
      " [0.6 0.8 0.2 0.8 0.4 0.8]\n",
      " [0.4 0.6 0.6 0.4 0.6 0.6]\n",
      " [0.4 0.8 0.2 0.8 0.2 0.4]]\n",
      "[[0.4 0.6 0.8 0.4 0.8 0.6]\n",
      " [0.6 0.6 0.4 0.4 0.6 0.4]\n",
      " [0.8 0.2 0.2 0.6 0.8 0.8]\n",
      " [0.8 0.6 0.4 0.4 0.8 0.4]\n",
      " [0.6 0.8 0.2 0.8 0.4 0.8]\n",
      " [0.4 0.6 0.6 0.4 0.6 0.6]\n",
      " [0.4 0.8 0.2 0.8 0.2 0.4]]\n",
      "[[0.4 0.6 0.8 0.4 0.8 0.6]\n",
      " [0.6 0.6 0.4 0.4 0.6 0.4]\n",
      " [0.8 0.2 0.2 0.6 0.8 0.8]\n",
      " [0.8 0.6 0.4 0.8 0.4 0.4]\n",
      " [0.6 0.8 0.2 0.8 0.4 0.8]\n",
      " [0.4 0.6 0.6 0.4 0.6 0.6]\n",
      " [0.4 0.8 0.2 0.8 0.2 0.4]]\n",
      "[[0.4 0.6 0.8 0.4 0.8 0.6]\n",
      " [0.6 0.6 0.4 0.4 0.6 0.4]\n",
      " [0.8 0.2 0.2 0.6 0.8 0.8]\n",
      " [0.8 0.6 0.4 0.4 0.4 0.8]\n",
      " [0.6 0.8 0.2 0.8 0.4 0.8]\n",
      " [0.4 0.6 0.6 0.4 0.6 0.6]\n",
      " [0.4 0.8 0.2 0.8 0.2 0.4]]\n",
      "[[0.4 0.6 0.8 0.4 0.8 0.6]\n",
      " [0.6 0.6 0.4 0.4 0.6 0.4]\n",
      " [0.8 0.2 0.2 0.6 0.8 0.8]\n",
      " [0.8 0.6 0.4 0.4 0.8 0.4]\n",
      " [0.6 0.8 0.2 0.4 0.8 0.8]\n",
      " [0.4 0.6 0.6 0.4 0.6 0.6]\n",
      " [0.4 0.8 0.2 0.8 0.2 0.4]]\n",
      "[[0.4 0.6 0.8 0.4 0.8 0.6]\n",
      " [0.6 0.6 0.4 0.4 0.6 0.4]\n",
      " [0.8 0.2 0.2 0.6 0.8 0.8]\n",
      " [0.8 0.6 0.4 0.4 0.8 0.4]\n",
      " [0.6 0.8 0.2 0.8 0.8 0.4]\n",
      " [0.4 0.6 0.6 0.4 0.6 0.6]\n",
      " [0.4 0.8 0.2 0.8 0.2 0.4]]\n",
      "[[0.4 0.6 0.8 0.4 0.8 0.6]\n",
      " [0.6 0.6 0.4 0.4 0.6 0.4]\n",
      " [0.8 0.2 0.2 0.6 0.8 0.8]\n",
      " [0.8 0.6 0.4 0.4 0.8 0.4]\n",
      " [0.6 0.8 0.2 0.8 0.4 0.8]\n",
      " [0.4 0.6 0.6 0.6 0.4 0.6]\n",
      " [0.4 0.8 0.2 0.8 0.2 0.4]]\n",
      "[[0.4 0.6 0.8 0.4 0.8 0.6]\n",
      " [0.6 0.6 0.4 0.4 0.6 0.4]\n",
      " [0.8 0.2 0.2 0.6 0.8 0.8]\n",
      " [0.8 0.6 0.4 0.4 0.8 0.4]\n",
      " [0.6 0.8 0.2 0.8 0.4 0.8]\n",
      " [0.4 0.6 0.6 0.4 0.6 0.6]\n",
      " [0.4 0.8 0.2 0.8 0.2 0.4]]\n",
      "[[0.4 0.6 0.8 0.4 0.8 0.6]\n",
      " [0.6 0.6 0.4 0.4 0.6 0.4]\n",
      " [0.8 0.2 0.2 0.6 0.8 0.8]\n",
      " [0.8 0.6 0.4 0.4 0.8 0.4]\n",
      " [0.6 0.8 0.2 0.8 0.4 0.8]\n",
      " [0.4 0.6 0.6 0.4 0.6 0.6]\n",
      " [0.4 0.8 0.2 0.2 0.8 0.4]]\n",
      "[[0.4 0.6 0.8 0.4 0.8 0.6]\n",
      " [0.6 0.6 0.4 0.4 0.6 0.4]\n",
      " [0.8 0.2 0.2 0.6 0.8 0.8]\n",
      " [0.8 0.6 0.4 0.4 0.8 0.4]\n",
      " [0.6 0.8 0.2 0.8 0.4 0.8]\n",
      " [0.4 0.6 0.6 0.4 0.6 0.6]\n",
      " [0.4 0.8 0.2 0.8 0.4 0.2]]\n",
      "[[0.4 0.6 0.8 0.4 0.6 0.8]\n",
      " [0.6 0.6 0.4 0.4 0.6 0.4]\n",
      " [0.8 0.2 0.2 0.6 0.8 0.8]\n",
      " [0.8 0.6 0.4 0.4 0.8 0.4]\n",
      " [0.6 0.8 0.2 0.8 0.4 0.8]\n",
      " [0.4 0.6 0.6 0.4 0.6 0.6]\n",
      " [0.4 0.8 0.2 0.8 0.2 0.4]]\n",
      "[[0.4 0.6 0.8 0.4 0.8 0.6]\n",
      " [0.6 0.6 0.4 0.4 0.4 0.6]\n",
      " [0.8 0.2 0.2 0.6 0.8 0.8]\n",
      " [0.8 0.6 0.4 0.4 0.8 0.4]\n",
      " [0.6 0.8 0.2 0.8 0.4 0.8]\n",
      " [0.4 0.6 0.6 0.4 0.6 0.6]\n",
      " [0.4 0.8 0.2 0.8 0.2 0.4]]\n",
      "[[0.4 0.6 0.8 0.4 0.8 0.6]\n",
      " [0.6 0.6 0.4 0.4 0.6 0.4]\n",
      " [0.8 0.2 0.2 0.6 0.8 0.8]\n",
      " [0.8 0.6 0.4 0.4 0.8 0.4]\n",
      " [0.6 0.8 0.2 0.8 0.4 0.8]\n",
      " [0.4 0.6 0.6 0.4 0.6 0.6]\n",
      " [0.4 0.8 0.2 0.8 0.2 0.4]]\n",
      "[[0.4 0.6 0.8 0.4 0.8 0.6]\n",
      " [0.6 0.6 0.4 0.4 0.6 0.4]\n",
      " [0.8 0.2 0.2 0.6 0.8 0.8]\n",
      " [0.8 0.6 0.4 0.4 0.4 0.8]\n",
      " [0.6 0.8 0.2 0.8 0.4 0.8]\n",
      " [0.4 0.6 0.6 0.4 0.6 0.6]\n",
      " [0.4 0.8 0.2 0.8 0.2 0.4]]\n",
      "[[0.4 0.6 0.8 0.4 0.8 0.6]\n",
      " [0.6 0.6 0.4 0.4 0.6 0.4]\n",
      " [0.8 0.2 0.2 0.6 0.8 0.8]\n",
      " [0.8 0.6 0.4 0.4 0.8 0.4]\n",
      " [0.6 0.8 0.2 0.8 0.8 0.4]\n",
      " [0.4 0.6 0.6 0.4 0.6 0.6]\n",
      " [0.4 0.8 0.2 0.8 0.2 0.4]]\n",
      "[[0.4 0.6 0.8 0.4 0.8 0.6]\n",
      " [0.6 0.6 0.4 0.4 0.6 0.4]\n",
      " [0.8 0.2 0.2 0.6 0.8 0.8]\n",
      " [0.8 0.6 0.4 0.4 0.8 0.4]\n",
      " [0.6 0.8 0.2 0.8 0.4 0.8]\n",
      " [0.4 0.6 0.6 0.4 0.6 0.6]\n",
      " [0.4 0.8 0.2 0.8 0.2 0.4]]\n",
      "[[0.4 0.6 0.8 0.4 0.8 0.6]\n",
      " [0.6 0.6 0.4 0.4 0.6 0.4]\n",
      " [0.8 0.2 0.2 0.6 0.8 0.8]\n",
      " [0.8 0.6 0.4 0.4 0.8 0.4]\n",
      " [0.6 0.8 0.2 0.8 0.4 0.8]\n",
      " [0.4 0.6 0.6 0.4 0.6 0.6]\n",
      " [0.4 0.8 0.2 0.8 0.4 0.2]]\n"
     ]
    }
   ],
   "source": [
    "X_data = ()\n",
    "           \n",
    "for move in range(1, 143):\n",
    "    swapped = make_move(np.array(field), move)\n",
    "    X_data = X_data + ( swapped, )\n",
    "    print(swapped)\n",
    "\n",
    "# Теперь выбираем наиболее успешый ход из всех успешных\n",
    "X_data = np.expand_dims(np.stack(X_data, axis=0), axis=3)\n",
    "\n",
    "prediction = aero_cnn.predict(X_data)\n",
    "#print(prediction)\n",
    "\n",
    "best_move_score = prediction.max()\n",
    "best_move_number = prediction.argmax() + 1"
   ]
  },
  {
   "cell_type": "code",
   "execution_count": 62,
   "metadata": {},
   "outputs": [
    {
     "data": {
      "text/plain": [
       "array([[1, 1],\n",
       "       [1, 1]])"
      ]
     },
     "execution_count": 62,
     "metadata": {},
     "output_type": "execute_result"
    }
   ],
   "source": [
    "tmp1 = np.array([[1, 1], [1, 1]])\n",
    "tmp2 = tmp1 + 1\n",
    "tmp3 = tmp2 + 1\n",
    "\n",
    "X = ()\n",
    "X = X + (tmp1,)\n",
    "X = X + (tmp2,)\n",
    "X = X + (tmp3,)\n",
    "\n",
    "X = np.stack(X, axis=0)\n",
    "X[0, :, :] "
   ]
  },
  {
   "cell_type": "code",
   "execution_count": null,
   "metadata": {},
   "outputs": [],
   "source": []
  },
  {
   "cell_type": "code",
   "execution_count": null,
   "metadata": {},
   "outputs": [],
   "source": []
  },
  {
   "cell_type": "code",
   "execution_count": null,
   "metadata": {},
   "outputs": [],
   "source": []
  },
  {
   "cell_type": "code",
   "execution_count": null,
   "metadata": {},
   "outputs": [],
   "source": []
  },
  {
   "cell_type": "code",
   "execution_count": null,
   "metadata": {},
   "outputs": [],
   "source": []
  },
  {
   "cell_type": "code",
   "execution_count": 124,
   "metadata": {},
   "outputs": [
    {
     "name": "stdout",
     "output_type": "stream",
     "text": [
      "0\n",
      "0\n",
      "0\n",
      "3.0\n",
      "State before:\n",
      " [[0.8 0.4 0.2 0.6 0.6 0.8]\n",
      " [0.2 0.6 0.2 0.2 0.4 0.2]\n",
      " [0.8 0.2 0.6 0.4 0.4 0.8]\n",
      " [0.8 0.6 0.2 0.2 0.6 0.6]\n",
      " [0.2 0.8 0.6 0.4 0.6 0.6]\n",
      " [0.8 0.6 0.6 0.8 0.8 0.4]\n",
      " [0.6 0.4 0.4 0.8 0.2 0.4]]\n",
      "Score: 3.0\n",
      "State after:\n",
      " [[0.4 0.4 0.2 0.6 0.6 0.8]\n",
      " [0.2 0.6 0.2 0.2 0.4 0.2]\n",
      " [0.2 0.2 0.6 0.4 0.4 0.8]\n",
      " [0.8 0.6 0.2 0.2 0.6 0.6]\n",
      " [0.2 0.8 0.6 0.4 0.6 0.6]\n",
      " [0.2 0.6 0.6 0.8 0.8 0.4]\n",
      " [0.6 0.4 0.4 0.8 0.2 0.4]]\n"
     ]
    }
   ],
   "source": [
    "for m in replay_memory:\n",
    "    print(m[2])\n",
    "    if (m[2] > 0.):\n",
    "        print(\"State before:\\n\", m[0])\n",
    "        print(\"Score:\", m[2])\n",
    "        print(\"State after:\\n\", m[3])\n",
    "        break"
   ]
  },
  {
   "cell_type": "code",
   "execution_count": null,
   "metadata": {},
   "outputs": [],
   "source": []
  },
  {
   "cell_type": "code",
   "execution_count": null,
   "metadata": {},
   "outputs": [],
   "source": []
  },
  {
   "cell_type": "code",
   "execution_count": null,
   "metadata": {},
   "outputs": [],
   "source": []
  },
  {
   "cell_type": "code",
   "execution_count": null,
   "metadata": {},
   "outputs": [],
   "source": []
  },
  {
   "cell_type": "code",
   "execution_count": null,
   "metadata": {},
   "outputs": [],
   "source": []
  },
  {
   "cell_type": "code",
   "execution_count": null,
   "metadata": {},
   "outputs": [],
   "source": []
  },
  {
   "cell_type": "code",
   "execution_count": null,
   "metadata": {},
   "outputs": [],
   "source": []
  },
  {
   "cell_type": "code",
   "execution_count": null,
   "metadata": {},
   "outputs": [],
   "source": []
  },
  {
   "cell_type": "code",
   "execution_count": null,
   "metadata": {},
   "outputs": [],
   "source": []
  },
  {
   "cell_type": "code",
   "execution_count": null,
   "metadata": {},
   "outputs": [],
   "source": []
  },
  {
   "cell_type": "code",
   "execution_count": null,
   "metadata": {},
   "outputs": [],
   "source": []
  },
  {
   "cell_type": "code",
   "execution_count": null,
   "metadata": {},
   "outputs": [],
   "source": []
  },
  {
   "cell_type": "code",
   "execution_count": null,
   "metadata": {},
   "outputs": [],
   "source": []
  },
  {
   "cell_type": "code",
   "execution_count": null,
   "metadata": {},
   "outputs": [],
   "source": []
  },
  {
   "cell_type": "code",
   "execution_count": null,
   "metadata": {},
   "outputs": [],
   "source": []
  },
  {
   "cell_type": "code",
   "execution_count": null,
   "metadata": {},
   "outputs": [],
   "source": []
  },
  {
   "cell_type": "code",
   "execution_count": null,
   "metadata": {
    "collapsed": true
   },
   "outputs": [],
   "source": []
  },
  {
   "cell_type": "code",
   "execution_count": null,
   "metadata": {
    "collapsed": true
   },
   "outputs": [],
   "source": []
  },
  {
   "cell_type": "code",
   "execution_count": null,
   "metadata": {},
   "outputs": [],
   "source": []
  },
  {
   "cell_type": "code",
   "execution_count": null,
   "metadata": {},
   "outputs": [],
   "source": []
  },
  {
   "cell_type": "code",
   "execution_count": null,
   "metadata": {},
   "outputs": [],
   "source": []
  },
  {
   "cell_type": "code",
   "execution_count": null,
   "metadata": {},
   "outputs": [],
   "source": []
  },
  {
   "cell_type": "code",
   "execution_count": null,
   "metadata": {},
   "outputs": [],
   "source": []
  },
  {
   "cell_type": "code",
   "execution_count": null,
   "metadata": {
    "collapsed": true
   },
   "outputs": [],
   "source": []
  },
  {
   "cell_type": "code",
   "execution_count": null,
   "metadata": {
    "collapsed": true
   },
   "outputs": [],
   "source": []
  },
  {
   "cell_type": "code",
   "execution_count": 193,
   "metadata": {},
   "outputs": [
    {
     "name": "stdout",
     "output_type": "stream",
     "text": [
      "We can start a new game\n",
      "Handling last move...\n",
      "Game 0 over.\n",
      "---\n",
      "We can start a new game\n",
      "There are premium moves!!!\n",
      "Handling last move...\n",
      "Game 1 over.\n",
      "---\n",
      "We can start a new game\n",
      "Handling last move...\n",
      "Game 2 over.\n",
      "---\n",
      "We can start a new game\n",
      "There are premium moves!!!\n",
      "There are premium moves!!!\n",
      "Handling last move...\n",
      "Game 3 over.\n",
      "---\n",
      "We can start a new game\n",
      "Handling last move...\n",
      "Game 4 over.\n",
      "---\n",
      "We can start a new game\n",
      "There are premium moves!!!\n",
      "Handling last move...\n",
      "Game 5 over.\n",
      "---\n",
      "We can start a new game\n",
      "Handling last move...\n",
      "Game 6 over.\n",
      "---\n",
      "We can start a new game\n",
      "Handling last move...\n",
      "Game 7 over.\n",
      "---\n",
      "We can start a new game\n",
      "There are premium moves!!!\n",
      "There are premium moves!!!\n",
      "There are premium moves!!!\n",
      "Handling last move...\n",
      "Game 8 over.\n",
      "---\n",
      "We can start a new game\n",
      "There are premium moves!!!\n",
      "Handling last move...\n",
      "Game 9 over.\n",
      "---\n"
     ]
    }
   ],
   "source": [
    "#\n",
    "# Выравниваем приложение на экране\n",
    "#\n",
    "aeroflot_x, aeroflot_y, aeroflot_width, aeroflot_height = fix_window_coordinates_and_size(\"FRD L19\", use_external_screen=True)\n",
    "\n",
    "assert ((aeroflot_width == 380) and (aeroflot_height == 760)), print(\"Incorrect window size!\")\n",
    "\n",
    "win32api.Sleep(2000)\n",
    "\n",
    "# Максимальный размер памяти\n",
    "max_memory_size = 50000\n",
    "\n",
    "# Вероятность выбора случайного хода\n",
    "epsilon = 0.85\n",
    "\n",
    "# Размер минибатча\n",
    "minibatch = 64\n",
    "\n",
    "# Пенальти за будущие ходы\n",
    "gamma = 0.1\n",
    "\n",
    "# Основной цикл, в котором играем 10 игр\n",
    "for game in range(10):\n",
    "    if (check_if_new_game(aeroflot_x, aeroflot_y, parameters)):\n",
    "        # Press the Start New Game button\n",
    "        press_start(aeroflot_x, aeroflot_y)\n",
    "        win32api.Sleep(1000)\n",
    "    else:\n",
    "        print(\"Something is wrong. Exiting...\")\n",
    "        break\n",
    "\n",
    "    # Делаем 50 ходов. Последний ход нужно будет обработать отдельно. С ним есть нюанс\n",
    "    moves_left = 50\n",
    "    game_score = 0\n",
    "    reward = 0\n",
    "\n",
    "    # Взбодрим генератор случайных чисел\n",
    "    rd.seed()\n",
    "\n",
    "    # Делаем 50 ходов\n",
    "    while (moves_left > 0):\n",
    "        # Смотрим картинку перед ходом\n",
    "        s_before = pixelization_v3(aeroflot_x, aeroflot_y, recon)\n",
    "\n",
    "        # Выбираем ход. \n",
    "        #best_move_score, move = predict_max_score(s_before, aero_cnn, number_of_moves)\n",
    "        \n",
    "        # Ищем подходящий ход \n",
    "        # Сначала проверяем, нет ли премиальных ходов\n",
    "        # Иначе перебираем ходы случайным образом, пока не найдем успешный\n",
    "        premium_moves = find_premium_moves(s_before, MOVES_DICT)\n",
    "        \n",
    "        if (len(premium_moves) > 0):\n",
    "            print(\"There are premium moves!!!\")\n",
    "            move = rd.choice(premium_moves)\n",
    "        else:\n",
    "            move_found = False\n",
    "\n",
    "            while(not move_found):\n",
    "                prob = rd.uniform(0, 1)\n",
    "                move = rd.randint(1, number_of_moves)\n",
    "\n",
    "                swapped = swap_two_plates(np.array(s_before), move)\n",
    "\n",
    "                if (check_for_success(swapped)):\n",
    "                    move_found = True\n",
    "\n",
    "        #plates = np.array(s_before)\n",
    "        #swapped = swap_two_plates(plates, move)\n",
    "        #prediction = aero_cnn.predict( np.expand_dims(swapped, axis=0) )\n",
    "\n",
    "        # Делаем собственно ход\n",
    "        make_move(aeroflot_x, aeroflot_y, number_of_moves, move)\n",
    "\n",
    "        if (moves_left > 1):\n",
    "            picture_1 = pixelization_v3(aeroflot_x, aeroflot_y, recon)\n",
    "            win32api.Sleep(1000)\n",
    "            picture_2 = pixelization_v3(aeroflot_x, aeroflot_y, recon)\n",
    "\n",
    "            while (np.array_equal(picture_1, picture_2) == False):\n",
    "                picture_1 = pixelization_v3(aeroflot_x, aeroflot_y, recon)\n",
    "                win32api.Sleep(500)\n",
    "                picture_2 = pixelization_v3(aeroflot_x, aeroflot_y, recon)\n",
    "\n",
    "            # Определяем очки за ход - результат хода\n",
    "            current_score = get_current_score(aeroflot_x, aeroflot_y, parameters)\n",
    "\n",
    "            if (current_score != -1):\n",
    "                if ((game_score == 0) and (current_score == 10)):\n",
    "                        current_score = 0\n",
    "\n",
    "                reward = current_score - game_score\n",
    "                game_score = current_score\n",
    "\n",
    "            # Смотрим картинку после хода\n",
    "            s_after = picture_2\n",
    "\n",
    "        else:\n",
    "            # Это последний пятидесятый ход, его обрабатываем особенным образом\n",
    "            # Тут проблема в том, что экран потухнет, и будет надпись об окончании игры\n",
    "            # Нужно успеть вытащить счет и скрин с финальной разблюдовкой до этого момента\n",
    "            #\n",
    "            print(\"Handling last move...\")\n",
    "            last_move = []\n",
    "            counter = 50\n",
    "\n",
    "            picture_1 = pixelization_v3(aeroflot_x, aeroflot_y, recon)\n",
    "            current_score = get_current_score(aeroflot_x, aeroflot_y, parameters)\n",
    "\n",
    "            while ((current_score != -1) and (counter > 0)):\n",
    "                last_move.append((current_score, picture_1))\n",
    "\n",
    "                picture_1 = pixelization_v3(aeroflot_x, aeroflot_y, recon)\n",
    "                current_score = get_current_score(aeroflot_x, aeroflot_y, parameters)\n",
    "\n",
    "                counter = counter - 1\n",
    "\n",
    "            # Берем финальный счет и финальную картинку\n",
    "            if (counter < 50):\n",
    "                current_score = last_move[-1][0]\n",
    "                reward = current_score - game_score      \n",
    "                s_after = last_move[-1][1]\n",
    "            else:\n",
    "                reward = 0\n",
    "\n",
    "        # Если ход прошел без ошибок, то добавляем ход в память\n",
    "        if (current_score != -1):\n",
    "            if (len(replay_memory) == max_memory_size):\n",
    "                replay_memory.pop(0)\n",
    "\n",
    "            replay_memory.append((s_before, move, reward, s_after))     \n",
    "            \n",
    "        # DEBUG: отладочная информация\n",
    "        #print(\"Move {}: prediction {}, actual reward {}\".format(move, round(best_move_score, 4), reward))\n",
    "\n",
    "        # Конструируем минибатч\n",
    "        if (len(replay_memory) > minibatch):\n",
    "            samples = rd.sample(replay_memory, minibatch)\n",
    "\n",
    "            #\n",
    "            # Обучаем сеть\n",
    "            #\n",
    "            # Строим X_train и Y_train\n",
    "            #X_train = ()\n",
    "            #Y_train = np.zeros((minibatch, 1))\n",
    "            #\n",
    "            #for s in range(minibatch):\n",
    "            #    actn = samples[s][1]\n",
    "            #    rwrd = samples[s][2]\n",
    "            #\n",
    "            #    plates = np.array(samples[s][0])\n",
    "            #    X_train = X_train + ( swap_two_plates(plates, actn), )\n",
    "            #    \n",
    "            #    if (rwrd > 0):\n",
    "            #        Y_train[s, 0] = 1\n",
    "            #    else:\n",
    "            #        Y_train[s, 0] = 0\n",
    "            #    \n",
    "            #X_train = np.stack(X_train, axis=0)\n",
    "            #\n",
    "            # Делаем градиентный спуск, подкручиваем веса сети\n",
    "            #aero_cnn.fit(X_train, Y_train, epochs=25, verbose=0)\n",
    "            \n",
    "        #epsilon = epsilon - 0.001\n",
    "        moves_left = moves_left - 1\n",
    "\n",
    "    print(\"Game {} over.\".format(game))\n",
    "    print(\"---\")\n",
    "    win32api.Sleep(5000)\n",
    "    \n",
    "    # Запускаем новую игру, т.е. нажимаем на кнопку \"Еще раз\"\n",
    "    press_next_game(aeroflot_x, aeroflot_y)\n",
    "    win32api.Sleep(2000)"
   ]
  },
  {
   "cell_type": "code",
   "execution_count": null,
   "metadata": {
    "collapsed": true
   },
   "outputs": [],
   "source": []
  },
  {
   "cell_type": "code",
   "execution_count": 197,
   "metadata": {
    "collapsed": true
   },
   "outputs": [],
   "source": [
    "#\n",
    "# Very Important!!!\n",
    "#\n",
    "#aero_cnn.save(\"AeroCNN_v5.h5\")\n",
    "\n",
    "with open('replay_memory.pickle', 'wb') as f:\n",
    "    pickle.dump(replay_memory, f)"
   ]
  },
  {
   "cell_type": "code",
   "execution_count": 232,
   "metadata": {},
   "outputs": [
    {
     "data": {
      "text/plain": [
       "10"
      ]
     },
     "execution_count": 232,
     "metadata": {},
     "output_type": "execute_result"
    }
   ],
   "source": [
    "get_current_score(aeroflot_x, aeroflot_y, parameters)"
   ]
  },
  {
   "cell_type": "code",
   "execution_count": 194,
   "metadata": {},
   "outputs": [
    {
     "data": {
      "text/plain": [
       "3045"
      ]
     },
     "execution_count": 194,
     "metadata": {},
     "output_type": "execute_result"
    }
   ],
   "source": [
    "len(replay_memory)"
   ]
  },
  {
   "cell_type": "code",
   "execution_count": 196,
   "metadata": {},
   "outputs": [],
   "source": [
    "cnt = 0\n",
    "\n",
    "for item in replay_memory:\n",
    "    if (item[2] == 0):\n",
    "        print(cnt)\n",
    "        \n",
    "    cnt = cnt + 1"
   ]
  },
  {
   "cell_type": "code",
   "execution_count": 191,
   "metadata": {
    "collapsed": true
   },
   "outputs": [],
   "source": [
    "del replay_memory[2499]"
   ]
  },
  {
   "cell_type": "code",
   "execution_count": 161,
   "metadata": {},
   "outputs": [
    {
     "data": {
      "text/plain": [
       "9"
      ]
     },
     "execution_count": 161,
     "metadata": {},
     "output_type": "execute_result"
    }
   ],
   "source": [
    "replay_memory[-1][2]"
   ]
  },
  {
   "cell_type": "code",
   "execution_count": null,
   "metadata": {
    "collapsed": true
   },
   "outputs": [],
   "source": []
  },
  {
   "cell_type": "code",
   "execution_count": null,
   "metadata": {
    "collapsed": true
   },
   "outputs": [],
   "source": []
  },
  {
   "cell_type": "code",
   "execution_count": null,
   "metadata": {
    "collapsed": true
   },
   "outputs": [],
   "source": []
  },
  {
   "cell_type": "code",
   "execution_count": null,
   "metadata": {
    "collapsed": true
   },
   "outputs": [],
   "source": []
  },
  {
   "cell_type": "code",
   "execution_count": null,
   "metadata": {
    "collapsed": true
   },
   "outputs": [],
   "source": []
  },
  {
   "cell_type": "code",
   "execution_count": null,
   "metadata": {
    "collapsed": true
   },
   "outputs": [],
   "source": []
  },
  {
   "cell_type": "code",
   "execution_count": null,
   "metadata": {
    "collapsed": true
   },
   "outputs": [],
   "source": []
  },
  {
   "cell_type": "code",
   "execution_count": 356,
   "metadata": {
    "collapsed": true
   },
   "outputs": [],
   "source": []
  },
  {
   "cell_type": "code",
   "execution_count": 357,
   "metadata": {
    "collapsed": true
   },
   "outputs": [],
   "source": []
  },
  {
   "cell_type": "code",
   "execution_count": null,
   "metadata": {
    "collapsed": true
   },
   "outputs": [],
   "source": []
  },
  {
   "cell_type": "code",
   "execution_count": null,
   "metadata": {
    "collapsed": true
   },
   "outputs": [],
   "source": []
  },
  {
   "cell_type": "code",
   "execution_count": null,
   "metadata": {
    "collapsed": true
   },
   "outputs": [],
   "source": []
  },
  {
   "cell_type": "code",
   "execution_count": null,
   "metadata": {
    "collapsed": true
   },
   "outputs": [],
   "source": []
  },
  {
   "cell_type": "code",
   "execution_count": null,
   "metadata": {
    "collapsed": true
   },
   "outputs": [],
   "source": []
  },
  {
   "cell_type": "code",
   "execution_count": null,
   "metadata": {
    "collapsed": true
   },
   "outputs": [],
   "source": []
  },
  {
   "cell_type": "code",
   "execution_count": null,
   "metadata": {
    "collapsed": true
   },
   "outputs": [],
   "source": []
  },
  {
   "cell_type": "code",
   "execution_count": null,
   "metadata": {
    "collapsed": true
   },
   "outputs": [],
   "source": []
  },
  {
   "cell_type": "code",
   "execution_count": null,
   "metadata": {
    "collapsed": true
   },
   "outputs": [],
   "source": []
  },
  {
   "cell_type": "code",
   "execution_count": null,
   "metadata": {
    "collapsed": true
   },
   "outputs": [],
   "source": []
  },
  {
   "cell_type": "code",
   "execution_count": null,
   "metadata": {
    "collapsed": true
   },
   "outputs": [],
   "source": []
  },
  {
   "cell_type": "code",
   "execution_count": null,
   "metadata": {
    "collapsed": true
   },
   "outputs": [],
   "source": []
  },
  {
   "cell_type": "markdown",
   "metadata": {},
   "source": [
    "### Архитектура сети"
   ]
  },
  {
   "cell_type": "code",
   "execution_count": 35,
   "metadata": {},
   "outputs": [
    {
     "name": "stdout",
     "output_type": "stream",
     "text": [
      "_________________________________________________________________\n",
      "Layer (type)                 Output Shape              Param #   \n",
      "=================================================================\n",
      "input_1 (InputLayer)         (None, 7, 6, 4)           0         \n",
      "_________________________________________________________________\n",
      "conv0 (Conv2D)               (None, 7, 6, 64)          2368      \n",
      "_________________________________________________________________\n",
      "activation_1 (Activation)    (None, 7, 6, 64)          0         \n",
      "_________________________________________________________________\n",
      "conv1 (Conv2D)               (None, 7, 6, 64)          36928     \n",
      "_________________________________________________________________\n",
      "activation_2 (Activation)    (None, 7, 6, 64)          0         \n",
      "_________________________________________________________________\n",
      "flatten_1 (Flatten)          (None, 2688)              0         \n",
      "_________________________________________________________________\n",
      "fc0 (Dense)                  (None, 256)               688384    \n",
      "_________________________________________________________________\n",
      "activation_3 (Activation)    (None, 256)               0         \n",
      "_________________________________________________________________\n",
      "fc1 (Dense)                  (None, 16)                4112      \n",
      "_________________________________________________________________\n",
      "activation_4 (Activation)    (None, 16)                0         \n",
      "_________________________________________________________________\n",
      "fc2 (Dense)                  (None, 1)                 17        \n",
      "=================================================================\n",
      "Total params: 731,809\n",
      "Trainable params: 731,809\n",
      "Non-trainable params: 0\n",
      "_________________________________________________________________\n"
     ]
    }
   ],
   "source": [
    "aero_cnn.summary()"
   ]
  },
  {
   "cell_type": "markdown",
   "metadata": {
    "scrolled": true
   },
   "source": [
    "### Свёртка вручную, а то заебали эти нейронные сети"
   ]
  },
  {
   "cell_type": "code",
   "execution_count": 151,
   "metadata": {},
   "outputs": [
    {
     "data": {
      "text/plain": [
       "array([ 0.,  0.,  0.,  0.,  0.,  1.,  0.,  0.,  1.,  1.])"
      ]
     },
     "execution_count": 151,
     "metadata": {},
     "output_type": "execute_result"
    }
   ],
   "source": [
    "Y_train.reshape(-1)[:10]"
   ]
  },
  {
   "cell_type": "code",
   "execution_count": 153,
   "metadata": {},
   "outputs": [
    {
     "data": {
      "text/plain": [
       "array([[ 0.,  0.,  0.,  0.,  1.,  0.],\n",
       "       [ 0.,  1.,  1.,  1.,  0.,  0.],\n",
       "       [ 0.,  0.,  0.,  0.,  0.,  0.],\n",
       "       [ 0.,  0.,  0.,  1.,  1.,  0.],\n",
       "       [ 0.,  0.,  0.,  0.,  0.,  1.],\n",
       "       [ 1.,  0.,  0.,  0.,  0.,  0.],\n",
       "       [ 0.,  1.,  0.,  1.,  0.,  0.]])"
      ]
     },
     "execution_count": 153,
     "metadata": {},
     "output_type": "execute_result"
    }
   ],
   "source": [
    "X_train[5, :, :, 1]"
   ]
  },
  {
   "cell_type": "code",
   "execution_count": 158,
   "metadata": {},
   "outputs": [
    {
     "name": "stdout",
     "output_type": "stream",
     "text": [
      "[[ 2.  3.  2.  1.]\n",
      " [ 0.  0.  0.  0.]\n",
      " [ 0.  1.  2.  2.]\n",
      " [ 0.  0.  0.  1.]\n",
      " [ 1.  0.  0.  0.]]\n"
     ]
    }
   ],
   "source": [
    "res = convolve2d(X_train[5, :, :, 1], filter_horz, mode='valid')\n",
    "print(res)"
   ]
  },
  {
   "cell_type": "code",
   "execution_count": 169,
   "metadata": {
    "collapsed": true
   },
   "outputs": [],
   "source": []
  },
  {
   "cell_type": "code",
   "execution_count": null,
   "metadata": {
    "collapsed": true
   },
   "outputs": [],
   "source": []
  },
  {
   "cell_type": "code",
   "execution_count": null,
   "metadata": {
    "collapsed": true
   },
   "outputs": [],
   "source": []
  },
  {
   "cell_type": "markdown",
   "metadata": {},
   "source": [
    "### Вспомогательные процедуры"
   ]
  },
  {
   "cell_type": "code",
   "execution_count": null,
   "metadata": {
    "collapsed": true
   },
   "outputs": [],
   "source": []
  },
  {
   "cell_type": "code",
   "execution_count": 144,
   "metadata": {},
   "outputs": [
    {
     "name": "stdout",
     "output_type": "stream",
     "text": [
      "Number of zero-moves where before and after are not equal: 62\n",
      "Number of non-zero-moves where before and after are  equal: 17\n"
     ]
    }
   ],
   "source": [
    "#\n",
    "# Проверка на некорректные ходы:\n",
    "# - нулевые ходы, но картинка до не равна картинке после\n",
    "# - ненулевые ходы, но картинка до _равна_ картинке после\n",
    "#\n",
    "cnt1 = 0\n",
    "cnt2 = 0\n",
    "\n",
    "for item in replay_memory:\n",
    "    if ((item[2] == 0) and (not np.array_equal(item[0], item[3]))):\n",
    "        cnt1 = cnt1 + 1\n",
    "\n",
    "    if ((item[2] != 0) and (np.array_equal(item[0], item[3]))):\n",
    "        cnt2 = cnt2 + 1\n",
    "\n",
    "print(\"Number of zero-moves where before and after are not equal:\", cnt1)\n",
    "print(\"Number of non-zero-moves where before and after are equal:\", cnt2)"
   ]
  },
  {
   "cell_type": "code",
   "execution_count": null,
   "metadata": {
    "collapsed": true
   },
   "outputs": [],
   "source": []
  },
  {
   "cell_type": "code",
   "execution_count": 72,
   "metadata": {},
   "outputs": [
    {
     "data": {
      "text/plain": [
       "4"
      ]
     },
     "execution_count": 72,
     "metadata": {},
     "output_type": "execute_result"
    }
   ],
   "source": [
    "replay_memory[3991][2]"
   ]
  },
  {
   "cell_type": "markdown",
   "metadata": {
    "collapsed": true
   },
   "source": [
    "### Что предсказывает сеть, которую хорошо обучили на малом наборе данных"
   ]
  },
  {
   "cell_type": "code",
   "execution_count": 126,
   "metadata": {
    "scrolled": true
   },
   "outputs": [
    {
     "data": {
      "image/png": "[encoded data removed]",
      "text/plain": [
       "<matplotlib.figure.Figure at 0x113a9358>"
      ]
     },
     "metadata": {},
     "output_type": "display_data"
    }
   ],
   "source": [
    "pic = s_before\n",
    "\n",
    "fig, ax = plt.subplots(figsize=(5, 7))\n",
    "\n",
    "ax.set_xlim((0, 10))\n",
    "ax.set_ylim((0, 13))\n",
    "\n",
    "circles = []\n",
    "\n",
    "for ii in range(7):\n",
    "    for jj in range(6):\n",
    "        if (pic[ii, jj, 0] > 0):\n",
    "            val = pic[ii, jj, 0]\n",
    "            clr = \"red\"\n",
    "        elif (pic[ii, jj, 1] > 0):\n",
    "            val = pic[ii, jj, 1]\n",
    "            clr = \"lightgreen\"\n",
    "        elif (pic[ii, jj, 2] > 0):\n",
    "            val = pic[ii, jj, 2]\n",
    "            clr = \"cyan\"\n",
    "        else:\n",
    "            val = pic[ii, jj, 3]\n",
    "            clr = \"purple\"\n",
    "        \n",
    "        if (val == 1):\n",
    "            num_vertices = 3\n",
    "        elif (val == 1.2):\n",
    "            num_vertices = 4\n",
    "        else:\n",
    "            num_vertices = 5\n",
    "            \n",
    "        circles.append( mpatches.RegularPolygon((jj + 1, 7 - ii), numVertices=num_vertices, radius=0.4, color=clr) )\n",
    "\n",
    "for circ in circles:\n",
    "    ax.add_artist(circ)"
   ]
  },
  {
   "cell_type": "code",
   "execution_count": 1,
   "metadata": {
    "collapsed": true
   },
   "outputs": [],
   "source": [
    "GREAT_DICT = {1:1, 2:7, 3:19, 4:31, 5:43, 6:55, 7:2, 8:9, 9:21, 10:33, 11:45, 12:57, 13:3, 14:11, 15:23, 16:35, 17:47, 18:59, \n",
    "             19:4, 20:13, 21:25, 22:37, 23:49, 24:61, 25:5, 26:15, 27:27, 28:39, 29:51, 30:63, 31:6, 32:17, 33:29, 34:41,\n",
    "             35:53, 36:65, 37:73, 38:81, 39:95, 40:109, 41:123, 42:74, 43:83, 44:97, 45:111, 46:125, 47:75, 48:85, 49:99,\n",
    "             50:113, 51:127, 52:76, 53:87, 54:101, 55:115, 56:129, 57:77, 58:89, 59:103, 60:117, 61:131, 62:78, 63:91, 64:105,\n",
    "             65:119, 66:133, 67:79, 68:93, 69:107, 70:121, 71:135}"
   ]
  },
  {
   "cell_type": "code",
   "execution_count": 26,
   "metadata": {
    "collapsed": true
   },
   "outputs": [],
   "source": [
    "#with open('replay_memory_4D_old.pickle', 'rb') as f:\n",
    "#    replay_memory_old = pickle.load(f)"
   ]
  },
  {
   "cell_type": "code",
   "execution_count": 11,
   "metadata": {
    "collapsed": true
   },
   "outputs": [],
   "source": [
    "replay_memory_old_updated = []\n",
    "\n",
    "for item in replay_memory_old:\n",
    "    move71 = item[1]\n",
    "    move142 = GREAT_DICT[move71]\n",
    "    replay_memory_old_updated.append( (item[0], move142, item[2], item[3]) )"
   ]
  },
  {
   "cell_type": "code",
   "execution_count": 28,
   "metadata": {
    "collapsed": true
   },
   "outputs": [],
   "source": [
    "for item in replay_memory:\n",
    "    replay_memory_old.append(item)"
   ]
  },
  {
   "cell_type": "code",
   "execution_count": 188,
   "metadata": {},
   "outputs": [
    {
     "data": {
      "text/plain": [
       "11005"
      ]
     },
     "execution_count": 188,
     "metadata": {},
     "output_type": "execute_result"
    }
   ],
   "source": [
    "len(replay_memory)"
   ]
  },
  {
   "cell_type": "code",
   "execution_count": 189,
   "metadata": {},
   "outputs": [
    {
     "data": {
      "text/plain": [
       "array([[1, 0, 2],\n",
       "       [3, 3, 1],\n",
       "       [0, 2, 0]])"
      ]
     },
     "execution_count": 189,
     "metadata": {},
     "output_type": "execute_result"
    }
   ],
   "source": [
    "tmp = np.array([[1, 0, 2], [3, 3, 1], [0, 2, 0]])\n",
    "tmp"
   ]
  },
  {
   "cell_type": "code",
   "execution_count": 190,
   "metadata": {
    "collapsed": true
   },
   "outputs": [],
   "source": [
    "def myfunc(x):\n",
    "    if (x > 0):\n",
    "        x = 1 + (x - 1)*0.2\n",
    "    \n",
    "    return x\n",
    "\n",
    "vfunc = np.vectorize(myfunc)"
   ]
  },
  {
   "cell_type": "code",
   "execution_count": 196,
   "metadata": {},
   "outputs": [
    {
     "name": "stdout",
     "output_type": "stream",
     "text": [
      "Wall time: 1.23 s\n"
     ]
    }
   ],
   "source": [
    "%%time\n",
    "replay_memory_new = []\n",
    "counter = 0\n",
    "\n",
    "for item in replay_memory:\n",
    "    tup = (vfunc(item[0]), item[1], item[2], vfunc(item[3]))\n",
    "\n",
    "    replay_memory_new.append(tup)"
   ]
  },
  {
   "cell_type": "code",
   "execution_count": 97,
   "metadata": {},
   "outputs": [
    {
     "data": {
      "text/plain": [
       "(6.1822262, 116)"
      ]
     },
     "execution_count": 97,
     "metadata": {},
     "output_type": "execute_result"
    }
   ],
   "source": [
    "predict_max_score(s_before, aero_cnn, number_of_moves)"
   ]
  },
  {
   "cell_type": "code",
   "execution_count": null,
   "metadata": {},
   "outputs": [],
   "source": []
  },
  {
   "cell_type": "code",
   "execution_count": null,
   "metadata": {},
   "outputs": [],
   "source": []
  }
 ],
 "metadata": {
  "kernelspec": {
   "display_name": "Python 3",
   "language": "python",
   "name": "python3"
  },
  "language_info": {
   "codemirror_mode": {
    "name": "ipython",
    "version": 3
   },
   "file_extension": ".py",
   "mimetype": "text/x-python",
   "name": "python",
   "nbconvert_exporter": "python",
   "pygments_lexer": "ipython3",
   "version": "3.7.1"
  }
 },
 "nbformat": 4,
 "nbformat_minor": 2
}
